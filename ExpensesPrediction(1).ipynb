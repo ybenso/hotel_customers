{
  "nbformat": 4,
  "nbformat_minor": 0,
  "metadata": {
    "colab": {
      "name": "ExpensesPrediction.ipynb",
      "provenance": []
    },
    "kernelspec": {
      "name": "python3",
      "display_name": "Python 3"
    },
    "language_info": {
      "name": "python"
    }
  },
  "cells": [
    {
      "cell_type": "code",
      "execution_count": null,
      "metadata": {
        "colab": {
          "base_uri": "https://localhost:8080/"
        },
        "id": "dMCKTHatqt3x",
        "outputId": "a7e24c1a-cdd2-472c-aec9-cd17d95b3dd7"
      },
      "outputs": [
        {
          "output_type": "stream",
          "name": "stderr",
          "text": [
            "/usr/local/lib/python3.7/dist-packages/statsmodels/tools/_testing.py:19: FutureWarning: pandas.util.testing is deprecated. Use the functions in the public API at pandas.testing instead.\n",
            "  import pandas.util.testing as tm\n"
          ]
        }
      ],
      "source": [
        "import pandas as pd\n",
        "import seaborn as sb\n",
        "import numpy as np\n",
        "import matplotlib.pyplot as plt\n",
        "import statsmodels.api as sm\n",
        "\n",
        "from sklearn.linear_model import LinearRegression,RidgeCV,Ridge,LassoCV,Lasso\n",
        "from sklearn.ensemble import RandomForestRegressor\n",
        "import xgboost as xgb\n",
        "\n",
        "from sklearn.model_selection import train_test_split,GridSearchCV\n",
        "from sklearn.metrics import r2_score\n",
        "from sklearn.metrics import mean_squared_error\n",
        "from sklearn.preprocessing import StandardScaler"
      ]
    },
    {
      "cell_type": "code",
      "source": [
        "from google.colab import drive\n",
        "drive.mount('/content/drive')"
      ],
      "metadata": {
        "colab": {
          "base_uri": "https://localhost:8080/"
        },
        "id": "SJpLIfbaqw7n",
        "outputId": "67f0dde8-1162-41df-8ea1-ebcd3a8e14c8"
      },
      "execution_count": null,
      "outputs": [
        {
          "output_type": "stream",
          "name": "stdout",
          "text": [
            "Mounted at /content/drive\n"
          ]
        }
      ]
    },
    {
      "cell_type": "code",
      "source": [
        "def import_data():\n",
        "  df = pd.read_table(\"/content/drive/MyDrive/Statistical Data Mining Project/data/HotelCustomersDataset.tsv\").set_index(\"ID\")\n",
        "  df=df.drop(columns=['NameHash', 'DocIDHash'])\n",
        "  return df\n",
        "df=import_data()"
      ],
      "metadata": {
        "id": "N0roMpbMqyfx"
      },
      "execution_count": null,
      "outputs": []
    },
    {
      "cell_type": "markdown",
      "source": [
        "This notebook is about the Client Expenses. We want to predict hotel service expenses (food, beverage, etc.) based on the booking behavior."
      ],
      "metadata": {
        "id": "Cn1Dg2AGq_6I"
      }
    },
    {
      "cell_type": "code",
      "source": [
        "def fillna(df):\n",
        "  return df.fillna(df.mean())\n",
        "df=fillna(df)"
      ],
      "metadata": {
        "colab": {
          "base_uri": "https://localhost:8080/"
        },
        "id": "Mx2Jjaj9q3Kx",
        "outputId": "04428b42-5529-4938-e92a-5982d21ed206"
      },
      "execution_count": null,
      "outputs": [
        {
          "output_type": "stream",
          "name": "stderr",
          "text": [
            "/usr/local/lib/python3.7/dist-packages/ipykernel_launcher.py:2: FutureWarning: Dropping of nuisance columns in DataFrame reductions (with 'numeric_only=None') is deprecated; in a future version this will raise TypeError.  Select only valid columns before calling the reduction.\n",
            "  \n"
          ]
        }
      ]
    },
    {
      "cell_type": "code",
      "source": [
        "df"
      ],
      "metadata": {
        "id": "ma1fwVlfrR0c"
      },
      "execution_count": null,
      "outputs": []
    },
    {
      "cell_type": "code",
      "source": [
        "def get_dummies(df):\n",
        "  return pd.get_dummies(df)\n",
        "df=get_dummies(df)"
      ],
      "metadata": {
        "id": "4jfMn84urbBZ"
      },
      "execution_count": null,
      "outputs": []
    },
    {
      "cell_type": "code",
      "source": [
        "df"
      ],
      "metadata": {
        "colab": {
          "base_uri": "https://localhost:8080/",
          "height": 536
        },
        "id": "xVG8L-c0ruYq",
        "outputId": "1894eabc-141b-4537-f359-ffb1cf700b53"
      },
      "execution_count": null,
      "outputs": [
        {
          "output_type": "execute_result",
          "data": {
            "text/plain": [
              "             Age  DaysSinceCreation  AverageLeadTime  LodgingRevenue  \\\n",
              "ID                                                                     \n",
              "1      51.000000                150               45           371.0   \n",
              "2      45.398028               1095               61           280.0   \n",
              "3      31.000000               1095                0             0.0   \n",
              "4      60.000000               1095               93           240.0   \n",
              "5      51.000000               1095                0             0.0   \n",
              "...          ...                ...              ...             ...   \n",
              "83586  54.000000                  0                0             0.0   \n",
              "83587  47.000000                  0              109           327.1   \n",
              "83588  53.000000                  0                0             0.0   \n",
              "83589  85.000000                  0              109           981.3   \n",
              "83590  13.000000                  0                0             0.0   \n",
              "\n",
              "       OtherRevenue  BookingsCanceled  BookingsNoShowed  BookingsCheckedIn  \\\n",
              "ID                                                                           \n",
              "1             105.3                 1                 0                  3   \n",
              "2              53.0                 0                 0                  1   \n",
              "3               0.0                 0                 0                  0   \n",
              "4              60.0                 0                 0                  1   \n",
              "5               0.0                 0                 0                  0   \n",
              "...             ...               ...               ...                ...   \n",
              "83586           0.0                 0                 0                  0   \n",
              "83587         277.5                 0                 0                  1   \n",
              "83588           0.0                 0                 0                  0   \n",
              "83589           9.0                 0                 0                  1   \n",
              "83590           0.0                 0                 0                  0   \n",
              "\n",
              "       PersonsNights  RoomNights  ...  DistributionChannel_Direct  \\\n",
              "ID                                ...                               \n",
              "1                  8           5  ...                           0   \n",
              "2                 10           5  ...                           0   \n",
              "3                  0           0  ...                           0   \n",
              "4                 10           5  ...                           0   \n",
              "5                  0           0  ...                           0   \n",
              "...              ...         ...  ...                         ...   \n",
              "83586              0           0  ...                           0   \n",
              "83587              6           3  ...                           0   \n",
              "83588              0           0  ...                           0   \n",
              "83589              6           3  ...                           0   \n",
              "83590              0           0  ...                           0   \n",
              "\n",
              "       DistributionChannel_Electronic Distribution  \\\n",
              "ID                                                   \n",
              "1                                                0   \n",
              "2                                                0   \n",
              "3                                                0   \n",
              "4                                                0   \n",
              "5                                                0   \n",
              "...                                            ...   \n",
              "83586                                            0   \n",
              "83587                                            0   \n",
              "83588                                            0   \n",
              "83589                                            0   \n",
              "83590                                            0   \n",
              "\n",
              "       DistributionChannel_Travel Agent/Operator  MarketSegment_Aviation  \\\n",
              "ID                                                                         \n",
              "1                                              0                       0   \n",
              "2                                              1                       0   \n",
              "3                                              1                       0   \n",
              "4                                              1                       0   \n",
              "5                                              1                       0   \n",
              "...                                          ...                     ...   \n",
              "83586                                          1                       0   \n",
              "83587                                          1                       0   \n",
              "83588                                          1                       0   \n",
              "83589                                          1                       0   \n",
              "83590                                          1                       0   \n",
              "\n",
              "       MarketSegment_Complementary  MarketSegment_Corporate  \\\n",
              "ID                                                            \n",
              "1                                0                        1   \n",
              "2                                0                        0   \n",
              "3                                0                        0   \n",
              "4                                0                        0   \n",
              "5                                0                        0   \n",
              "...                            ...                      ...   \n",
              "83586                            0                        0   \n",
              "83587                            0                        0   \n",
              "83588                            0                        0   \n",
              "83589                            0                        0   \n",
              "83590                            0                        0   \n",
              "\n",
              "       MarketSegment_Direct  MarketSegment_Groups  MarketSegment_Other  \\\n",
              "ID                                                                       \n",
              "1                         0                     0                    0   \n",
              "2                         0                     0                    0   \n",
              "3                         0                     0                    0   \n",
              "4                         0                     0                    0   \n",
              "5                         0                     0                    0   \n",
              "...                     ...                   ...                  ...   \n",
              "83586                     0                     0                    1   \n",
              "83587                     0                     0                    1   \n",
              "83588                     0                     0                    1   \n",
              "83589                     0                     0                    1   \n",
              "83590                     0                     0                    1   \n",
              "\n",
              "       MarketSegment_Travel Agent/Operator  \n",
              "ID                                          \n",
              "1                                        0  \n",
              "2                                        1  \n",
              "3                                        1  \n",
              "4                                        1  \n",
              "5                                        1  \n",
              "...                                    ...  \n",
              "83586                                    0  \n",
              "83587                                    0  \n",
              "83588                                    0  \n",
              "83589                                    0  \n",
              "83590                                    0  \n",
              "\n",
              "[83590 rows x 224 columns]"
            ],
            "text/html": [
              "\n",
              "  <div id=\"df-6a45cf68-ba6d-495c-bc26-4cae2bbe5e59\">\n",
              "    <div class=\"colab-df-container\">\n",
              "      <div>\n",
              "<style scoped>\n",
              "    .dataframe tbody tr th:only-of-type {\n",
              "        vertical-align: middle;\n",
              "    }\n",
              "\n",
              "    .dataframe tbody tr th {\n",
              "        vertical-align: top;\n",
              "    }\n",
              "\n",
              "    .dataframe thead th {\n",
              "        text-align: right;\n",
              "    }\n",
              "</style>\n",
              "<table border=\"1\" class=\"dataframe\">\n",
              "  <thead>\n",
              "    <tr style=\"text-align: right;\">\n",
              "      <th></th>\n",
              "      <th>Age</th>\n",
              "      <th>DaysSinceCreation</th>\n",
              "      <th>AverageLeadTime</th>\n",
              "      <th>LodgingRevenue</th>\n",
              "      <th>OtherRevenue</th>\n",
              "      <th>BookingsCanceled</th>\n",
              "      <th>BookingsNoShowed</th>\n",
              "      <th>BookingsCheckedIn</th>\n",
              "      <th>PersonsNights</th>\n",
              "      <th>RoomNights</th>\n",
              "      <th>...</th>\n",
              "      <th>DistributionChannel_Direct</th>\n",
              "      <th>DistributionChannel_Electronic Distribution</th>\n",
              "      <th>DistributionChannel_Travel Agent/Operator</th>\n",
              "      <th>MarketSegment_Aviation</th>\n",
              "      <th>MarketSegment_Complementary</th>\n",
              "      <th>MarketSegment_Corporate</th>\n",
              "      <th>MarketSegment_Direct</th>\n",
              "      <th>MarketSegment_Groups</th>\n",
              "      <th>MarketSegment_Other</th>\n",
              "      <th>MarketSegment_Travel Agent/Operator</th>\n",
              "    </tr>\n",
              "    <tr>\n",
              "      <th>ID</th>\n",
              "      <th></th>\n",
              "      <th></th>\n",
              "      <th></th>\n",
              "      <th></th>\n",
              "      <th></th>\n",
              "      <th></th>\n",
              "      <th></th>\n",
              "      <th></th>\n",
              "      <th></th>\n",
              "      <th></th>\n",
              "      <th></th>\n",
              "      <th></th>\n",
              "      <th></th>\n",
              "      <th></th>\n",
              "      <th></th>\n",
              "      <th></th>\n",
              "      <th></th>\n",
              "      <th></th>\n",
              "      <th></th>\n",
              "      <th></th>\n",
              "      <th></th>\n",
              "    </tr>\n",
              "  </thead>\n",
              "  <tbody>\n",
              "    <tr>\n",
              "      <th>1</th>\n",
              "      <td>51.000000</td>\n",
              "      <td>150</td>\n",
              "      <td>45</td>\n",
              "      <td>371.0</td>\n",
              "      <td>105.3</td>\n",
              "      <td>1</td>\n",
              "      <td>0</td>\n",
              "      <td>3</td>\n",
              "      <td>8</td>\n",
              "      <td>5</td>\n",
              "      <td>...</td>\n",
              "      <td>0</td>\n",
              "      <td>0</td>\n",
              "      <td>0</td>\n",
              "      <td>0</td>\n",
              "      <td>0</td>\n",
              "      <td>1</td>\n",
              "      <td>0</td>\n",
              "      <td>0</td>\n",
              "      <td>0</td>\n",
              "      <td>0</td>\n",
              "    </tr>\n",
              "    <tr>\n",
              "      <th>2</th>\n",
              "      <td>45.398028</td>\n",
              "      <td>1095</td>\n",
              "      <td>61</td>\n",
              "      <td>280.0</td>\n",
              "      <td>53.0</td>\n",
              "      <td>0</td>\n",
              "      <td>0</td>\n",
              "      <td>1</td>\n",
              "      <td>10</td>\n",
              "      <td>5</td>\n",
              "      <td>...</td>\n",
              "      <td>0</td>\n",
              "      <td>0</td>\n",
              "      <td>1</td>\n",
              "      <td>0</td>\n",
              "      <td>0</td>\n",
              "      <td>0</td>\n",
              "      <td>0</td>\n",
              "      <td>0</td>\n",
              "      <td>0</td>\n",
              "      <td>1</td>\n",
              "    </tr>\n",
              "    <tr>\n",
              "      <th>3</th>\n",
              "      <td>31.000000</td>\n",
              "      <td>1095</td>\n",
              "      <td>0</td>\n",
              "      <td>0.0</td>\n",
              "      <td>0.0</td>\n",
              "      <td>0</td>\n",
              "      <td>0</td>\n",
              "      <td>0</td>\n",
              "      <td>0</td>\n",
              "      <td>0</td>\n",
              "      <td>...</td>\n",
              "      <td>0</td>\n",
              "      <td>0</td>\n",
              "      <td>1</td>\n",
              "      <td>0</td>\n",
              "      <td>0</td>\n",
              "      <td>0</td>\n",
              "      <td>0</td>\n",
              "      <td>0</td>\n",
              "      <td>0</td>\n",
              "      <td>1</td>\n",
              "    </tr>\n",
              "    <tr>\n",
              "      <th>4</th>\n",
              "      <td>60.000000</td>\n",
              "      <td>1095</td>\n",
              "      <td>93</td>\n",
              "      <td>240.0</td>\n",
              "      <td>60.0</td>\n",
              "      <td>0</td>\n",
              "      <td>0</td>\n",
              "      <td>1</td>\n",
              "      <td>10</td>\n",
              "      <td>5</td>\n",
              "      <td>...</td>\n",
              "      <td>0</td>\n",
              "      <td>0</td>\n",
              "      <td>1</td>\n",
              "      <td>0</td>\n",
              "      <td>0</td>\n",
              "      <td>0</td>\n",
              "      <td>0</td>\n",
              "      <td>0</td>\n",
              "      <td>0</td>\n",
              "      <td>1</td>\n",
              "    </tr>\n",
              "    <tr>\n",
              "      <th>5</th>\n",
              "      <td>51.000000</td>\n",
              "      <td>1095</td>\n",
              "      <td>0</td>\n",
              "      <td>0.0</td>\n",
              "      <td>0.0</td>\n",
              "      <td>0</td>\n",
              "      <td>0</td>\n",
              "      <td>0</td>\n",
              "      <td>0</td>\n",
              "      <td>0</td>\n",
              "      <td>...</td>\n",
              "      <td>0</td>\n",
              "      <td>0</td>\n",
              "      <td>1</td>\n",
              "      <td>0</td>\n",
              "      <td>0</td>\n",
              "      <td>0</td>\n",
              "      <td>0</td>\n",
              "      <td>0</td>\n",
              "      <td>0</td>\n",
              "      <td>1</td>\n",
              "    </tr>\n",
              "    <tr>\n",
              "      <th>...</th>\n",
              "      <td>...</td>\n",
              "      <td>...</td>\n",
              "      <td>...</td>\n",
              "      <td>...</td>\n",
              "      <td>...</td>\n",
              "      <td>...</td>\n",
              "      <td>...</td>\n",
              "      <td>...</td>\n",
              "      <td>...</td>\n",
              "      <td>...</td>\n",
              "      <td>...</td>\n",
              "      <td>...</td>\n",
              "      <td>...</td>\n",
              "      <td>...</td>\n",
              "      <td>...</td>\n",
              "      <td>...</td>\n",
              "      <td>...</td>\n",
              "      <td>...</td>\n",
              "      <td>...</td>\n",
              "      <td>...</td>\n",
              "      <td>...</td>\n",
              "    </tr>\n",
              "    <tr>\n",
              "      <th>83586</th>\n",
              "      <td>54.000000</td>\n",
              "      <td>0</td>\n",
              "      <td>0</td>\n",
              "      <td>0.0</td>\n",
              "      <td>0.0</td>\n",
              "      <td>0</td>\n",
              "      <td>0</td>\n",
              "      <td>0</td>\n",
              "      <td>0</td>\n",
              "      <td>0</td>\n",
              "      <td>...</td>\n",
              "      <td>0</td>\n",
              "      <td>0</td>\n",
              "      <td>1</td>\n",
              "      <td>0</td>\n",
              "      <td>0</td>\n",
              "      <td>0</td>\n",
              "      <td>0</td>\n",
              "      <td>0</td>\n",
              "      <td>1</td>\n",
              "      <td>0</td>\n",
              "    </tr>\n",
              "    <tr>\n",
              "      <th>83587</th>\n",
              "      <td>47.000000</td>\n",
              "      <td>0</td>\n",
              "      <td>109</td>\n",
              "      <td>327.1</td>\n",
              "      <td>277.5</td>\n",
              "      <td>0</td>\n",
              "      <td>0</td>\n",
              "      <td>1</td>\n",
              "      <td>6</td>\n",
              "      <td>3</td>\n",
              "      <td>...</td>\n",
              "      <td>0</td>\n",
              "      <td>0</td>\n",
              "      <td>1</td>\n",
              "      <td>0</td>\n",
              "      <td>0</td>\n",
              "      <td>0</td>\n",
              "      <td>0</td>\n",
              "      <td>0</td>\n",
              "      <td>1</td>\n",
              "      <td>0</td>\n",
              "    </tr>\n",
              "    <tr>\n",
              "      <th>83588</th>\n",
              "      <td>53.000000</td>\n",
              "      <td>0</td>\n",
              "      <td>0</td>\n",
              "      <td>0.0</td>\n",
              "      <td>0.0</td>\n",
              "      <td>0</td>\n",
              "      <td>0</td>\n",
              "      <td>0</td>\n",
              "      <td>0</td>\n",
              "      <td>0</td>\n",
              "      <td>...</td>\n",
              "      <td>0</td>\n",
              "      <td>0</td>\n",
              "      <td>1</td>\n",
              "      <td>0</td>\n",
              "      <td>0</td>\n",
              "      <td>0</td>\n",
              "      <td>0</td>\n",
              "      <td>0</td>\n",
              "      <td>1</td>\n",
              "      <td>0</td>\n",
              "    </tr>\n",
              "    <tr>\n",
              "      <th>83589</th>\n",
              "      <td>85.000000</td>\n",
              "      <td>0</td>\n",
              "      <td>109</td>\n",
              "      <td>981.3</td>\n",
              "      <td>9.0</td>\n",
              "      <td>0</td>\n",
              "      <td>0</td>\n",
              "      <td>1</td>\n",
              "      <td>6</td>\n",
              "      <td>3</td>\n",
              "      <td>...</td>\n",
              "      <td>0</td>\n",
              "      <td>0</td>\n",
              "      <td>1</td>\n",
              "      <td>0</td>\n",
              "      <td>0</td>\n",
              "      <td>0</td>\n",
              "      <td>0</td>\n",
              "      <td>0</td>\n",
              "      <td>1</td>\n",
              "      <td>0</td>\n",
              "    </tr>\n",
              "    <tr>\n",
              "      <th>83590</th>\n",
              "      <td>13.000000</td>\n",
              "      <td>0</td>\n",
              "      <td>0</td>\n",
              "      <td>0.0</td>\n",
              "      <td>0.0</td>\n",
              "      <td>0</td>\n",
              "      <td>0</td>\n",
              "      <td>0</td>\n",
              "      <td>0</td>\n",
              "      <td>0</td>\n",
              "      <td>...</td>\n",
              "      <td>0</td>\n",
              "      <td>0</td>\n",
              "      <td>1</td>\n",
              "      <td>0</td>\n",
              "      <td>0</td>\n",
              "      <td>0</td>\n",
              "      <td>0</td>\n",
              "      <td>0</td>\n",
              "      <td>1</td>\n",
              "      <td>0</td>\n",
              "    </tr>\n",
              "  </tbody>\n",
              "</table>\n",
              "<p>83590 rows × 224 columns</p>\n",
              "</div>\n",
              "      <button class=\"colab-df-convert\" onclick=\"convertToInteractive('df-6a45cf68-ba6d-495c-bc26-4cae2bbe5e59')\"\n",
              "              title=\"Convert this dataframe to an interactive table.\"\n",
              "              style=\"display:none;\">\n",
              "        \n",
              "  <svg xmlns=\"http://www.w3.org/2000/svg\" height=\"24px\"viewBox=\"0 0 24 24\"\n",
              "       width=\"24px\">\n",
              "    <path d=\"M0 0h24v24H0V0z\" fill=\"none\"/>\n",
              "    <path d=\"M18.56 5.44l.94 2.06.94-2.06 2.06-.94-2.06-.94-.94-2.06-.94 2.06-2.06.94zm-11 1L8.5 8.5l.94-2.06 2.06-.94-2.06-.94L8.5 2.5l-.94 2.06-2.06.94zm10 10l.94 2.06.94-2.06 2.06-.94-2.06-.94-.94-2.06-.94 2.06-2.06.94z\"/><path d=\"M17.41 7.96l-1.37-1.37c-.4-.4-.92-.59-1.43-.59-.52 0-1.04.2-1.43.59L10.3 9.45l-7.72 7.72c-.78.78-.78 2.05 0 2.83L4 21.41c.39.39.9.59 1.41.59.51 0 1.02-.2 1.41-.59l7.78-7.78 2.81-2.81c.8-.78.8-2.07 0-2.86zM5.41 20L4 18.59l7.72-7.72 1.47 1.35L5.41 20z\"/>\n",
              "  </svg>\n",
              "      </button>\n",
              "      \n",
              "  <style>\n",
              "    .colab-df-container {\n",
              "      display:flex;\n",
              "      flex-wrap:wrap;\n",
              "      gap: 12px;\n",
              "    }\n",
              "\n",
              "    .colab-df-convert {\n",
              "      background-color: #E8F0FE;\n",
              "      border: none;\n",
              "      border-radius: 50%;\n",
              "      cursor: pointer;\n",
              "      display: none;\n",
              "      fill: #1967D2;\n",
              "      height: 32px;\n",
              "      padding: 0 0 0 0;\n",
              "      width: 32px;\n",
              "    }\n",
              "\n",
              "    .colab-df-convert:hover {\n",
              "      background-color: #E2EBFA;\n",
              "      box-shadow: 0px 1px 2px rgba(60, 64, 67, 0.3), 0px 1px 3px 1px rgba(60, 64, 67, 0.15);\n",
              "      fill: #174EA6;\n",
              "    }\n",
              "\n",
              "    [theme=dark] .colab-df-convert {\n",
              "      background-color: #3B4455;\n",
              "      fill: #D2E3FC;\n",
              "    }\n",
              "\n",
              "    [theme=dark] .colab-df-convert:hover {\n",
              "      background-color: #434B5C;\n",
              "      box-shadow: 0px 1px 3px 1px rgba(0, 0, 0, 0.15);\n",
              "      filter: drop-shadow(0px 1px 2px rgba(0, 0, 0, 0.3));\n",
              "      fill: #FFFFFF;\n",
              "    }\n",
              "  </style>\n",
              "\n",
              "      <script>\n",
              "        const buttonEl =\n",
              "          document.querySelector('#df-6a45cf68-ba6d-495c-bc26-4cae2bbe5e59 button.colab-df-convert');\n",
              "        buttonEl.style.display =\n",
              "          google.colab.kernel.accessAllowed ? 'block' : 'none';\n",
              "\n",
              "        async function convertToInteractive(key) {\n",
              "          const element = document.querySelector('#df-6a45cf68-ba6d-495c-bc26-4cae2bbe5e59');\n",
              "          const dataTable =\n",
              "            await google.colab.kernel.invokeFunction('convertToInteractive',\n",
              "                                                     [key], {});\n",
              "          if (!dataTable) return;\n",
              "\n",
              "          const docLinkHtml = 'Like what you see? Visit the ' +\n",
              "            '<a target=\"_blank\" href=https://colab.research.google.com/notebooks/data_table.ipynb>data table notebook</a>'\n",
              "            + ' to learn more about interactive tables.';\n",
              "          element.innerHTML = '';\n",
              "          dataTable['output_type'] = 'display_data';\n",
              "          await google.colab.output.renderOutput(dataTable, element);\n",
              "          const docLink = document.createElement('div');\n",
              "          docLink.innerHTML = docLinkHtml;\n",
              "          element.appendChild(docLink);\n",
              "        }\n",
              "      </script>\n",
              "    </div>\n",
              "  </div>\n",
              "  "
            ]
          },
          "metadata": {},
          "execution_count": 8
        }
      ]
    },
    {
      "cell_type": "code",
      "source": [
        ""
      ],
      "metadata": {
        "id": "gWHthfJysyZS"
      },
      "execution_count": null,
      "outputs": []
    },
    {
      "cell_type": "code",
      "source": [
        "X=np.asarray(df.loc[:, df.columns != 'OtherRevenue'])\n",
        "y=np.asarray(df['OtherRevenue'])\n",
        "X_train, X_test, y_train, y_test = train_test_split(X, y, test_size=0.2, random_state=42)\n"
      ],
      "metadata": {
        "id": "hldTM7oErvV2"
      },
      "execution_count": null,
      "outputs": []
    },
    {
      "cell_type": "markdown",
      "source": [
        "## Linear regression"
      ],
      "metadata": {
        "id": "m077vgCb8AT5"
      }
    },
    {
      "cell_type": "code",
      "source": [
        "reg = LinearRegression().fit(X_train, y_train)\n",
        "print(\"MSE:\",mean_squared_error(y_train,reg.predict(X_train)),mean_squared_error(y_test,reg.predict(X_test)))\n",
        "print(\"R2:\",r2_score(y_train,reg.predict(X_train)),r2_score(y_test,reg.predict(X_test)))"
      ],
      "metadata": {
        "colab": {
          "base_uri": "https://localhost:8080/"
        },
        "id": "lsmFVEJ875yI",
        "outputId": "22c18548-1633-4e23-a334-4044ca856c26"
      },
      "execution_count": null,
      "outputs": [
        {
          "output_type": "stream",
          "name": "stdout",
          "text": [
            "MSE: 8844.440859977853 3001092500882.37\n",
            "R2: 0.3480341525332825 -270609504.79028606\n"
          ]
        }
      ]
    },
    {
      "cell_type": "code",
      "source": [
        "\n",
        "model = sm.OLS(y_train,X_train)\n",
        "results = model.fit()\n",
        "results.summary(xname=list(df.loc[:, df.columns != 'OtherRevenue'].columns))"
      ],
      "metadata": {
        "colab": {
          "base_uri": "https://localhost:8080/",
          "height": 1000
        },
        "id": "qQOvtabaoOQ8",
        "outputId": "5d1ffeb4-3f54-4d4b-c1d8-4335c0cdea95"
      },
      "execution_count": null,
      "outputs": [
        {
          "output_type": "execute_result",
          "data": {
            "text/plain": [
              "<class 'statsmodels.iolib.summary.Summary'>\n",
              "\"\"\"\n",
              "                            OLS Regression Results                            \n",
              "==============================================================================\n",
              "Dep. Variable:                      y   R-squared:                       0.348\n",
              "Model:                            OLS   Adj. R-squared:                  0.346\n",
              "Method:                 Least Squares   F-statistic:                     168.6\n",
              "Date:                Wed, 04 May 2022   Prob (F-statistic):               0.00\n",
              "Time:                        01:17:05   Log-Likelihood:            -3.9874e+05\n",
              "No. Observations:               66872   AIC:                         7.979e+05\n",
              "Df Residuals:                   66660   BIC:                         7.998e+05\n",
              "Df Model:                         211                                         \n",
              "Covariance Type:            nonrobust                                         \n",
              "===============================================================================================================\n",
              "                                                  coef    std err          t      P>|t|      [0.025      0.975]\n",
              "---------------------------------------------------------------------------------------------------------------\n",
              "Age                                             0.3477      0.024     14.368      0.000       0.300       0.395\n",
              "DaysSinceCreation                               0.0198      0.003      6.297      0.000       0.014       0.026\n",
              "AverageLeadTime                                 0.0638      0.005     12.953      0.000       0.054       0.073\n",
              "LodgingRevenue                                  0.1091      0.001     76.561      0.000       0.106       0.112\n",
              "BookingsCanceled                              -16.0066      6.434     -2.488      0.013     -28.617      -3.396\n",
              "BookingsNoShowed                              -14.1567     13.937     -1.016      0.310     -41.472      13.159\n",
              "BookingsCheckedIn                               3.7720      0.921      4.097      0.000       1.968       5.576\n",
              "PersonsNights                                   8.8292      0.163     54.258      0.000       8.510       9.148\n",
              "RoomNights                                     -5.7369      0.371    -15.456      0.000      -6.464      -5.009\n",
              "DaysSinceLastStay                              -0.0835      0.013     -6.526      0.000      -0.109      -0.058\n",
              "DaysSinceFirstStay                              0.0790      0.014      5.806      0.000       0.052       0.106\n",
              "SRHighFloor                                    -0.0145      1.751     -0.008      0.993      -3.447       3.418\n",
              "SRLowFloor                                      0.5936      9.851      0.060      0.952     -18.715      19.902\n",
              "SRAccessibleRoom                                9.7819     23.739      0.412      0.680     -36.746      56.310\n",
              "SRMediumFloor                                  16.1316     12.108      1.332      0.183      -7.600      39.863\n",
              "SRBathtub                                       5.1155      6.889      0.743      0.458      -8.386      18.617\n",
              "SRShower                                       11.0043      8.631      1.275      0.202      -5.912      27.920\n",
              "SRCrib                                         15.6819      3.230      4.855      0.000       9.351      22.013\n",
              "SRKingSizeBed                                   3.5177      0.872      4.035      0.000       1.809       5.226\n",
              "SRTwinBed                                       3.5395      1.124      3.150      0.002       1.337       5.742\n",
              "SRNearElevator                                 -7.9848     20.709     -0.386      0.700     -48.574      32.605\n",
              "SRAwayFromElevator                              9.3574      6.222      1.504      0.133      -2.839      21.553\n",
              "SRNoAlcoholInMiniBar                           78.6760     34.112      2.306      0.021      11.816     145.536\n",
              "SRQuietRoom                                    -1.5171      1.336     -1.136      0.256      -4.135       1.101\n",
              "Nationality_ABW                               -48.0038     54.220     -0.885      0.376    -154.276      58.268\n",
              "Nationality_AGO                                 4.4486      8.528      0.522      0.602     -12.266      21.163\n",
              "Nationality_AIA                               -43.8124     54.230     -0.808      0.419    -150.103      62.478\n",
              "Nationality_ALB                                -3.7051     27.314     -0.136      0.892     -57.241      49.831\n",
              "Nationality_AND                                25.8074     38.432      0.672      0.502     -49.520     101.135\n",
              "Nationality_ARE                                -6.1958     18.766     -0.330      0.741     -42.978      30.586\n",
              "Nationality_ARG                                10.7470      8.683      1.238      0.216      -6.271      27.765\n",
              "Nationality_ARM                                93.3971     31.458      2.969      0.003      31.740     155.054\n",
              "Nationality_ASM                                29.1443     54.230      0.537      0.591     -77.146     135.435\n",
              "Nationality_ATA                               -12.5741     54.217     -0.232      0.817    -118.839      93.691\n",
              "Nationality_ATF                                 0.1067     31.458      0.003      0.997     -61.551      61.765\n",
              "Nationality_ATG                                -4.3521     54.218     -0.080      0.936    -110.619     101.914\n",
              "Nationality_AUS                                15.1977      5.395      2.817      0.005       4.624      25.771\n",
              "Nationality_AUT                                 4.3532      4.643      0.938      0.348      -4.746      13.453\n",
              "Nationality_AZE                                -2.7172     15.810     -0.172      0.864     -33.706      28.271\n",
              "Nationality_BEL                                14.7022      4.215      3.488      0.000       6.441      22.963\n",
              "Nationality_BEN                               -50.0209     54.219     -0.923      0.356    -156.289      56.248\n",
              "Nationality_BGD                               -22.7311     38.430     -0.591      0.554     -98.054      52.592\n",
              "Nationality_BGR                                10.0709      9.133      1.103      0.270      -7.830      27.972\n",
              "Nationality_BHR                                 3.9703     54.221      0.073      0.942    -102.303     110.243\n",
              "Nationality_BHS                                -5.9391     93.759     -0.063      0.949    -189.706     177.828\n",
              "Nationality_BIH                                 2.0236     23.038      0.088      0.930     -43.132      47.179\n",
              "Nationality_BLR                               -14.1506     18.444     -0.767      0.443     -50.301      21.999\n",
              "Nationality_BOL                               -21.0493     33.360     -0.631      0.528     -86.435      44.337\n",
              "Nationality_BRA                                 4.3974      4.251      1.035      0.301      -3.934      12.728\n",
              "Nationality_BRB                               -11.0473     35.615     -0.310      0.756     -80.853      58.758\n",
              "Nationality_BWA                               -36.5384     54.224     -0.674      0.500    -142.817      69.740\n",
              "Nationality_CAF                               -30.8998     46.991     -0.658      0.511    -123.002      61.202\n",
              "Nationality_CAN                                -1.5495      4.644     -0.334      0.739     -10.652       7.553\n",
              "Nationality_CHE                                -0.9359      4.417     -0.212      0.832      -9.593       7.721\n",
              "Nationality_CHL                                 5.7294     12.775      0.448      0.654     -19.309      30.768\n",
              "Nationality_CHN                                -9.7071      5.133     -1.891      0.059     -19.767       0.353\n",
              "Nationality_CIV                                36.7259     54.219      0.677      0.498     -69.543     142.994\n",
              "Nationality_CMR                                 3.0931     22.409      0.138      0.890     -40.828      47.014\n",
              "Nationality_COD                               -17.4586     46.997     -0.371      0.710    -109.573      74.656\n",
              "Nationality_COL                                 0.4954     13.303      0.037      0.970     -25.578      26.569\n",
              "Nationality_COM                                54.9465     66.348      0.828      0.408     -75.095     184.988\n",
              "Nationality_CPV                                 3.9003     42.069      0.093      0.926     -78.554      86.355\n",
              "Nationality_CRI                               -14.9179     26.262     -0.568      0.570     -66.391      36.556\n",
              "Nationality_CUB                               -28.1676     31.454     -0.896      0.371     -89.818      33.483\n",
              "Nationality_CYM                               -29.0524     66.360     -0.438      0.662    -159.118     101.013\n",
              "Nationality_CYP                                 5.2613     14.472      0.364      0.716     -23.103      33.626\n",
              "Nationality_CZE                                 1.1620      7.567      0.154      0.878     -13.669      15.993\n",
              "Nationality_DEU                                 2.9609      3.922      0.755      0.450      -4.727      10.648\n",
              "Nationality_DMA                               -13.5973     93.755     -0.145      0.885    -197.357     170.163\n",
              "Nationality_DNK                                -1.2370      5.552     -0.223      0.824     -12.118       9.644\n",
              "Nationality_DOM                               -11.1164     28.501     -0.390      0.697     -66.978      44.745\n",
              "Nationality_DZA                                -4.4342     12.691     -0.349      0.727     -29.308      20.439\n",
              "Nationality_ECU                                 5.1810     22.407      0.231      0.817     -38.736      49.098\n",
              "Nationality_EGY                               -36.8164     23.037     -1.598      0.110     -81.968       8.335\n",
              "Nationality_ERI                                25.4083     66.349      0.383      0.702    -104.636     155.453\n",
              "Nationality_ESP                                 4.2721      4.060      1.052      0.293      -3.685      12.230\n",
              "Nationality_EST                               -19.2951      9.989     -1.932      0.053     -38.874       0.284\n",
              "Nationality_ETH                                 4.1496     54.217      0.077      0.939    -102.115     110.415\n",
              "Nationality_FIN                                -5.7144      5.575     -1.025      0.305     -16.641       5.212\n",
              "Nationality_FJI                                25.0927     93.756      0.268      0.789    -158.668     208.854\n",
              "Nationality_FLK                               -62.4802     93.754     -0.666      0.505    -246.238     121.277\n",
              "Nationality_FRA                                14.9585      3.890      3.846      0.000       7.335      22.582\n",
              "Nationality_FRO                              1.833e-11   3.27e-11      0.561      0.575   -4.57e-11    8.24e-11\n",
              "Nationality_GAB                               -20.1505     46.999     -0.429      0.668    -112.268      71.967\n",
              "Nationality_GBR                                 3.3673      3.940      0.855      0.393      -4.355      11.090\n",
              "Nationality_GEO                                76.2825     33.340      2.288      0.022      10.936     141.629\n",
              "Nationality_GHA                                -1.0960     54.218     -0.020      0.984    -107.363     105.171\n",
              "Nationality_GIB                               263.1281     66.348      3.966      0.000     133.086     393.171\n",
              "Nationality_GIN                                 7.2502     93.763      0.077      0.938    -176.526     191.027\n",
              "Nationality_GNB                               -14.5455     28.509     -0.510      0.610     -70.424      41.333\n",
              "Nationality_GNQ                                11.5367     93.762      0.123      0.902    -172.237     195.310\n",
              "Nationality_GRC                                -5.0811      7.839     -0.648      0.517     -20.445      10.283\n",
              "Nationality_GTM                                -5.4746     38.433     -0.142      0.887     -80.803      69.854\n",
              "Nationality_GUF                              1.393e-10   2.53e-10      0.551      0.582   -3.56e-10    6.35e-10\n",
              "Nationality_GUY                               -31.5279     93.758     -0.336      0.737    -215.294     152.238\n",
              "Nationality_HKG                                11.2098     54.221      0.207      0.836     -95.063     117.483\n",
              "Nationality_HRV                                 1.6146      9.775      0.165      0.869     -17.545      20.774\n",
              "Nationality_HTI                                 4.3632     54.218      0.080      0.936    -101.905     110.631\n",
              "Nationality_HUN                                 3.6719      6.947      0.529      0.597      -9.944      17.288\n",
              "Nationality_IDN                               -11.6373     25.324     -0.460      0.646     -61.273      37.998\n",
              "Nationality_IND                                 0.9579      8.420      0.114      0.909     -15.546      17.462\n",
              "Nationality_IOT                                29.1550     93.756      0.311      0.756    -154.607     212.917\n",
              "Nationality_IRL                                -8.1123      4.443     -1.826      0.068     -16.820       0.595\n",
              "Nationality_IRN                                -7.0239     12.869     -0.546      0.585     -32.248      18.200\n",
              "Nationality_IRQ                               110.1426     33.341      3.303      0.001      44.793     175.492\n",
              "Nationality_ISL                                34.1359     14.780      2.310      0.021       5.166      63.105\n",
              "Nationality_ISR                               -15.1924      5.153     -2.948      0.003     -25.292      -5.093\n",
              "Nationality_ITA                                 4.6442      4.182      1.110      0.267      -3.553      12.841\n",
              "Nationality_JAM                               153.8294     93.758      1.641      0.101     -29.936     337.595\n",
              "Nationality_JEY                             -2.149e-11   7.75e-11     -0.277      0.782   -1.73e-10     1.3e-10\n",
              "Nationality_JOR                               -38.3296     26.776     -1.432      0.152     -90.810      14.151\n",
              "Nationality_JPN                               -19.5518      7.452     -2.624      0.009     -34.158      -4.946\n",
              "Nationality_KAZ                                -6.0797     24.487     -0.248      0.804     -54.075      41.915\n",
              "Nationality_KEN                                -7.7724     35.612     -0.218      0.827     -77.573      62.028\n",
              "Nationality_KGZ                                 1.2839     47.000      0.027      0.978     -90.835      93.403\n",
              "Nationality_KIR                                34.3889     93.754      0.367      0.714    -149.370     218.147\n",
              "Nationality_KNA                                25.1870     93.770      0.269      0.788    -158.602     208.976\n",
              "Nationality_KOR                                -2.8233      8.379     -0.337      0.736     -19.245      13.599\n",
              "Nationality_KWT                               -25.5128     31.463     -0.811      0.417     -87.179      36.154\n",
              "Nationality_LAO                               -27.2210     93.761     -0.290      0.772    -210.992     156.550\n",
              "Nationality_LBN                               -20.0378     17.804     -1.125      0.260     -54.934      14.858\n",
              "Nationality_LBY                                10.6145     33.339      0.318      0.750     -54.730      75.959\n",
              "Nationality_LCA                               -81.9607     93.760     -0.874      0.382    -265.731     101.810\n",
              "Nationality_LIE                               -18.0050     38.440     -0.468      0.640     -93.347      57.337\n",
              "Nationality_LKA                                 2.7976     38.453      0.073      0.942     -72.569      78.165\n",
              "Nationality_LTU                                 2.1063     13.531      0.156      0.876     -24.415      28.627\n",
              "Nationality_LUX                                10.7312      7.839      1.369      0.171      -4.634      26.097\n",
              "Nationality_LVA                                 7.1867     11.894      0.604      0.546     -16.125      30.498\n",
              "Nationality_MAR                                23.0709      8.910      2.589      0.010       5.608      40.534\n",
              "Nationality_MCO                                 8.4819     54.221      0.156      0.876     -97.792     114.756\n",
              "Nationality_MDG                                -0.6556     66.348     -0.010      0.992    -130.698     129.387\n",
              "Nationality_MDV                                12.7115     54.224      0.234      0.815     -93.568     118.991\n",
              "Nationality_MEX                                -7.0940      8.968     -0.791      0.429     -24.671      10.483\n",
              "Nationality_MKD                                13.7701     25.335      0.544      0.587     -35.887      63.427\n",
              "Nationality_MLI                               -52.1779     54.230     -0.962      0.336    -158.470      54.114\n",
              "Nationality_MLT                                 0.3881     17.250      0.022      0.982     -33.422      34.198\n",
              "Nationality_MMR                               -22.6131     93.755     -0.241      0.809    -206.373     161.147\n",
              "Nationality_MNE                               -10.0472     46.994     -0.214      0.831    -102.156      82.062\n",
              "Nationality_MOZ                                11.4459     11.896      0.962      0.336     -11.870      34.761\n",
              "Nationality_MRT                                -1.2504     93.756     -0.013      0.989    -185.012     182.511\n",
              "Nationality_MUS                                30.1648     38.449      0.785      0.433     -45.195     105.525\n",
              "Nationality_MWI                                74.9656     93.762      0.800      0.424    -108.808     258.739\n",
              "Nationality_MYS                               -23.5591     22.402     -1.052      0.293     -67.468      20.349\n",
              "Nationality_NAM                               -14.7638     38.519     -0.383      0.702     -90.260      60.733\n",
              "Nationality_NCL                                22.0638     93.770      0.235      0.814    -161.725     205.853\n",
              "Nationality_NGA                                24.6634     29.867      0.826      0.409     -33.877      83.203\n",
              "Nationality_NIC                                16.9884     93.753      0.181      0.856    -166.768     200.745\n",
              "Nationality_NLD                                 3.3047      4.270      0.774      0.439      -5.064      11.673\n",
              "Nationality_NOR                                11.3956      5.346      2.132      0.033       0.918      21.874\n",
              "Nationality_NPL                             -1.217e-10   2.01e-10     -0.605      0.545   -5.16e-10    2.72e-10\n",
              "Nationality_NRU                              2.454e-11   6.21e-11      0.395      0.693   -9.71e-11    1.46e-10\n",
              "Nationality_NZL                                11.4603     11.670      0.982      0.326     -11.412      34.333\n",
              "Nationality_OMN                                 0.8735     54.219      0.016      0.987    -105.396     107.143\n",
              "Nationality_PAK                                -8.7072     29.867     -0.292      0.771     -67.247      49.832\n",
              "Nationality_PAN                                30.6782     31.458      0.975      0.329     -30.980      92.336\n",
              "Nationality_PCN                               -10.3211     93.783     -0.110      0.912    -194.135     173.493\n",
              "Nationality_PER                                11.5001     18.105      0.635      0.525     -23.986      46.986\n",
              "Nationality_PHL                               -13.0807     14.786     -0.885      0.376     -42.061      15.900\n",
              "Nationality_PNG                             -1.335e-10   2.56e-10     -0.521      0.602   -6.36e-10    3.69e-10\n",
              "Nationality_POL                                -0.7216      5.378     -0.134      0.893     -11.262       9.819\n",
              "Nationality_PRI                               -16.1062     93.753     -0.172      0.864    -199.862     167.650\n",
              "Nationality_PRT                                 7.0256      3.911      1.797      0.072      -0.639      14.690\n",
              "Nationality_PRY                                 3.7279     35.610      0.105      0.917     -66.068      73.524\n",
              "Nationality_PYF                                54.3535     93.764      0.580      0.562    -129.424     238.131\n",
              "Nationality_QAT                               -14.7995     54.218     -0.273      0.785    -121.066      91.467\n",
              "Nationality_ROU                                -5.4650      6.199     -0.882      0.378     -17.615       6.685\n",
              "Nationality_RUS                                -4.7117      5.751     -0.819      0.413     -15.983       6.560\n",
              "Nationality_RWA                               -17.6200     38.431     -0.458      0.647     -92.945      57.705\n",
              "Nationality_SAU                                 0.9819     19.494      0.050      0.960     -37.227      39.190\n",
              "Nationality_SDN                               -35.9637     93.762     -0.384      0.701    -219.737     147.809\n",
              "Nationality_SEN                                61.6470     42.066      1.465      0.143     -20.802     144.096\n",
              "Nationality_SGP                               -14.3650     16.504     -0.870      0.384     -46.713      17.983\n",
              "Nationality_SLE                               -12.1140     66.351     -0.183      0.855    -142.162     117.934\n",
              "Nationality_SLV                              -116.9739     93.768     -1.247      0.212    -300.759      66.811\n",
              "Nationality_SMR                               -33.7746     54.224     -0.623      0.533    -140.053      72.504\n",
              "Nationality_SOM                               -10.7242     93.759     -0.114      0.909    -194.492     173.044\n",
              "Nationality_SPM                               -14.9460     66.377     -0.225      0.822    -145.044     115.152\n",
              "Nationality_SRB                                -8.8408      9.431     -0.937      0.349     -27.326       9.644\n",
              "Nationality_STP                               -23.6054     54.260     -0.435      0.664    -129.955      82.744\n",
              "Nationality_SUR                               -12.2924     38.435     -0.320      0.749     -87.626      63.041\n",
              "Nationality_SVK                                -4.3424     12.870     -0.337      0.736     -29.567      20.882\n",
              "Nationality_SVN                               -16.6313     13.798     -1.205      0.228     -43.676      10.413\n",
              "Nationality_SWE                                -0.0688      4.823     -0.014      0.989      -9.521       9.383\n",
              "Nationality_SWZ                               -27.9285     93.757     -0.298      0.766    -211.692     155.835\n",
              "Nationality_SYC                                -5.9141     35.736     -0.165      0.869     -75.956      64.128\n",
              "Nationality_SYR                               -81.6630     54.220     -1.506      0.132    -187.933      24.607\n",
              "Nationality_TCD                               -74.8091     93.760     -0.798      0.425    -258.579     108.960\n",
              "Nationality_TGO                               -27.4369     46.994     -0.584      0.559    -119.545      64.672\n",
              "Nationality_THA                               -19.8983     16.516     -1.205      0.228     -52.270      12.474\n",
              "Nationality_TJK                                14.1819     93.760      0.151      0.880    -169.588     197.951\n",
              "Nationality_TKM                                 1.6270     93.757      0.017      0.986    -182.136     185.390\n",
              "Nationality_TMP                                21.1801     93.774      0.226      0.821    -162.617     204.977\n",
              "Nationality_TON                                17.6266     93.764      0.188      0.851    -166.150     201.404\n",
              "Nationality_TUN                                -7.5552     18.461     -0.409      0.682     -43.739      28.629\n",
              "Nationality_TUR                                19.7231      8.885      2.220      0.026       2.309      37.137\n",
              "Nationality_TWN                               -20.6915     13.651     -1.516      0.130     -47.448       6.064\n",
              "Nationality_TZA                              1.407e-10   2.53e-10      0.556      0.578   -3.56e-10    6.37e-10\n",
              "Nationality_UGA                                23.4266     46.995      0.498      0.618     -68.684     115.537\n",
              "Nationality_UKR                                 6.8854     11.598      0.594      0.553     -15.847      29.617\n",
              "Nationality_UMI                               -27.1689     66.350     -0.409      0.682    -157.215     102.877\n",
              "Nationality_URY                               -10.9204     18.118     -0.603      0.547     -46.431      24.590\n",
              "Nationality_USA                                 3.3257      4.187      0.794      0.427      -4.881      11.532\n",
              "Nationality_UZB                                27.0040     93.754      0.288      0.773    -156.754     210.762\n",
              "Nationality_VCT                              3.122e-10   6.74e-10      0.463      0.643   -1.01e-09    1.63e-09\n",
              "Nationality_VEN                                11.3406     19.904      0.570      0.569     -27.670      50.352\n",
              "Nationality_VIR                               -52.9852     93.762     -0.565      0.572    -236.759     130.789\n",
              "Nationality_VNM                                 2.3807     19.908      0.120      0.905     -36.639      41.400\n",
              "Nationality_WLF                                 4.1346     66.352      0.062      0.950    -125.915     134.184\n",
              "Nationality_WSM                               -17.9042     93.767     -0.191      0.849    -201.687     165.878\n",
              "Nationality_YEM                              1.254e-10   2.69e-10      0.466      0.641   -4.02e-10    6.52e-10\n",
              "Nationality_ZAF                               -14.3236     13.654     -1.049      0.294     -41.085      12.437\n",
              "Nationality_ZWE                               -28.6818     93.759     -0.306      0.760    -212.450     155.086\n",
              "DistributionChannel_Corporate                 -17.5827      3.812     -4.613      0.000     -25.054     -10.111\n",
              "DistributionChannel_Direct                    -21.7594      4.156     -5.235      0.000     -29.906     -13.613\n",
              "DistributionChannel_Electronic Distribution   -19.0184      5.227     -3.639      0.000     -29.263      -8.774\n",
              "DistributionChannel_Travel Agent/Operator     -15.4214      3.062     -5.037      0.000     -21.422      -9.421\n",
              "MarketSegment_Aviation                        -12.8547      6.997     -1.837      0.066     -26.569       0.859\n",
              "MarketSegment_Complementary                   -19.9548      5.122     -3.896      0.000     -29.994      -9.915\n",
              "MarketSegment_Corporate                        -1.9527      3.386     -0.577      0.564      -8.590       4.685\n",
              "MarketSegment_Direct                           -3.8451      3.662     -1.050      0.294     -11.022       3.332\n",
              "MarketSegment_Groups                          -10.7271      2.393     -4.483      0.000     -15.417      -6.037\n",
              "MarketSegment_Other                           -18.4219      2.297     -8.019      0.000     -22.924     -13.919\n",
              "MarketSegment_Travel Agent/Operator            -6.0255      2.431     -2.479      0.013     -10.790      -1.261\n",
              "==============================================================================\n",
              "Omnibus:                   138933.643   Durbin-Watson:                   1.997\n",
              "Prob(Omnibus):                  0.000   Jarque-Bera (JB):       2052569359.918\n",
              "Skew:                          17.194   Prob(JB):                         0.00\n",
              "Kurtosis:                     860.597   Cond. No.                     2.48e+21\n",
              "==============================================================================\n",
              "\n",
              "Warnings:\n",
              "[1] Standard Errors assume that the covariance matrix of the errors is correctly specified.\n",
              "[2] The smallest eigenvalue is 1.03e-32. This might indicate that there are\n",
              "strong multicollinearity problems or that the design matrix is singular.\n",
              "\"\"\""
            ],
            "text/html": [
              "<table class=\"simpletable\">\n",
              "<caption>OLS Regression Results</caption>\n",
              "<tr>\n",
              "  <th>Dep. Variable:</th>            <td>y</td>        <th>  R-squared:         </th>  <td>   0.348</td>  \n",
              "</tr>\n",
              "<tr>\n",
              "  <th>Model:</th>                   <td>OLS</td>       <th>  Adj. R-squared:    </th>  <td>   0.346</td>  \n",
              "</tr>\n",
              "<tr>\n",
              "  <th>Method:</th>             <td>Least Squares</td>  <th>  F-statistic:       </th>  <td>   168.6</td>  \n",
              "</tr>\n",
              "<tr>\n",
              "  <th>Date:</th>             <td>Wed, 04 May 2022</td> <th>  Prob (F-statistic):</th>   <td>  0.00</td>   \n",
              "</tr>\n",
              "<tr>\n",
              "  <th>Time:</th>                 <td>01:17:05</td>     <th>  Log-Likelihood:    </th> <td>-3.9874e+05</td>\n",
              "</tr>\n",
              "<tr>\n",
              "  <th>No. Observations:</th>      <td> 66872</td>      <th>  AIC:               </th>  <td>7.979e+05</td> \n",
              "</tr>\n",
              "<tr>\n",
              "  <th>Df Residuals:</th>          <td> 66660</td>      <th>  BIC:               </th>  <td>7.998e+05</td> \n",
              "</tr>\n",
              "<tr>\n",
              "  <th>Df Model:</th>              <td>   211</td>      <th>                     </th>      <td> </td>     \n",
              "</tr>\n",
              "<tr>\n",
              "  <th>Covariance Type:</th>      <td>nonrobust</td>    <th>                     </th>      <td> </td>     \n",
              "</tr>\n",
              "</table>\n",
              "<table class=\"simpletable\">\n",
              "<tr>\n",
              "                       <td></td>                          <th>coef</th>     <th>std err</th>      <th>t</th>      <th>P>|t|</th>  <th>[0.025</th>    <th>0.975]</th>  \n",
              "</tr>\n",
              "<tr>\n",
              "  <th>Age</th>                                         <td>    0.3477</td> <td>    0.024</td> <td>   14.368</td> <td> 0.000</td> <td>    0.300</td> <td>    0.395</td>\n",
              "</tr>\n",
              "<tr>\n",
              "  <th>DaysSinceCreation</th>                           <td>    0.0198</td> <td>    0.003</td> <td>    6.297</td> <td> 0.000</td> <td>    0.014</td> <td>    0.026</td>\n",
              "</tr>\n",
              "<tr>\n",
              "  <th>AverageLeadTime</th>                             <td>    0.0638</td> <td>    0.005</td> <td>   12.953</td> <td> 0.000</td> <td>    0.054</td> <td>    0.073</td>\n",
              "</tr>\n",
              "<tr>\n",
              "  <th>LodgingRevenue</th>                              <td>    0.1091</td> <td>    0.001</td> <td>   76.561</td> <td> 0.000</td> <td>    0.106</td> <td>    0.112</td>\n",
              "</tr>\n",
              "<tr>\n",
              "  <th>BookingsCanceled</th>                            <td>  -16.0066</td> <td>    6.434</td> <td>   -2.488</td> <td> 0.013</td> <td>  -28.617</td> <td>   -3.396</td>\n",
              "</tr>\n",
              "<tr>\n",
              "  <th>BookingsNoShowed</th>                            <td>  -14.1567</td> <td>   13.937</td> <td>   -1.016</td> <td> 0.310</td> <td>  -41.472</td> <td>   13.159</td>\n",
              "</tr>\n",
              "<tr>\n",
              "  <th>BookingsCheckedIn</th>                           <td>    3.7720</td> <td>    0.921</td> <td>    4.097</td> <td> 0.000</td> <td>    1.968</td> <td>    5.576</td>\n",
              "</tr>\n",
              "<tr>\n",
              "  <th>PersonsNights</th>                               <td>    8.8292</td> <td>    0.163</td> <td>   54.258</td> <td> 0.000</td> <td>    8.510</td> <td>    9.148</td>\n",
              "</tr>\n",
              "<tr>\n",
              "  <th>RoomNights</th>                                  <td>   -5.7369</td> <td>    0.371</td> <td>  -15.456</td> <td> 0.000</td> <td>   -6.464</td> <td>   -5.009</td>\n",
              "</tr>\n",
              "<tr>\n",
              "  <th>DaysSinceLastStay</th>                           <td>   -0.0835</td> <td>    0.013</td> <td>   -6.526</td> <td> 0.000</td> <td>   -0.109</td> <td>   -0.058</td>\n",
              "</tr>\n",
              "<tr>\n",
              "  <th>DaysSinceFirstStay</th>                          <td>    0.0790</td> <td>    0.014</td> <td>    5.806</td> <td> 0.000</td> <td>    0.052</td> <td>    0.106</td>\n",
              "</tr>\n",
              "<tr>\n",
              "  <th>SRHighFloor</th>                                 <td>   -0.0145</td> <td>    1.751</td> <td>   -0.008</td> <td> 0.993</td> <td>   -3.447</td> <td>    3.418</td>\n",
              "</tr>\n",
              "<tr>\n",
              "  <th>SRLowFloor</th>                                  <td>    0.5936</td> <td>    9.851</td> <td>    0.060</td> <td> 0.952</td> <td>  -18.715</td> <td>   19.902</td>\n",
              "</tr>\n",
              "<tr>\n",
              "  <th>SRAccessibleRoom</th>                            <td>    9.7819</td> <td>   23.739</td> <td>    0.412</td> <td> 0.680</td> <td>  -36.746</td> <td>   56.310</td>\n",
              "</tr>\n",
              "<tr>\n",
              "  <th>SRMediumFloor</th>                               <td>   16.1316</td> <td>   12.108</td> <td>    1.332</td> <td> 0.183</td> <td>   -7.600</td> <td>   39.863</td>\n",
              "</tr>\n",
              "<tr>\n",
              "  <th>SRBathtub</th>                                   <td>    5.1155</td> <td>    6.889</td> <td>    0.743</td> <td> 0.458</td> <td>   -8.386</td> <td>   18.617</td>\n",
              "</tr>\n",
              "<tr>\n",
              "  <th>SRShower</th>                                    <td>   11.0043</td> <td>    8.631</td> <td>    1.275</td> <td> 0.202</td> <td>   -5.912</td> <td>   27.920</td>\n",
              "</tr>\n",
              "<tr>\n",
              "  <th>SRCrib</th>                                      <td>   15.6819</td> <td>    3.230</td> <td>    4.855</td> <td> 0.000</td> <td>    9.351</td> <td>   22.013</td>\n",
              "</tr>\n",
              "<tr>\n",
              "  <th>SRKingSizeBed</th>                               <td>    3.5177</td> <td>    0.872</td> <td>    4.035</td> <td> 0.000</td> <td>    1.809</td> <td>    5.226</td>\n",
              "</tr>\n",
              "<tr>\n",
              "  <th>SRTwinBed</th>                                   <td>    3.5395</td> <td>    1.124</td> <td>    3.150</td> <td> 0.002</td> <td>    1.337</td> <td>    5.742</td>\n",
              "</tr>\n",
              "<tr>\n",
              "  <th>SRNearElevator</th>                              <td>   -7.9848</td> <td>   20.709</td> <td>   -0.386</td> <td> 0.700</td> <td>  -48.574</td> <td>   32.605</td>\n",
              "</tr>\n",
              "<tr>\n",
              "  <th>SRAwayFromElevator</th>                          <td>    9.3574</td> <td>    6.222</td> <td>    1.504</td> <td> 0.133</td> <td>   -2.839</td> <td>   21.553</td>\n",
              "</tr>\n",
              "<tr>\n",
              "  <th>SRNoAlcoholInMiniBar</th>                        <td>   78.6760</td> <td>   34.112</td> <td>    2.306</td> <td> 0.021</td> <td>   11.816</td> <td>  145.536</td>\n",
              "</tr>\n",
              "<tr>\n",
              "  <th>SRQuietRoom</th>                                 <td>   -1.5171</td> <td>    1.336</td> <td>   -1.136</td> <td> 0.256</td> <td>   -4.135</td> <td>    1.101</td>\n",
              "</tr>\n",
              "<tr>\n",
              "  <th>Nationality_ABW</th>                             <td>  -48.0038</td> <td>   54.220</td> <td>   -0.885</td> <td> 0.376</td> <td> -154.276</td> <td>   58.268</td>\n",
              "</tr>\n",
              "<tr>\n",
              "  <th>Nationality_AGO</th>                             <td>    4.4486</td> <td>    8.528</td> <td>    0.522</td> <td> 0.602</td> <td>  -12.266</td> <td>   21.163</td>\n",
              "</tr>\n",
              "<tr>\n",
              "  <th>Nationality_AIA</th>                             <td>  -43.8124</td> <td>   54.230</td> <td>   -0.808</td> <td> 0.419</td> <td> -150.103</td> <td>   62.478</td>\n",
              "</tr>\n",
              "<tr>\n",
              "  <th>Nationality_ALB</th>                             <td>   -3.7051</td> <td>   27.314</td> <td>   -0.136</td> <td> 0.892</td> <td>  -57.241</td> <td>   49.831</td>\n",
              "</tr>\n",
              "<tr>\n",
              "  <th>Nationality_AND</th>                             <td>   25.8074</td> <td>   38.432</td> <td>    0.672</td> <td> 0.502</td> <td>  -49.520</td> <td>  101.135</td>\n",
              "</tr>\n",
              "<tr>\n",
              "  <th>Nationality_ARE</th>                             <td>   -6.1958</td> <td>   18.766</td> <td>   -0.330</td> <td> 0.741</td> <td>  -42.978</td> <td>   30.586</td>\n",
              "</tr>\n",
              "<tr>\n",
              "  <th>Nationality_ARG</th>                             <td>   10.7470</td> <td>    8.683</td> <td>    1.238</td> <td> 0.216</td> <td>   -6.271</td> <td>   27.765</td>\n",
              "</tr>\n",
              "<tr>\n",
              "  <th>Nationality_ARM</th>                             <td>   93.3971</td> <td>   31.458</td> <td>    2.969</td> <td> 0.003</td> <td>   31.740</td> <td>  155.054</td>\n",
              "</tr>\n",
              "<tr>\n",
              "  <th>Nationality_ASM</th>                             <td>   29.1443</td> <td>   54.230</td> <td>    0.537</td> <td> 0.591</td> <td>  -77.146</td> <td>  135.435</td>\n",
              "</tr>\n",
              "<tr>\n",
              "  <th>Nationality_ATA</th>                             <td>  -12.5741</td> <td>   54.217</td> <td>   -0.232</td> <td> 0.817</td> <td> -118.839</td> <td>   93.691</td>\n",
              "</tr>\n",
              "<tr>\n",
              "  <th>Nationality_ATF</th>                             <td>    0.1067</td> <td>   31.458</td> <td>    0.003</td> <td> 0.997</td> <td>  -61.551</td> <td>   61.765</td>\n",
              "</tr>\n",
              "<tr>\n",
              "  <th>Nationality_ATG</th>                             <td>   -4.3521</td> <td>   54.218</td> <td>   -0.080</td> <td> 0.936</td> <td> -110.619</td> <td>  101.914</td>\n",
              "</tr>\n",
              "<tr>\n",
              "  <th>Nationality_AUS</th>                             <td>   15.1977</td> <td>    5.395</td> <td>    2.817</td> <td> 0.005</td> <td>    4.624</td> <td>   25.771</td>\n",
              "</tr>\n",
              "<tr>\n",
              "  <th>Nationality_AUT</th>                             <td>    4.3532</td> <td>    4.643</td> <td>    0.938</td> <td> 0.348</td> <td>   -4.746</td> <td>   13.453</td>\n",
              "</tr>\n",
              "<tr>\n",
              "  <th>Nationality_AZE</th>                             <td>   -2.7172</td> <td>   15.810</td> <td>   -0.172</td> <td> 0.864</td> <td>  -33.706</td> <td>   28.271</td>\n",
              "</tr>\n",
              "<tr>\n",
              "  <th>Nationality_BEL</th>                             <td>   14.7022</td> <td>    4.215</td> <td>    3.488</td> <td> 0.000</td> <td>    6.441</td> <td>   22.963</td>\n",
              "</tr>\n",
              "<tr>\n",
              "  <th>Nationality_BEN</th>                             <td>  -50.0209</td> <td>   54.219</td> <td>   -0.923</td> <td> 0.356</td> <td> -156.289</td> <td>   56.248</td>\n",
              "</tr>\n",
              "<tr>\n",
              "  <th>Nationality_BGD</th>                             <td>  -22.7311</td> <td>   38.430</td> <td>   -0.591</td> <td> 0.554</td> <td>  -98.054</td> <td>   52.592</td>\n",
              "</tr>\n",
              "<tr>\n",
              "  <th>Nationality_BGR</th>                             <td>   10.0709</td> <td>    9.133</td> <td>    1.103</td> <td> 0.270</td> <td>   -7.830</td> <td>   27.972</td>\n",
              "</tr>\n",
              "<tr>\n",
              "  <th>Nationality_BHR</th>                             <td>    3.9703</td> <td>   54.221</td> <td>    0.073</td> <td> 0.942</td> <td> -102.303</td> <td>  110.243</td>\n",
              "</tr>\n",
              "<tr>\n",
              "  <th>Nationality_BHS</th>                             <td>   -5.9391</td> <td>   93.759</td> <td>   -0.063</td> <td> 0.949</td> <td> -189.706</td> <td>  177.828</td>\n",
              "</tr>\n",
              "<tr>\n",
              "  <th>Nationality_BIH</th>                             <td>    2.0236</td> <td>   23.038</td> <td>    0.088</td> <td> 0.930</td> <td>  -43.132</td> <td>   47.179</td>\n",
              "</tr>\n",
              "<tr>\n",
              "  <th>Nationality_BLR</th>                             <td>  -14.1506</td> <td>   18.444</td> <td>   -0.767</td> <td> 0.443</td> <td>  -50.301</td> <td>   21.999</td>\n",
              "</tr>\n",
              "<tr>\n",
              "  <th>Nationality_BOL</th>                             <td>  -21.0493</td> <td>   33.360</td> <td>   -0.631</td> <td> 0.528</td> <td>  -86.435</td> <td>   44.337</td>\n",
              "</tr>\n",
              "<tr>\n",
              "  <th>Nationality_BRA</th>                             <td>    4.3974</td> <td>    4.251</td> <td>    1.035</td> <td> 0.301</td> <td>   -3.934</td> <td>   12.728</td>\n",
              "</tr>\n",
              "<tr>\n",
              "  <th>Nationality_BRB</th>                             <td>  -11.0473</td> <td>   35.615</td> <td>   -0.310</td> <td> 0.756</td> <td>  -80.853</td> <td>   58.758</td>\n",
              "</tr>\n",
              "<tr>\n",
              "  <th>Nationality_BWA</th>                             <td>  -36.5384</td> <td>   54.224</td> <td>   -0.674</td> <td> 0.500</td> <td> -142.817</td> <td>   69.740</td>\n",
              "</tr>\n",
              "<tr>\n",
              "  <th>Nationality_CAF</th>                             <td>  -30.8998</td> <td>   46.991</td> <td>   -0.658</td> <td> 0.511</td> <td> -123.002</td> <td>   61.202</td>\n",
              "</tr>\n",
              "<tr>\n",
              "  <th>Nationality_CAN</th>                             <td>   -1.5495</td> <td>    4.644</td> <td>   -0.334</td> <td> 0.739</td> <td>  -10.652</td> <td>    7.553</td>\n",
              "</tr>\n",
              "<tr>\n",
              "  <th>Nationality_CHE</th>                             <td>   -0.9359</td> <td>    4.417</td> <td>   -0.212</td> <td> 0.832</td> <td>   -9.593</td> <td>    7.721</td>\n",
              "</tr>\n",
              "<tr>\n",
              "  <th>Nationality_CHL</th>                             <td>    5.7294</td> <td>   12.775</td> <td>    0.448</td> <td> 0.654</td> <td>  -19.309</td> <td>   30.768</td>\n",
              "</tr>\n",
              "<tr>\n",
              "  <th>Nationality_CHN</th>                             <td>   -9.7071</td> <td>    5.133</td> <td>   -1.891</td> <td> 0.059</td> <td>  -19.767</td> <td>    0.353</td>\n",
              "</tr>\n",
              "<tr>\n",
              "  <th>Nationality_CIV</th>                             <td>   36.7259</td> <td>   54.219</td> <td>    0.677</td> <td> 0.498</td> <td>  -69.543</td> <td>  142.994</td>\n",
              "</tr>\n",
              "<tr>\n",
              "  <th>Nationality_CMR</th>                             <td>    3.0931</td> <td>   22.409</td> <td>    0.138</td> <td> 0.890</td> <td>  -40.828</td> <td>   47.014</td>\n",
              "</tr>\n",
              "<tr>\n",
              "  <th>Nationality_COD</th>                             <td>  -17.4586</td> <td>   46.997</td> <td>   -0.371</td> <td> 0.710</td> <td> -109.573</td> <td>   74.656</td>\n",
              "</tr>\n",
              "<tr>\n",
              "  <th>Nationality_COL</th>                             <td>    0.4954</td> <td>   13.303</td> <td>    0.037</td> <td> 0.970</td> <td>  -25.578</td> <td>   26.569</td>\n",
              "</tr>\n",
              "<tr>\n",
              "  <th>Nationality_COM</th>                             <td>   54.9465</td> <td>   66.348</td> <td>    0.828</td> <td> 0.408</td> <td>  -75.095</td> <td>  184.988</td>\n",
              "</tr>\n",
              "<tr>\n",
              "  <th>Nationality_CPV</th>                             <td>    3.9003</td> <td>   42.069</td> <td>    0.093</td> <td> 0.926</td> <td>  -78.554</td> <td>   86.355</td>\n",
              "</tr>\n",
              "<tr>\n",
              "  <th>Nationality_CRI</th>                             <td>  -14.9179</td> <td>   26.262</td> <td>   -0.568</td> <td> 0.570</td> <td>  -66.391</td> <td>   36.556</td>\n",
              "</tr>\n",
              "<tr>\n",
              "  <th>Nationality_CUB</th>                             <td>  -28.1676</td> <td>   31.454</td> <td>   -0.896</td> <td> 0.371</td> <td>  -89.818</td> <td>   33.483</td>\n",
              "</tr>\n",
              "<tr>\n",
              "  <th>Nationality_CYM</th>                             <td>  -29.0524</td> <td>   66.360</td> <td>   -0.438</td> <td> 0.662</td> <td> -159.118</td> <td>  101.013</td>\n",
              "</tr>\n",
              "<tr>\n",
              "  <th>Nationality_CYP</th>                             <td>    5.2613</td> <td>   14.472</td> <td>    0.364</td> <td> 0.716</td> <td>  -23.103</td> <td>   33.626</td>\n",
              "</tr>\n",
              "<tr>\n",
              "  <th>Nationality_CZE</th>                             <td>    1.1620</td> <td>    7.567</td> <td>    0.154</td> <td> 0.878</td> <td>  -13.669</td> <td>   15.993</td>\n",
              "</tr>\n",
              "<tr>\n",
              "  <th>Nationality_DEU</th>                             <td>    2.9609</td> <td>    3.922</td> <td>    0.755</td> <td> 0.450</td> <td>   -4.727</td> <td>   10.648</td>\n",
              "</tr>\n",
              "<tr>\n",
              "  <th>Nationality_DMA</th>                             <td>  -13.5973</td> <td>   93.755</td> <td>   -0.145</td> <td> 0.885</td> <td> -197.357</td> <td>  170.163</td>\n",
              "</tr>\n",
              "<tr>\n",
              "  <th>Nationality_DNK</th>                             <td>   -1.2370</td> <td>    5.552</td> <td>   -0.223</td> <td> 0.824</td> <td>  -12.118</td> <td>    9.644</td>\n",
              "</tr>\n",
              "<tr>\n",
              "  <th>Nationality_DOM</th>                             <td>  -11.1164</td> <td>   28.501</td> <td>   -0.390</td> <td> 0.697</td> <td>  -66.978</td> <td>   44.745</td>\n",
              "</tr>\n",
              "<tr>\n",
              "  <th>Nationality_DZA</th>                             <td>   -4.4342</td> <td>   12.691</td> <td>   -0.349</td> <td> 0.727</td> <td>  -29.308</td> <td>   20.439</td>\n",
              "</tr>\n",
              "<tr>\n",
              "  <th>Nationality_ECU</th>                             <td>    5.1810</td> <td>   22.407</td> <td>    0.231</td> <td> 0.817</td> <td>  -38.736</td> <td>   49.098</td>\n",
              "</tr>\n",
              "<tr>\n",
              "  <th>Nationality_EGY</th>                             <td>  -36.8164</td> <td>   23.037</td> <td>   -1.598</td> <td> 0.110</td> <td>  -81.968</td> <td>    8.335</td>\n",
              "</tr>\n",
              "<tr>\n",
              "  <th>Nationality_ERI</th>                             <td>   25.4083</td> <td>   66.349</td> <td>    0.383</td> <td> 0.702</td> <td> -104.636</td> <td>  155.453</td>\n",
              "</tr>\n",
              "<tr>\n",
              "  <th>Nationality_ESP</th>                             <td>    4.2721</td> <td>    4.060</td> <td>    1.052</td> <td> 0.293</td> <td>   -3.685</td> <td>   12.230</td>\n",
              "</tr>\n",
              "<tr>\n",
              "  <th>Nationality_EST</th>                             <td>  -19.2951</td> <td>    9.989</td> <td>   -1.932</td> <td> 0.053</td> <td>  -38.874</td> <td>    0.284</td>\n",
              "</tr>\n",
              "<tr>\n",
              "  <th>Nationality_ETH</th>                             <td>    4.1496</td> <td>   54.217</td> <td>    0.077</td> <td> 0.939</td> <td> -102.115</td> <td>  110.415</td>\n",
              "</tr>\n",
              "<tr>\n",
              "  <th>Nationality_FIN</th>                             <td>   -5.7144</td> <td>    5.575</td> <td>   -1.025</td> <td> 0.305</td> <td>  -16.641</td> <td>    5.212</td>\n",
              "</tr>\n",
              "<tr>\n",
              "  <th>Nationality_FJI</th>                             <td>   25.0927</td> <td>   93.756</td> <td>    0.268</td> <td> 0.789</td> <td> -158.668</td> <td>  208.854</td>\n",
              "</tr>\n",
              "<tr>\n",
              "  <th>Nationality_FLK</th>                             <td>  -62.4802</td> <td>   93.754</td> <td>   -0.666</td> <td> 0.505</td> <td> -246.238</td> <td>  121.277</td>\n",
              "</tr>\n",
              "<tr>\n",
              "  <th>Nationality_FRA</th>                             <td>   14.9585</td> <td>    3.890</td> <td>    3.846</td> <td> 0.000</td> <td>    7.335</td> <td>   22.582</td>\n",
              "</tr>\n",
              "<tr>\n",
              "  <th>Nationality_FRO</th>                             <td> 1.833e-11</td> <td> 3.27e-11</td> <td>    0.561</td> <td> 0.575</td> <td>-4.57e-11</td> <td> 8.24e-11</td>\n",
              "</tr>\n",
              "<tr>\n",
              "  <th>Nationality_GAB</th>                             <td>  -20.1505</td> <td>   46.999</td> <td>   -0.429</td> <td> 0.668</td> <td> -112.268</td> <td>   71.967</td>\n",
              "</tr>\n",
              "<tr>\n",
              "  <th>Nationality_GBR</th>                             <td>    3.3673</td> <td>    3.940</td> <td>    0.855</td> <td> 0.393</td> <td>   -4.355</td> <td>   11.090</td>\n",
              "</tr>\n",
              "<tr>\n",
              "  <th>Nationality_GEO</th>                             <td>   76.2825</td> <td>   33.340</td> <td>    2.288</td> <td> 0.022</td> <td>   10.936</td> <td>  141.629</td>\n",
              "</tr>\n",
              "<tr>\n",
              "  <th>Nationality_GHA</th>                             <td>   -1.0960</td> <td>   54.218</td> <td>   -0.020</td> <td> 0.984</td> <td> -107.363</td> <td>  105.171</td>\n",
              "</tr>\n",
              "<tr>\n",
              "  <th>Nationality_GIB</th>                             <td>  263.1281</td> <td>   66.348</td> <td>    3.966</td> <td> 0.000</td> <td>  133.086</td> <td>  393.171</td>\n",
              "</tr>\n",
              "<tr>\n",
              "  <th>Nationality_GIN</th>                             <td>    7.2502</td> <td>   93.763</td> <td>    0.077</td> <td> 0.938</td> <td> -176.526</td> <td>  191.027</td>\n",
              "</tr>\n",
              "<tr>\n",
              "  <th>Nationality_GNB</th>                             <td>  -14.5455</td> <td>   28.509</td> <td>   -0.510</td> <td> 0.610</td> <td>  -70.424</td> <td>   41.333</td>\n",
              "</tr>\n",
              "<tr>\n",
              "  <th>Nationality_GNQ</th>                             <td>   11.5367</td> <td>   93.762</td> <td>    0.123</td> <td> 0.902</td> <td> -172.237</td> <td>  195.310</td>\n",
              "</tr>\n",
              "<tr>\n",
              "  <th>Nationality_GRC</th>                             <td>   -5.0811</td> <td>    7.839</td> <td>   -0.648</td> <td> 0.517</td> <td>  -20.445</td> <td>   10.283</td>\n",
              "</tr>\n",
              "<tr>\n",
              "  <th>Nationality_GTM</th>                             <td>   -5.4746</td> <td>   38.433</td> <td>   -0.142</td> <td> 0.887</td> <td>  -80.803</td> <td>   69.854</td>\n",
              "</tr>\n",
              "<tr>\n",
              "  <th>Nationality_GUF</th>                             <td> 1.393e-10</td> <td> 2.53e-10</td> <td>    0.551</td> <td> 0.582</td> <td>-3.56e-10</td> <td> 6.35e-10</td>\n",
              "</tr>\n",
              "<tr>\n",
              "  <th>Nationality_GUY</th>                             <td>  -31.5279</td> <td>   93.758</td> <td>   -0.336</td> <td> 0.737</td> <td> -215.294</td> <td>  152.238</td>\n",
              "</tr>\n",
              "<tr>\n",
              "  <th>Nationality_HKG</th>                             <td>   11.2098</td> <td>   54.221</td> <td>    0.207</td> <td> 0.836</td> <td>  -95.063</td> <td>  117.483</td>\n",
              "</tr>\n",
              "<tr>\n",
              "  <th>Nationality_HRV</th>                             <td>    1.6146</td> <td>    9.775</td> <td>    0.165</td> <td> 0.869</td> <td>  -17.545</td> <td>   20.774</td>\n",
              "</tr>\n",
              "<tr>\n",
              "  <th>Nationality_HTI</th>                             <td>    4.3632</td> <td>   54.218</td> <td>    0.080</td> <td> 0.936</td> <td> -101.905</td> <td>  110.631</td>\n",
              "</tr>\n",
              "<tr>\n",
              "  <th>Nationality_HUN</th>                             <td>    3.6719</td> <td>    6.947</td> <td>    0.529</td> <td> 0.597</td> <td>   -9.944</td> <td>   17.288</td>\n",
              "</tr>\n",
              "<tr>\n",
              "  <th>Nationality_IDN</th>                             <td>  -11.6373</td> <td>   25.324</td> <td>   -0.460</td> <td> 0.646</td> <td>  -61.273</td> <td>   37.998</td>\n",
              "</tr>\n",
              "<tr>\n",
              "  <th>Nationality_IND</th>                             <td>    0.9579</td> <td>    8.420</td> <td>    0.114</td> <td> 0.909</td> <td>  -15.546</td> <td>   17.462</td>\n",
              "</tr>\n",
              "<tr>\n",
              "  <th>Nationality_IOT</th>                             <td>   29.1550</td> <td>   93.756</td> <td>    0.311</td> <td> 0.756</td> <td> -154.607</td> <td>  212.917</td>\n",
              "</tr>\n",
              "<tr>\n",
              "  <th>Nationality_IRL</th>                             <td>   -8.1123</td> <td>    4.443</td> <td>   -1.826</td> <td> 0.068</td> <td>  -16.820</td> <td>    0.595</td>\n",
              "</tr>\n",
              "<tr>\n",
              "  <th>Nationality_IRN</th>                             <td>   -7.0239</td> <td>   12.869</td> <td>   -0.546</td> <td> 0.585</td> <td>  -32.248</td> <td>   18.200</td>\n",
              "</tr>\n",
              "<tr>\n",
              "  <th>Nationality_IRQ</th>                             <td>  110.1426</td> <td>   33.341</td> <td>    3.303</td> <td> 0.001</td> <td>   44.793</td> <td>  175.492</td>\n",
              "</tr>\n",
              "<tr>\n",
              "  <th>Nationality_ISL</th>                             <td>   34.1359</td> <td>   14.780</td> <td>    2.310</td> <td> 0.021</td> <td>    5.166</td> <td>   63.105</td>\n",
              "</tr>\n",
              "<tr>\n",
              "  <th>Nationality_ISR</th>                             <td>  -15.1924</td> <td>    5.153</td> <td>   -2.948</td> <td> 0.003</td> <td>  -25.292</td> <td>   -5.093</td>\n",
              "</tr>\n",
              "<tr>\n",
              "  <th>Nationality_ITA</th>                             <td>    4.6442</td> <td>    4.182</td> <td>    1.110</td> <td> 0.267</td> <td>   -3.553</td> <td>   12.841</td>\n",
              "</tr>\n",
              "<tr>\n",
              "  <th>Nationality_JAM</th>                             <td>  153.8294</td> <td>   93.758</td> <td>    1.641</td> <td> 0.101</td> <td>  -29.936</td> <td>  337.595</td>\n",
              "</tr>\n",
              "<tr>\n",
              "  <th>Nationality_JEY</th>                             <td>-2.149e-11</td> <td> 7.75e-11</td> <td>   -0.277</td> <td> 0.782</td> <td>-1.73e-10</td> <td>  1.3e-10</td>\n",
              "</tr>\n",
              "<tr>\n",
              "  <th>Nationality_JOR</th>                             <td>  -38.3296</td> <td>   26.776</td> <td>   -1.432</td> <td> 0.152</td> <td>  -90.810</td> <td>   14.151</td>\n",
              "</tr>\n",
              "<tr>\n",
              "  <th>Nationality_JPN</th>                             <td>  -19.5518</td> <td>    7.452</td> <td>   -2.624</td> <td> 0.009</td> <td>  -34.158</td> <td>   -4.946</td>\n",
              "</tr>\n",
              "<tr>\n",
              "  <th>Nationality_KAZ</th>                             <td>   -6.0797</td> <td>   24.487</td> <td>   -0.248</td> <td> 0.804</td> <td>  -54.075</td> <td>   41.915</td>\n",
              "</tr>\n",
              "<tr>\n",
              "  <th>Nationality_KEN</th>                             <td>   -7.7724</td> <td>   35.612</td> <td>   -0.218</td> <td> 0.827</td> <td>  -77.573</td> <td>   62.028</td>\n",
              "</tr>\n",
              "<tr>\n",
              "  <th>Nationality_KGZ</th>                             <td>    1.2839</td> <td>   47.000</td> <td>    0.027</td> <td> 0.978</td> <td>  -90.835</td> <td>   93.403</td>\n",
              "</tr>\n",
              "<tr>\n",
              "  <th>Nationality_KIR</th>                             <td>   34.3889</td> <td>   93.754</td> <td>    0.367</td> <td> 0.714</td> <td> -149.370</td> <td>  218.147</td>\n",
              "</tr>\n",
              "<tr>\n",
              "  <th>Nationality_KNA</th>                             <td>   25.1870</td> <td>   93.770</td> <td>    0.269</td> <td> 0.788</td> <td> -158.602</td> <td>  208.976</td>\n",
              "</tr>\n",
              "<tr>\n",
              "  <th>Nationality_KOR</th>                             <td>   -2.8233</td> <td>    8.379</td> <td>   -0.337</td> <td> 0.736</td> <td>  -19.245</td> <td>   13.599</td>\n",
              "</tr>\n",
              "<tr>\n",
              "  <th>Nationality_KWT</th>                             <td>  -25.5128</td> <td>   31.463</td> <td>   -0.811</td> <td> 0.417</td> <td>  -87.179</td> <td>   36.154</td>\n",
              "</tr>\n",
              "<tr>\n",
              "  <th>Nationality_LAO</th>                             <td>  -27.2210</td> <td>   93.761</td> <td>   -0.290</td> <td> 0.772</td> <td> -210.992</td> <td>  156.550</td>\n",
              "</tr>\n",
              "<tr>\n",
              "  <th>Nationality_LBN</th>                             <td>  -20.0378</td> <td>   17.804</td> <td>   -1.125</td> <td> 0.260</td> <td>  -54.934</td> <td>   14.858</td>\n",
              "</tr>\n",
              "<tr>\n",
              "  <th>Nationality_LBY</th>                             <td>   10.6145</td> <td>   33.339</td> <td>    0.318</td> <td> 0.750</td> <td>  -54.730</td> <td>   75.959</td>\n",
              "</tr>\n",
              "<tr>\n",
              "  <th>Nationality_LCA</th>                             <td>  -81.9607</td> <td>   93.760</td> <td>   -0.874</td> <td> 0.382</td> <td> -265.731</td> <td>  101.810</td>\n",
              "</tr>\n",
              "<tr>\n",
              "  <th>Nationality_LIE</th>                             <td>  -18.0050</td> <td>   38.440</td> <td>   -0.468</td> <td> 0.640</td> <td>  -93.347</td> <td>   57.337</td>\n",
              "</tr>\n",
              "<tr>\n",
              "  <th>Nationality_LKA</th>                             <td>    2.7976</td> <td>   38.453</td> <td>    0.073</td> <td> 0.942</td> <td>  -72.569</td> <td>   78.165</td>\n",
              "</tr>\n",
              "<tr>\n",
              "  <th>Nationality_LTU</th>                             <td>    2.1063</td> <td>   13.531</td> <td>    0.156</td> <td> 0.876</td> <td>  -24.415</td> <td>   28.627</td>\n",
              "</tr>\n",
              "<tr>\n",
              "  <th>Nationality_LUX</th>                             <td>   10.7312</td> <td>    7.839</td> <td>    1.369</td> <td> 0.171</td> <td>   -4.634</td> <td>   26.097</td>\n",
              "</tr>\n",
              "<tr>\n",
              "  <th>Nationality_LVA</th>                             <td>    7.1867</td> <td>   11.894</td> <td>    0.604</td> <td> 0.546</td> <td>  -16.125</td> <td>   30.498</td>\n",
              "</tr>\n",
              "<tr>\n",
              "  <th>Nationality_MAR</th>                             <td>   23.0709</td> <td>    8.910</td> <td>    2.589</td> <td> 0.010</td> <td>    5.608</td> <td>   40.534</td>\n",
              "</tr>\n",
              "<tr>\n",
              "  <th>Nationality_MCO</th>                             <td>    8.4819</td> <td>   54.221</td> <td>    0.156</td> <td> 0.876</td> <td>  -97.792</td> <td>  114.756</td>\n",
              "</tr>\n",
              "<tr>\n",
              "  <th>Nationality_MDG</th>                             <td>   -0.6556</td> <td>   66.348</td> <td>   -0.010</td> <td> 0.992</td> <td> -130.698</td> <td>  129.387</td>\n",
              "</tr>\n",
              "<tr>\n",
              "  <th>Nationality_MDV</th>                             <td>   12.7115</td> <td>   54.224</td> <td>    0.234</td> <td> 0.815</td> <td>  -93.568</td> <td>  118.991</td>\n",
              "</tr>\n",
              "<tr>\n",
              "  <th>Nationality_MEX</th>                             <td>   -7.0940</td> <td>    8.968</td> <td>   -0.791</td> <td> 0.429</td> <td>  -24.671</td> <td>   10.483</td>\n",
              "</tr>\n",
              "<tr>\n",
              "  <th>Nationality_MKD</th>                             <td>   13.7701</td> <td>   25.335</td> <td>    0.544</td> <td> 0.587</td> <td>  -35.887</td> <td>   63.427</td>\n",
              "</tr>\n",
              "<tr>\n",
              "  <th>Nationality_MLI</th>                             <td>  -52.1779</td> <td>   54.230</td> <td>   -0.962</td> <td> 0.336</td> <td> -158.470</td> <td>   54.114</td>\n",
              "</tr>\n",
              "<tr>\n",
              "  <th>Nationality_MLT</th>                             <td>    0.3881</td> <td>   17.250</td> <td>    0.022</td> <td> 0.982</td> <td>  -33.422</td> <td>   34.198</td>\n",
              "</tr>\n",
              "<tr>\n",
              "  <th>Nationality_MMR</th>                             <td>  -22.6131</td> <td>   93.755</td> <td>   -0.241</td> <td> 0.809</td> <td> -206.373</td> <td>  161.147</td>\n",
              "</tr>\n",
              "<tr>\n",
              "  <th>Nationality_MNE</th>                             <td>  -10.0472</td> <td>   46.994</td> <td>   -0.214</td> <td> 0.831</td> <td> -102.156</td> <td>   82.062</td>\n",
              "</tr>\n",
              "<tr>\n",
              "  <th>Nationality_MOZ</th>                             <td>   11.4459</td> <td>   11.896</td> <td>    0.962</td> <td> 0.336</td> <td>  -11.870</td> <td>   34.761</td>\n",
              "</tr>\n",
              "<tr>\n",
              "  <th>Nationality_MRT</th>                             <td>   -1.2504</td> <td>   93.756</td> <td>   -0.013</td> <td> 0.989</td> <td> -185.012</td> <td>  182.511</td>\n",
              "</tr>\n",
              "<tr>\n",
              "  <th>Nationality_MUS</th>                             <td>   30.1648</td> <td>   38.449</td> <td>    0.785</td> <td> 0.433</td> <td>  -45.195</td> <td>  105.525</td>\n",
              "</tr>\n",
              "<tr>\n",
              "  <th>Nationality_MWI</th>                             <td>   74.9656</td> <td>   93.762</td> <td>    0.800</td> <td> 0.424</td> <td> -108.808</td> <td>  258.739</td>\n",
              "</tr>\n",
              "<tr>\n",
              "  <th>Nationality_MYS</th>                             <td>  -23.5591</td> <td>   22.402</td> <td>   -1.052</td> <td> 0.293</td> <td>  -67.468</td> <td>   20.349</td>\n",
              "</tr>\n",
              "<tr>\n",
              "  <th>Nationality_NAM</th>                             <td>  -14.7638</td> <td>   38.519</td> <td>   -0.383</td> <td> 0.702</td> <td>  -90.260</td> <td>   60.733</td>\n",
              "</tr>\n",
              "<tr>\n",
              "  <th>Nationality_NCL</th>                             <td>   22.0638</td> <td>   93.770</td> <td>    0.235</td> <td> 0.814</td> <td> -161.725</td> <td>  205.853</td>\n",
              "</tr>\n",
              "<tr>\n",
              "  <th>Nationality_NGA</th>                             <td>   24.6634</td> <td>   29.867</td> <td>    0.826</td> <td> 0.409</td> <td>  -33.877</td> <td>   83.203</td>\n",
              "</tr>\n",
              "<tr>\n",
              "  <th>Nationality_NIC</th>                             <td>   16.9884</td> <td>   93.753</td> <td>    0.181</td> <td> 0.856</td> <td> -166.768</td> <td>  200.745</td>\n",
              "</tr>\n",
              "<tr>\n",
              "  <th>Nationality_NLD</th>                             <td>    3.3047</td> <td>    4.270</td> <td>    0.774</td> <td> 0.439</td> <td>   -5.064</td> <td>   11.673</td>\n",
              "</tr>\n",
              "<tr>\n",
              "  <th>Nationality_NOR</th>                             <td>   11.3956</td> <td>    5.346</td> <td>    2.132</td> <td> 0.033</td> <td>    0.918</td> <td>   21.874</td>\n",
              "</tr>\n",
              "<tr>\n",
              "  <th>Nationality_NPL</th>                             <td>-1.217e-10</td> <td> 2.01e-10</td> <td>   -0.605</td> <td> 0.545</td> <td>-5.16e-10</td> <td> 2.72e-10</td>\n",
              "</tr>\n",
              "<tr>\n",
              "  <th>Nationality_NRU</th>                             <td> 2.454e-11</td> <td> 6.21e-11</td> <td>    0.395</td> <td> 0.693</td> <td>-9.71e-11</td> <td> 1.46e-10</td>\n",
              "</tr>\n",
              "<tr>\n",
              "  <th>Nationality_NZL</th>                             <td>   11.4603</td> <td>   11.670</td> <td>    0.982</td> <td> 0.326</td> <td>  -11.412</td> <td>   34.333</td>\n",
              "</tr>\n",
              "<tr>\n",
              "  <th>Nationality_OMN</th>                             <td>    0.8735</td> <td>   54.219</td> <td>    0.016</td> <td> 0.987</td> <td> -105.396</td> <td>  107.143</td>\n",
              "</tr>\n",
              "<tr>\n",
              "  <th>Nationality_PAK</th>                             <td>   -8.7072</td> <td>   29.867</td> <td>   -0.292</td> <td> 0.771</td> <td>  -67.247</td> <td>   49.832</td>\n",
              "</tr>\n",
              "<tr>\n",
              "  <th>Nationality_PAN</th>                             <td>   30.6782</td> <td>   31.458</td> <td>    0.975</td> <td> 0.329</td> <td>  -30.980</td> <td>   92.336</td>\n",
              "</tr>\n",
              "<tr>\n",
              "  <th>Nationality_PCN</th>                             <td>  -10.3211</td> <td>   93.783</td> <td>   -0.110</td> <td> 0.912</td> <td> -194.135</td> <td>  173.493</td>\n",
              "</tr>\n",
              "<tr>\n",
              "  <th>Nationality_PER</th>                             <td>   11.5001</td> <td>   18.105</td> <td>    0.635</td> <td> 0.525</td> <td>  -23.986</td> <td>   46.986</td>\n",
              "</tr>\n",
              "<tr>\n",
              "  <th>Nationality_PHL</th>                             <td>  -13.0807</td> <td>   14.786</td> <td>   -0.885</td> <td> 0.376</td> <td>  -42.061</td> <td>   15.900</td>\n",
              "</tr>\n",
              "<tr>\n",
              "  <th>Nationality_PNG</th>                             <td>-1.335e-10</td> <td> 2.56e-10</td> <td>   -0.521</td> <td> 0.602</td> <td>-6.36e-10</td> <td> 3.69e-10</td>\n",
              "</tr>\n",
              "<tr>\n",
              "  <th>Nationality_POL</th>                             <td>   -0.7216</td> <td>    5.378</td> <td>   -0.134</td> <td> 0.893</td> <td>  -11.262</td> <td>    9.819</td>\n",
              "</tr>\n",
              "<tr>\n",
              "  <th>Nationality_PRI</th>                             <td>  -16.1062</td> <td>   93.753</td> <td>   -0.172</td> <td> 0.864</td> <td> -199.862</td> <td>  167.650</td>\n",
              "</tr>\n",
              "<tr>\n",
              "  <th>Nationality_PRT</th>                             <td>    7.0256</td> <td>    3.911</td> <td>    1.797</td> <td> 0.072</td> <td>   -0.639</td> <td>   14.690</td>\n",
              "</tr>\n",
              "<tr>\n",
              "  <th>Nationality_PRY</th>                             <td>    3.7279</td> <td>   35.610</td> <td>    0.105</td> <td> 0.917</td> <td>  -66.068</td> <td>   73.524</td>\n",
              "</tr>\n",
              "<tr>\n",
              "  <th>Nationality_PYF</th>                             <td>   54.3535</td> <td>   93.764</td> <td>    0.580</td> <td> 0.562</td> <td> -129.424</td> <td>  238.131</td>\n",
              "</tr>\n",
              "<tr>\n",
              "  <th>Nationality_QAT</th>                             <td>  -14.7995</td> <td>   54.218</td> <td>   -0.273</td> <td> 0.785</td> <td> -121.066</td> <td>   91.467</td>\n",
              "</tr>\n",
              "<tr>\n",
              "  <th>Nationality_ROU</th>                             <td>   -5.4650</td> <td>    6.199</td> <td>   -0.882</td> <td> 0.378</td> <td>  -17.615</td> <td>    6.685</td>\n",
              "</tr>\n",
              "<tr>\n",
              "  <th>Nationality_RUS</th>                             <td>   -4.7117</td> <td>    5.751</td> <td>   -0.819</td> <td> 0.413</td> <td>  -15.983</td> <td>    6.560</td>\n",
              "</tr>\n",
              "<tr>\n",
              "  <th>Nationality_RWA</th>                             <td>  -17.6200</td> <td>   38.431</td> <td>   -0.458</td> <td> 0.647</td> <td>  -92.945</td> <td>   57.705</td>\n",
              "</tr>\n",
              "<tr>\n",
              "  <th>Nationality_SAU</th>                             <td>    0.9819</td> <td>   19.494</td> <td>    0.050</td> <td> 0.960</td> <td>  -37.227</td> <td>   39.190</td>\n",
              "</tr>\n",
              "<tr>\n",
              "  <th>Nationality_SDN</th>                             <td>  -35.9637</td> <td>   93.762</td> <td>   -0.384</td> <td> 0.701</td> <td> -219.737</td> <td>  147.809</td>\n",
              "</tr>\n",
              "<tr>\n",
              "  <th>Nationality_SEN</th>                             <td>   61.6470</td> <td>   42.066</td> <td>    1.465</td> <td> 0.143</td> <td>  -20.802</td> <td>  144.096</td>\n",
              "</tr>\n",
              "<tr>\n",
              "  <th>Nationality_SGP</th>                             <td>  -14.3650</td> <td>   16.504</td> <td>   -0.870</td> <td> 0.384</td> <td>  -46.713</td> <td>   17.983</td>\n",
              "</tr>\n",
              "<tr>\n",
              "  <th>Nationality_SLE</th>                             <td>  -12.1140</td> <td>   66.351</td> <td>   -0.183</td> <td> 0.855</td> <td> -142.162</td> <td>  117.934</td>\n",
              "</tr>\n",
              "<tr>\n",
              "  <th>Nationality_SLV</th>                             <td> -116.9739</td> <td>   93.768</td> <td>   -1.247</td> <td> 0.212</td> <td> -300.759</td> <td>   66.811</td>\n",
              "</tr>\n",
              "<tr>\n",
              "  <th>Nationality_SMR</th>                             <td>  -33.7746</td> <td>   54.224</td> <td>   -0.623</td> <td> 0.533</td> <td> -140.053</td> <td>   72.504</td>\n",
              "</tr>\n",
              "<tr>\n",
              "  <th>Nationality_SOM</th>                             <td>  -10.7242</td> <td>   93.759</td> <td>   -0.114</td> <td> 0.909</td> <td> -194.492</td> <td>  173.044</td>\n",
              "</tr>\n",
              "<tr>\n",
              "  <th>Nationality_SPM</th>                             <td>  -14.9460</td> <td>   66.377</td> <td>   -0.225</td> <td> 0.822</td> <td> -145.044</td> <td>  115.152</td>\n",
              "</tr>\n",
              "<tr>\n",
              "  <th>Nationality_SRB</th>                             <td>   -8.8408</td> <td>    9.431</td> <td>   -0.937</td> <td> 0.349</td> <td>  -27.326</td> <td>    9.644</td>\n",
              "</tr>\n",
              "<tr>\n",
              "  <th>Nationality_STP</th>                             <td>  -23.6054</td> <td>   54.260</td> <td>   -0.435</td> <td> 0.664</td> <td> -129.955</td> <td>   82.744</td>\n",
              "</tr>\n",
              "<tr>\n",
              "  <th>Nationality_SUR</th>                             <td>  -12.2924</td> <td>   38.435</td> <td>   -0.320</td> <td> 0.749</td> <td>  -87.626</td> <td>   63.041</td>\n",
              "</tr>\n",
              "<tr>\n",
              "  <th>Nationality_SVK</th>                             <td>   -4.3424</td> <td>   12.870</td> <td>   -0.337</td> <td> 0.736</td> <td>  -29.567</td> <td>   20.882</td>\n",
              "</tr>\n",
              "<tr>\n",
              "  <th>Nationality_SVN</th>                             <td>  -16.6313</td> <td>   13.798</td> <td>   -1.205</td> <td> 0.228</td> <td>  -43.676</td> <td>   10.413</td>\n",
              "</tr>\n",
              "<tr>\n",
              "  <th>Nationality_SWE</th>                             <td>   -0.0688</td> <td>    4.823</td> <td>   -0.014</td> <td> 0.989</td> <td>   -9.521</td> <td>    9.383</td>\n",
              "</tr>\n",
              "<tr>\n",
              "  <th>Nationality_SWZ</th>                             <td>  -27.9285</td> <td>   93.757</td> <td>   -0.298</td> <td> 0.766</td> <td> -211.692</td> <td>  155.835</td>\n",
              "</tr>\n",
              "<tr>\n",
              "  <th>Nationality_SYC</th>                             <td>   -5.9141</td> <td>   35.736</td> <td>   -0.165</td> <td> 0.869</td> <td>  -75.956</td> <td>   64.128</td>\n",
              "</tr>\n",
              "<tr>\n",
              "  <th>Nationality_SYR</th>                             <td>  -81.6630</td> <td>   54.220</td> <td>   -1.506</td> <td> 0.132</td> <td> -187.933</td> <td>   24.607</td>\n",
              "</tr>\n",
              "<tr>\n",
              "  <th>Nationality_TCD</th>                             <td>  -74.8091</td> <td>   93.760</td> <td>   -0.798</td> <td> 0.425</td> <td> -258.579</td> <td>  108.960</td>\n",
              "</tr>\n",
              "<tr>\n",
              "  <th>Nationality_TGO</th>                             <td>  -27.4369</td> <td>   46.994</td> <td>   -0.584</td> <td> 0.559</td> <td> -119.545</td> <td>   64.672</td>\n",
              "</tr>\n",
              "<tr>\n",
              "  <th>Nationality_THA</th>                             <td>  -19.8983</td> <td>   16.516</td> <td>   -1.205</td> <td> 0.228</td> <td>  -52.270</td> <td>   12.474</td>\n",
              "</tr>\n",
              "<tr>\n",
              "  <th>Nationality_TJK</th>                             <td>   14.1819</td> <td>   93.760</td> <td>    0.151</td> <td> 0.880</td> <td> -169.588</td> <td>  197.951</td>\n",
              "</tr>\n",
              "<tr>\n",
              "  <th>Nationality_TKM</th>                             <td>    1.6270</td> <td>   93.757</td> <td>    0.017</td> <td> 0.986</td> <td> -182.136</td> <td>  185.390</td>\n",
              "</tr>\n",
              "<tr>\n",
              "  <th>Nationality_TMP</th>                             <td>   21.1801</td> <td>   93.774</td> <td>    0.226</td> <td> 0.821</td> <td> -162.617</td> <td>  204.977</td>\n",
              "</tr>\n",
              "<tr>\n",
              "  <th>Nationality_TON</th>                             <td>   17.6266</td> <td>   93.764</td> <td>    0.188</td> <td> 0.851</td> <td> -166.150</td> <td>  201.404</td>\n",
              "</tr>\n",
              "<tr>\n",
              "  <th>Nationality_TUN</th>                             <td>   -7.5552</td> <td>   18.461</td> <td>   -0.409</td> <td> 0.682</td> <td>  -43.739</td> <td>   28.629</td>\n",
              "</tr>\n",
              "<tr>\n",
              "  <th>Nationality_TUR</th>                             <td>   19.7231</td> <td>    8.885</td> <td>    2.220</td> <td> 0.026</td> <td>    2.309</td> <td>   37.137</td>\n",
              "</tr>\n",
              "<tr>\n",
              "  <th>Nationality_TWN</th>                             <td>  -20.6915</td> <td>   13.651</td> <td>   -1.516</td> <td> 0.130</td> <td>  -47.448</td> <td>    6.064</td>\n",
              "</tr>\n",
              "<tr>\n",
              "  <th>Nationality_TZA</th>                             <td> 1.407e-10</td> <td> 2.53e-10</td> <td>    0.556</td> <td> 0.578</td> <td>-3.56e-10</td> <td> 6.37e-10</td>\n",
              "</tr>\n",
              "<tr>\n",
              "  <th>Nationality_UGA</th>                             <td>   23.4266</td> <td>   46.995</td> <td>    0.498</td> <td> 0.618</td> <td>  -68.684</td> <td>  115.537</td>\n",
              "</tr>\n",
              "<tr>\n",
              "  <th>Nationality_UKR</th>                             <td>    6.8854</td> <td>   11.598</td> <td>    0.594</td> <td> 0.553</td> <td>  -15.847</td> <td>   29.617</td>\n",
              "</tr>\n",
              "<tr>\n",
              "  <th>Nationality_UMI</th>                             <td>  -27.1689</td> <td>   66.350</td> <td>   -0.409</td> <td> 0.682</td> <td> -157.215</td> <td>  102.877</td>\n",
              "</tr>\n",
              "<tr>\n",
              "  <th>Nationality_URY</th>                             <td>  -10.9204</td> <td>   18.118</td> <td>   -0.603</td> <td> 0.547</td> <td>  -46.431</td> <td>   24.590</td>\n",
              "</tr>\n",
              "<tr>\n",
              "  <th>Nationality_USA</th>                             <td>    3.3257</td> <td>    4.187</td> <td>    0.794</td> <td> 0.427</td> <td>   -4.881</td> <td>   11.532</td>\n",
              "</tr>\n",
              "<tr>\n",
              "  <th>Nationality_UZB</th>                             <td>   27.0040</td> <td>   93.754</td> <td>    0.288</td> <td> 0.773</td> <td> -156.754</td> <td>  210.762</td>\n",
              "</tr>\n",
              "<tr>\n",
              "  <th>Nationality_VCT</th>                             <td> 3.122e-10</td> <td> 6.74e-10</td> <td>    0.463</td> <td> 0.643</td> <td>-1.01e-09</td> <td> 1.63e-09</td>\n",
              "</tr>\n",
              "<tr>\n",
              "  <th>Nationality_VEN</th>                             <td>   11.3406</td> <td>   19.904</td> <td>    0.570</td> <td> 0.569</td> <td>  -27.670</td> <td>   50.352</td>\n",
              "</tr>\n",
              "<tr>\n",
              "  <th>Nationality_VIR</th>                             <td>  -52.9852</td> <td>   93.762</td> <td>   -0.565</td> <td> 0.572</td> <td> -236.759</td> <td>  130.789</td>\n",
              "</tr>\n",
              "<tr>\n",
              "  <th>Nationality_VNM</th>                             <td>    2.3807</td> <td>   19.908</td> <td>    0.120</td> <td> 0.905</td> <td>  -36.639</td> <td>   41.400</td>\n",
              "</tr>\n",
              "<tr>\n",
              "  <th>Nationality_WLF</th>                             <td>    4.1346</td> <td>   66.352</td> <td>    0.062</td> <td> 0.950</td> <td> -125.915</td> <td>  134.184</td>\n",
              "</tr>\n",
              "<tr>\n",
              "  <th>Nationality_WSM</th>                             <td>  -17.9042</td> <td>   93.767</td> <td>   -0.191</td> <td> 0.849</td> <td> -201.687</td> <td>  165.878</td>\n",
              "</tr>\n",
              "<tr>\n",
              "  <th>Nationality_YEM</th>                             <td> 1.254e-10</td> <td> 2.69e-10</td> <td>    0.466</td> <td> 0.641</td> <td>-4.02e-10</td> <td> 6.52e-10</td>\n",
              "</tr>\n",
              "<tr>\n",
              "  <th>Nationality_ZAF</th>                             <td>  -14.3236</td> <td>   13.654</td> <td>   -1.049</td> <td> 0.294</td> <td>  -41.085</td> <td>   12.437</td>\n",
              "</tr>\n",
              "<tr>\n",
              "  <th>Nationality_ZWE</th>                             <td>  -28.6818</td> <td>   93.759</td> <td>   -0.306</td> <td> 0.760</td> <td> -212.450</td> <td>  155.086</td>\n",
              "</tr>\n",
              "<tr>\n",
              "  <th>DistributionChannel_Corporate</th>               <td>  -17.5827</td> <td>    3.812</td> <td>   -4.613</td> <td> 0.000</td> <td>  -25.054</td> <td>  -10.111</td>\n",
              "</tr>\n",
              "<tr>\n",
              "  <th>DistributionChannel_Direct</th>                  <td>  -21.7594</td> <td>    4.156</td> <td>   -5.235</td> <td> 0.000</td> <td>  -29.906</td> <td>  -13.613</td>\n",
              "</tr>\n",
              "<tr>\n",
              "  <th>DistributionChannel_Electronic Distribution</th> <td>  -19.0184</td> <td>    5.227</td> <td>   -3.639</td> <td> 0.000</td> <td>  -29.263</td> <td>   -8.774</td>\n",
              "</tr>\n",
              "<tr>\n",
              "  <th>DistributionChannel_Travel Agent/Operator</th>   <td>  -15.4214</td> <td>    3.062</td> <td>   -5.037</td> <td> 0.000</td> <td>  -21.422</td> <td>   -9.421</td>\n",
              "</tr>\n",
              "<tr>\n",
              "  <th>MarketSegment_Aviation</th>                      <td>  -12.8547</td> <td>    6.997</td> <td>   -1.837</td> <td> 0.066</td> <td>  -26.569</td> <td>    0.859</td>\n",
              "</tr>\n",
              "<tr>\n",
              "  <th>MarketSegment_Complementary</th>                 <td>  -19.9548</td> <td>    5.122</td> <td>   -3.896</td> <td> 0.000</td> <td>  -29.994</td> <td>   -9.915</td>\n",
              "</tr>\n",
              "<tr>\n",
              "  <th>MarketSegment_Corporate</th>                     <td>   -1.9527</td> <td>    3.386</td> <td>   -0.577</td> <td> 0.564</td> <td>   -8.590</td> <td>    4.685</td>\n",
              "</tr>\n",
              "<tr>\n",
              "  <th>MarketSegment_Direct</th>                        <td>   -3.8451</td> <td>    3.662</td> <td>   -1.050</td> <td> 0.294</td> <td>  -11.022</td> <td>    3.332</td>\n",
              "</tr>\n",
              "<tr>\n",
              "  <th>MarketSegment_Groups</th>                        <td>  -10.7271</td> <td>    2.393</td> <td>   -4.483</td> <td> 0.000</td> <td>  -15.417</td> <td>   -6.037</td>\n",
              "</tr>\n",
              "<tr>\n",
              "  <th>MarketSegment_Other</th>                         <td>  -18.4219</td> <td>    2.297</td> <td>   -8.019</td> <td> 0.000</td> <td>  -22.924</td> <td>  -13.919</td>\n",
              "</tr>\n",
              "<tr>\n",
              "  <th>MarketSegment_Travel Agent/Operator</th>         <td>   -6.0255</td> <td>    2.431</td> <td>   -2.479</td> <td> 0.013</td> <td>  -10.790</td> <td>   -1.261</td>\n",
              "</tr>\n",
              "</table>\n",
              "<table class=\"simpletable\">\n",
              "<tr>\n",
              "  <th>Omnibus:</th>       <td>138933.643</td> <th>  Durbin-Watson:     </th>    <td>   1.997</td>   \n",
              "</tr>\n",
              "<tr>\n",
              "  <th>Prob(Omnibus):</th>   <td> 0.000</td>   <th>  Jarque-Bera (JB):  </th> <td>2052569359.918</td>\n",
              "</tr>\n",
              "<tr>\n",
              "  <th>Skew:</th>            <td>17.194</td>   <th>  Prob(JB):          </th>    <td>    0.00</td>   \n",
              "</tr>\n",
              "<tr>\n",
              "  <th>Kurtosis:</th>        <td>860.597</td>  <th>  Cond. No.          </th>    <td>2.48e+21</td>   \n",
              "</tr>\n",
              "</table><br/><br/>Warnings:<br/>[1] Standard Errors assume that the covariance matrix of the errors is correctly specified.<br/>[2] The smallest eigenvalue is 1.03e-32. This might indicate that there are<br/>strong multicollinearity problems or that the design matrix is singular."
            ]
          },
          "metadata": {},
          "execution_count": 93
        }
      ]
    },
    {
      "cell_type": "markdown",
      "source": [
        "## Ridge Regression"
      ],
      "metadata": {
        "id": "etK_1YXL8IhC"
      }
    },
    {
      "cell_type": "code",
      "source": [
        "\n",
        "# initiate the standard scaler\n",
        "ss = StandardScaler()\n",
        "# fit \n",
        "Z_train = ss.fit_transform(X_train)\n",
        "Z_test = ss.fit_transform(X_test)\n",
        "# transform the df\n",
        "#Z_train = pd.DataFrame(ss.transform(X_train), columns=X_train.columns)\n"
      ],
      "metadata": {
        "id": "yJ-ij0oa7-h8"
      },
      "execution_count": null,
      "outputs": []
    },
    {
      "cell_type": "code",
      "source": [
        "# list of alphas to check: 100 values from 0 to 5 with\n",
        "r_alphas = np.logspace(0, 5, 100)\n",
        "# initiate the efficient LOOCV over alphas\n",
        "ridge_model = RidgeCV(alphas=r_alphas, scoring='r2')\n",
        "# fit the model with the best alpha\n",
        "ridge_model = ridge_model.fit(Z_train, y_train)"
      ],
      "metadata": {
        "id": "CudSrJoS8ssC"
      },
      "execution_count": null,
      "outputs": []
    },
    {
      "cell_type": "code",
      "source": [
        "ridge_model.alpha_"
      ],
      "metadata": {
        "colab": {
          "base_uri": "https://localhost:8080/"
        },
        "id": "oU6rLBJI-ATY",
        "outputId": "231e977b-9829-4fa4-f2ac-2bf2ecf4a408"
      },
      "execution_count": null,
      "outputs": [
        {
          "output_type": "execute_result",
          "data": {
            "text/plain": [
              "376.49358067924675"
            ]
          },
          "metadata": {},
          "execution_count": 26
        }
      ]
    },
    {
      "cell_type": "markdown",
      "source": [
        "The optimal alpha from LOOCV is 376.5"
      ],
      "metadata": {
        "id": "5UsoBL8M_x3m"
      }
    },
    {
      "cell_type": "code",
      "source": [
        "final_ridge = Ridge(alpha=376.5).fit(Z_train, y_train)\n",
        "print(\"MSE:\",mean_squared_error(y_train,final_ridge.predict(Z_train)),mean_squared_error(y_test,final_ridge.predict(Z_test)))\n",
        "print(\"R2:\",r2_score(y_train,final_ridge.predict(Z_train)),r2_score(y_test,final_ridge.predict(Z_test)))"
      ],
      "metadata": {
        "colab": {
          "base_uri": "https://localhost:8080/"
        },
        "id": "wv27npJbshLL",
        "outputId": "673ad3e0-e8ff-4a64-ff49-56ac95b8e9a8"
      },
      "execution_count": null,
      "outputs": [
        {
          "output_type": "stream",
          "name": "stdout",
          "text": [
            "MSE: 8846.956610731233 6797.17609438529\n",
            "R2: 0.3478487045668245 0.38709637802555497\n"
          ]
        }
      ]
    },
    {
      "cell_type": "markdown",
      "source": [
        "## Lasso Regression"
      ],
      "metadata": {
        "id": "ZWxdCaCmC1bh"
      }
    },
    {
      "cell_type": "code",
      "source": [
        "# list of alphas to check: 100 values from 0 to 5 with\n",
        "r_alphas = np.logspace(0, 5, 100)\n",
        "# initiate the efficient LOOCV over alphas\n",
        "lasso_model = LassoCV(alphas=r_alphas)\n",
        "# fit the model with the best alpha\n",
        "lasso_model = lasso_model.fit(Z_train, y_train)"
      ],
      "metadata": {
        "id": "AtjZOdVfC3Qi"
      },
      "execution_count": null,
      "outputs": []
    },
    {
      "cell_type": "code",
      "source": [
        "lasso_model.alpha_"
      ],
      "metadata": {
        "colab": {
          "base_uri": "https://localhost:8080/"
        },
        "id": "mvHrbSdQDBXD",
        "outputId": "5dd86e3b-4a9d-4a90-a51e-627346919001"
      },
      "execution_count": null,
      "outputs": [
        {
          "output_type": "execute_result",
          "data": {
            "text/plain": [
              "1.0"
            ]
          },
          "metadata": {},
          "execution_count": 38
        }
      ]
    },
    {
      "cell_type": "markdown",
      "source": [
        "The optimal alpha from LOOCV is 1.0"
      ],
      "metadata": {
        "id": "aV2Cw3QtDHA7"
      }
    },
    {
      "cell_type": "code",
      "source": [
        "final_lasso = Lasso(alpha=1).fit(Z_train, y_train)\n",
        "print(\"MSE:\",mean_squared_error(y_train,final_lasso.predict(Z_train)),mean_squared_error(y_test,final_lasso.predict(Z_test)))\n",
        "print(\"R2:\",r2_score(y_train,final_lasso.predict(Z_train)),r2_score(y_test,final_lasso.predict(Z_test)))"
      ],
      "metadata": {
        "colab": {
          "base_uri": "https://localhost:8080/"
        },
        "id": "u2WKHpUMDIzE",
        "outputId": "0539bcda-174e-42ba-ff0a-4d53ae2c8a1c"
      },
      "execution_count": null,
      "outputs": [
        {
          "output_type": "stream",
          "name": "stdout",
          "text": [
            "MSE: 8912.996015886916 6796.679810039933\n",
            "R2: 0.3429806255745895 0.3871411281495145\n"
          ]
        }
      ]
    },
    {
      "cell_type": "markdown",
      "source": [
        "Here are the columns kept by the lasso model."
      ],
      "metadata": {
        "id": "y51vePo1EscF"
      }
    },
    {
      "cell_type": "code",
      "source": [
        "df.loc[:, df.columns != 'OtherRevenue'].columns[np.where(final_lasso.coef_!=0)]"
      ],
      "metadata": {
        "colab": {
          "base_uri": "https://localhost:8080/"
        },
        "id": "bg9MibU4ETtr",
        "outputId": "35504ee8-406e-4768-ff7a-704dd9d9cc64"
      },
      "execution_count": null,
      "outputs": [
        {
          "output_type": "execute_result",
          "data": {
            "text/plain": [
              "Index(['Age', 'DaysSinceCreation', 'AverageLeadTime', 'LodgingRevenue',\n",
              "       'PersonsNights', 'RoomNights', 'SRCrib', 'Nationality_ARM',\n",
              "       'Nationality_AUS', 'Nationality_BEL', 'Nationality_CHN',\n",
              "       'Nationality_FRA', 'Nationality_GIB', 'Nationality_IRL',\n",
              "       'Nationality_IRQ', 'Nationality_ISR', 'Nationality_JPN',\n",
              "       'Nationality_PRT', 'MarketSegment_Corporate', 'MarketSegment_Other',\n",
              "       'MarketSegment_Travel Agent/Operator'],\n",
              "      dtype='object')"
            ]
          },
          "metadata": {},
          "execution_count": 42
        }
      ]
    },
    {
      "cell_type": "markdown",
      "source": [
        "## Random Forest"
      ],
      "metadata": {
        "id": "sS0otREDlBZQ"
      }
    },
    {
      "cell_type": "code",
      "source": [
        "RF = RandomForestRegressor(max_depth=100).fit(X_train, y_train)\n",
        "print(\"MSE:\",mean_squared_error(y_train,RF.predict(Z_train)),mean_squared_error(y_test,RF.predict(Z_test)))\n",
        "print(\"R2:\",r2_score(y_train,RF.predict(Z_train)),r2_score(y_test,RF.predict(Z_test)))"
      ],
      "metadata": {
        "colab": {
          "base_uri": "https://localhost:8080/"
        },
        "id": "PYNSuTSrvxVj",
        "outputId": "20d2425c-99c2-4152-c3ea-168942fcac74"
      },
      "execution_count": null,
      "outputs": [
        {
          "output_type": "stream",
          "name": "stdout",
          "text": [
            "MSE: 16698.746113257548 15072.902352670211\n",
            "R2: -0.23094408495923524 -0.35912860242797295\n"
          ]
        }
      ]
    },
    {
      "cell_type": "code",
      "source": [
        "# Create the parameter grid based on the results of random search \n",
        "param_grid = {\n",
        "    'max_depth': [1,5,10,15,20,30,40,50,60],\n",
        "}\n",
        "# Create a based model\n",
        "rf = RandomForestRegressor()\n",
        "# Instantiate the grid search model\n",
        "grid_search = GridSearchCV(estimator = rf, param_grid = param_grid, cv = 2, n_jobs = -1, verbose = 2)\n",
        "# Fit the grid search to the data\n",
        "grid_search.fit(X_train, y_train)\n",
        "grid_search.best_params_"
      ],
      "metadata": {
        "colab": {
          "base_uri": "https://localhost:8080/"
        },
        "id": "4bgzDePu0OLp",
        "outputId": "dac367b4-58de-4ff7-f40f-4147c42fe050"
      },
      "execution_count": null,
      "outputs": [
        {
          "output_type": "stream",
          "name": "stdout",
          "text": [
            "Fitting 2 folds for each of 9 candidates, totalling 18 fits\n"
          ]
        },
        {
          "output_type": "execute_result",
          "data": {
            "text/plain": [
              "{'max_depth': 10}"
            ]
          },
          "metadata": {},
          "execution_count": 107
        }
      ]
    },
    {
      "cell_type": "code",
      "source": [
        "rf = RandomForestRegressor(max_depth=10).fit(X_train, y_train)\n",
        "print(\"MSE:\",mean_squared_error(y_train,rf.predict(X_train)),mean_squared_error(y_test,rf.predict(X_test)))\n",
        "print(\"R2:\",r2_score(y_train,rf.predict(X_train)),r2_score(y_test,rf.predict(X_test)))"
      ],
      "metadata": {
        "colab": {
          "base_uri": "https://localhost:8080/"
        },
        "id": "l_Pdrq0FlFvX",
        "outputId": "2d93da5b-d437-4a56-fb46-f8eab2cca8b9"
      },
      "execution_count": null,
      "outputs": [
        {
          "output_type": "stream",
          "name": "stdout",
          "text": [
            "MSE: 5147.4689505779525 6259.474422586402\n",
            "R2: 0.6205555546356412 0.43558111604190264\n"
          ]
        }
      ]
    },
    {
      "cell_type": "code",
      "source": [
        "rf.feature_importances_[0:15]"
      ],
      "metadata": {
        "colab": {
          "base_uri": "https://localhost:8080/"
        },
        "id": "f1bO9D1GmkKQ",
        "outputId": "6b944a37-70a3-46e6-f7e0-e96bf2204fd4"
      },
      "execution_count": null,
      "outputs": [
        {
          "output_type": "execute_result",
          "data": {
            "text/plain": [
              "array([4.51236341e-02, 3.75802429e-02, 3.61796582e-02, 2.42284949e-01,\n",
              "       1.25012454e-03, 1.46456938e-04, 2.16061931e-02, 3.60636506e-01,\n",
              "       5.50184664e-02, 7.33570233e-02, 2.44117180e-02, 1.53616396e-02,\n",
              "       2.30171405e-04, 0.00000000e+00, 2.29633757e-04])"
            ]
          },
          "metadata": {},
          "execution_count": 10
        }
      ]
    },
    {
      "cell_type": "code",
      "source": [
        "feature_importance = rf.feature_importances_[0:15]\n",
        "sorted_idx = np.argsort(feature_importance)\n",
        "\n",
        "#fig = plt.figure(figsize=(50, 50))\n",
        "plt.barh(range(len(sorted_idx)), feature_importance[sorted_idx], align='center')\n",
        "plt.yticks(range(len(sorted_idx)), np.array(df.loc[:, df.columns != 'OtherRevenue'].columns)[sorted_idx])\n",
        "plt.title('Feature Importance (Top 15)')"
      ],
      "metadata": {
        "colab": {
          "base_uri": "https://localhost:8080/",
          "height": 298
        },
        "id": "SZPwmWJRmjG5",
        "outputId": "99cf8f4b-b611-48f1-b94a-c59b0d847d46"
      },
      "execution_count": null,
      "outputs": [
        {
          "output_type": "execute_result",
          "data": {
            "text/plain": [
              "Text(0.5, 1.0, 'Feature Importance (Top 15)')"
            ]
          },
          "metadata": {},
          "execution_count": 11
        },
        {
          "output_type": "display_data",
          "data": {
            "text/plain": [
              "<Figure size 432x288 with 1 Axes>"
            ],
            "image/png": "[encoded data removed]"
          },
          "metadata": {
            "needs_background": "light"
          }
        }
      ]
    },
    {
      "cell_type": "code",
      "source": [
        "#rea=RandomForestRegressor(max_depth=10,n_estimators=100).fit(X_train,y_train)\n",
        "print(\"MSE:\",mean_squared_error(y_train,grid_search.predict(X_train)),mean_squared_error(y_test,grid_search.predict(X_test)))\n",
        "print(\"R2:\",r2_score(y_train,grid_search.predict(X_train)),r2_score(y_test,grid_search.predict(X_test)))"
      ],
      "metadata": {
        "colab": {
          "base_uri": "https://localhost:8080/"
        },
        "id": "-MS27YFHwGhd",
        "outputId": "456e8b9f-d46e-4bbf-fc24-19a95e784715"
      },
      "execution_count": null,
      "outputs": [
        {
          "output_type": "stream",
          "name": "stdout",
          "text": [
            "MSE: 5211.739219690527 6206.817408562157\n",
            "R2: 0.6158178870846596 0.440329216454437\n"
          ]
        }
      ]
    },
    {
      "cell_type": "markdown",
      "source": [
        "## XG Boost"
      ],
      "metadata": {
        "id": "e0OPm4w0Td_p"
      }
    },
    {
      "cell_type": "code",
      "source": [
        "param_grid = {\"learning_rate\" : [1,0.1,0.01],\n",
        "              \"max_depth\" : [1,2,3,4,5],\n",
        "              \"alpha\":[1,5,10],\n",
        "              \"colsample_bytree\":[0.3,0.5,0.6]}\n",
        "xg_reg = xgb.XGBRegressor(objective ='reg:squarederror', n_estimators = 100)\n",
        "grid_search = GridSearchCV(estimator = xg_reg, param_grid = param_grid, cv=2,n_jobs = -1, verbose = 2)\n",
        "grid_search.fit(X_train,y_train)\n",
        "grid_search.best_params_\n"
      ],
      "metadata": {
        "colab": {
          "base_uri": "https://localhost:8080/"
        },
        "id": "GWM7JweuQTeT",
        "outputId": "5f381cc2-931a-4653-b7ba-2ce7b182bf3f"
      },
      "execution_count": null,
      "outputs": [
        {
          "output_type": "stream",
          "name": "stdout",
          "text": [
            "Fitting 2 folds for each of 135 candidates, totalling 270 fits\n"
          ]
        },
        {
          "output_type": "execute_result",
          "data": {
            "text/plain": [
              "{'alpha': 1, 'colsample_bytree': 0.3, 'learning_rate': 0.1, 'max_depth': 5}"
            ]
          },
          "metadata": {},
          "execution_count": 71
        }
      ]
    },
    {
      "cell_type": "code",
      "source": [
        "print(\"MSE:\",mean_squared_error(y_train,grid_search.predict(X_train)),mean_squared_error(y_test,grid_search.predict(X_test)))\n",
        "print(\"R2:\",r2_score(y_train,grid_search.predict(X_train)),r2_score(y_test,grid_search.predict(X_test)))"
      ],
      "metadata": {
        "colab": {
          "base_uri": "https://localhost:8080/"
        },
        "id": "glhEWFdmZPV4",
        "outputId": "b6e8e780-532a-49dc-9248-00f4ca92368c"
      },
      "execution_count": null,
      "outputs": [
        {
          "output_type": "stream",
          "name": "stdout",
          "text": [
            "MSE: 6140.762025370919 6232.914861105934\n",
            "R2: 0.5473351926542915 0.4379760005061847\n"
          ]
        }
      ]
    },
    {
      "cell_type": "code",
      "source": [
        "final_xg_reg = xgb.XGBRegressor(objective ='reg:squarederror', n_estimators = 100,alpha=1,colsample_bytree=0.3,learning_rate=0.1,max_depth=5).fit(X_train,y_train)\n",
        "print(\"MSE:\",mean_squared_error(y_train,final_xg_reg.predict(X_train)),mean_squared_error(y_test,final_xg_reg.predict(X_test)))\n",
        "print(\"R2:\",r2_score(y_train,final_xg_reg.predict(X_train)),r2_score(y_test,final_xg_reg.predict(X_test)))"
      ],
      "metadata": {
        "colab": {
          "base_uri": "https://localhost:8080/"
        },
        "id": "pW7Jz91Lh-4Y",
        "outputId": "0a89aae9-aa4f-4745-83c5-f706bd943ffe"
      },
      "execution_count": null,
      "outputs": [
        {
          "output_type": "stream",
          "name": "stdout",
          "text": [
            "MSE: 6140.762025370919 6232.914861105934\n",
            "R2: 0.5473351926542915 0.4379760005061847\n"
          ]
        }
      ]
    },
    {
      "cell_type": "code",
      "source": [
        "feature_importance = final_xg_reg.feature_importances_[0:15]\n",
        "sorted_idx = np.argsort(feature_importance)\n",
        "\n",
        "#fig = plt.figure(figsize=(50, 50))\n",
        "plt.barh(range(len(sorted_idx)), feature_importance[sorted_idx], align='center')\n",
        "plt.yticks(range(len(sorted_idx)), np.array(df.loc[:, df.columns != 'OtherRevenue'].columns)[sorted_idx])\n",
        "plt.title('Feature Importance (Top 15)')"
      ],
      "metadata": {
        "colab": {
          "base_uri": "https://localhost:8080/",
          "height": 298
        },
        "id": "SEl5VpX8XajJ",
        "outputId": "d7e752b3-d4f5-4d12-8387-aaa1e8e1fe2b"
      },
      "execution_count": null,
      "outputs": [
        {
          "output_type": "execute_result",
          "data": {
            "text/plain": [
              "Text(0.5, 1.0, 'Feature Importance (Top 15)')"
            ]
          },
          "metadata": {},
          "execution_count": 80
        },
        {
          "output_type": "display_data",
          "data": {
            "text/plain": [
              "<Figure size 432x288 with 1 Axes>"
            ],
            "image/png": "[encoded data removed]"
          },
          "metadata": {
            "needs_background": "light"
          }
        }
      ]
    },
    {
      "cell_type": "code",
      "source": [
        "xgb.plot_tree(final_xg_reg,num_trees=0)\n",
        "plt.rcParams['figure.figsize'] = [100, 100]\n",
        "#plt.show()"
      ],
      "metadata": {
        "colab": {
          "base_uri": "https://localhost:8080/",
          "height": 100
        },
        "id": "Fn-EyWJyVNVX",
        "outputId": "de259203-18f2-4e03-f83f-20b695853288"
      },
      "execution_count": null,
      "outputs": [
        {
          "output_type": "display_data",
          "data": {
            "text/plain": [
              "<Figure size 432x288 with 1 Axes>"
            ],
            "image/png": "[encoded data removed]"
          },
          "metadata": {
            "needs_background": "light"
          }
        }
      ]
    },
    {
      "cell_type": "code",
      "source": [
        "xgb.plot_importance(final_xg_reg)\n",
        "#plt.rcParams['figure.figsize'] = [100, 100]\n",
        "plt.show()"
      ],
      "metadata": {
        "colab": {
          "base_uri": "https://localhost:8080/",
          "height": 1000
        },
        "id": "PqFjy53ZVd5B",
        "outputId": "a4e61741-58e2-40fb-95e1-4e7c9ddbb9c6"
      },
      "execution_count": null,
      "outputs": [
        {
          "output_type": "display_data",
          "data": {
            "text/plain": [
              "<Figure size 7200x7200 with 1 Axes>"
            ],
            "image/png": "[encoded data removed]"
          },
          "metadata": {
            "needs_background": "light"
          }
        }
      ]
    },
    {
      "cell_type": "markdown",
      "source": [
        "K-fold cross validation with XG Boost"
      ],
      "metadata": {
        "id": "bmGcAyKJTrYQ"
      }
    },
    {
      "cell_type": "code",
      "source": [
        "params = {\"objective\":\"reg:linear\",'colsample_bytree': 0.3,'learning_rate': 0.1,\n",
        "                'max_depth': 5, 'alpha': 10}\n",
        "data_dmatrix = xgb.DMatrix(data=X,label=y)\n",
        "cv_results = xgb.cv(dtrain=data_dmatrix, params=params, nfold=10,\n",
        "                    num_boost_round=50,early_stopping_rounds=10,metrics=\"rmse\", as_pandas=True, seed=123)\n",
        "cv_results.head()"
      ],
      "metadata": {
        "colab": {
          "base_uri": "https://localhost:8080/",
          "height": 380
        },
        "id": "KpgZATsmSZ8m",
        "outputId": "97741e1f-2e6f-4a4b-b9e0-fe1967aa6a17"
      },
      "execution_count": null,
      "outputs": [
        {
          "output_type": "stream",
          "name": "stdout",
          "text": [
            "[01:31:19] WARNING: /workspace/src/objective/regression_obj.cu:152: reg:linear is now deprecated in favor of reg:squarederror.\n",
            "[01:31:21] WARNING: /workspace/src/objective/regression_obj.cu:152: reg:linear is now deprecated in favor of reg:squarederror.\n",
            "[01:31:22] WARNING: /workspace/src/objective/regression_obj.cu:152: reg:linear is now deprecated in favor of reg:squarederror.\n",
            "[01:31:24] WARNING: /workspace/src/objective/regression_obj.cu:152: reg:linear is now deprecated in favor of reg:squarederror.\n",
            "[01:31:25] WARNING: /workspace/src/objective/regression_obj.cu:152: reg:linear is now deprecated in favor of reg:squarederror.\n",
            "[01:31:26] WARNING: /workspace/src/objective/regression_obj.cu:152: reg:linear is now deprecated in favor of reg:squarederror.\n",
            "[01:31:28] WARNING: /workspace/src/objective/regression_obj.cu:152: reg:linear is now deprecated in favor of reg:squarederror.\n",
            "[01:31:29] WARNING: /workspace/src/objective/regression_obj.cu:152: reg:linear is now deprecated in favor of reg:squarederror.\n",
            "[01:31:31] WARNING: /workspace/src/objective/regression_obj.cu:152: reg:linear is now deprecated in favor of reg:squarederror.\n",
            "[01:31:32] WARNING: /workspace/src/objective/regression_obj.cu:152: reg:linear is now deprecated in favor of reg:squarederror.\n"
          ]
        },
        {
          "output_type": "execute_result",
          "data": {
            "text/plain": [
              "   train-rmse-mean  train-rmse-std  test-rmse-mean  test-rmse-std\n",
              "0       127.568120        1.046624      127.498027       9.449046\n",
              "1       122.745917        1.384972      122.733103       9.931147\n",
              "2       118.502541        1.735354      118.482236      10.648258\n",
              "3       114.268012        1.696321      114.451062      10.633322\n",
              "4       110.938744        1.570861      111.238786      11.125692"
            ],
            "text/html": [
              "\n",
              "  <div id=\"df-3ca676c0-4ae4-4abd-a1b0-ecd978a3b7bc\">\n",
              "    <div class=\"colab-df-container\">\n",
              "      <div>\n",
              "<style scoped>\n",
              "    .dataframe tbody tr th:only-of-type {\n",
              "        vertical-align: middle;\n",
              "    }\n",
              "\n",
              "    .dataframe tbody tr th {\n",
              "        vertical-align: top;\n",
              "    }\n",
              "\n",
              "    .dataframe thead th {\n",
              "        text-align: right;\n",
              "    }\n",
              "</style>\n",
              "<table border=\"1\" class=\"dataframe\">\n",
              "  <thead>\n",
              "    <tr style=\"text-align: right;\">\n",
              "      <th></th>\n",
              "      <th>train-rmse-mean</th>\n",
              "      <th>train-rmse-std</th>\n",
              "      <th>test-rmse-mean</th>\n",
              "      <th>test-rmse-std</th>\n",
              "    </tr>\n",
              "  </thead>\n",
              "  <tbody>\n",
              "    <tr>\n",
              "      <th>0</th>\n",
              "      <td>127.568120</td>\n",
              "      <td>1.046624</td>\n",
              "      <td>127.498027</td>\n",
              "      <td>9.449046</td>\n",
              "    </tr>\n",
              "    <tr>\n",
              "      <th>1</th>\n",
              "      <td>122.745917</td>\n",
              "      <td>1.384972</td>\n",
              "      <td>122.733103</td>\n",
              "      <td>9.931147</td>\n",
              "    </tr>\n",
              "    <tr>\n",
              "      <th>2</th>\n",
              "      <td>118.502541</td>\n",
              "      <td>1.735354</td>\n",
              "      <td>118.482236</td>\n",
              "      <td>10.648258</td>\n",
              "    </tr>\n",
              "    <tr>\n",
              "      <th>3</th>\n",
              "      <td>114.268012</td>\n",
              "      <td>1.696321</td>\n",
              "      <td>114.451062</td>\n",
              "      <td>10.633322</td>\n",
              "    </tr>\n",
              "    <tr>\n",
              "      <th>4</th>\n",
              "      <td>110.938744</td>\n",
              "      <td>1.570861</td>\n",
              "      <td>111.238786</td>\n",
              "      <td>11.125692</td>\n",
              "    </tr>\n",
              "  </tbody>\n",
              "</table>\n",
              "</div>\n",
              "      <button class=\"colab-df-convert\" onclick=\"convertToInteractive('df-3ca676c0-4ae4-4abd-a1b0-ecd978a3b7bc')\"\n",
              "              title=\"Convert this dataframe to an interactive table.\"\n",
              "              style=\"display:none;\">\n",
              "        \n",
              "  <svg xmlns=\"http://www.w3.org/2000/svg\" height=\"24px\"viewBox=\"0 0 24 24\"\n",
              "       width=\"24px\">\n",
              "    <path d=\"M0 0h24v24H0V0z\" fill=\"none\"/>\n",
              "    <path d=\"M18.56 5.44l.94 2.06.94-2.06 2.06-.94-2.06-.94-.94-2.06-.94 2.06-2.06.94zm-11 1L8.5 8.5l.94-2.06 2.06-.94-2.06-.94L8.5 2.5l-.94 2.06-2.06.94zm10 10l.94 2.06.94-2.06 2.06-.94-2.06-.94-.94-2.06-.94 2.06-2.06.94z\"/><path d=\"M17.41 7.96l-1.37-1.37c-.4-.4-.92-.59-1.43-.59-.52 0-1.04.2-1.43.59L10.3 9.45l-7.72 7.72c-.78.78-.78 2.05 0 2.83L4 21.41c.39.39.9.59 1.41.59.51 0 1.02-.2 1.41-.59l7.78-7.78 2.81-2.81c.8-.78.8-2.07 0-2.86zM5.41 20L4 18.59l7.72-7.72 1.47 1.35L5.41 20z\"/>\n",
              "  </svg>\n",
              "      </button>\n",
              "      \n",
              "  <style>\n",
              "    .colab-df-container {\n",
              "      display:flex;\n",
              "      flex-wrap:wrap;\n",
              "      gap: 12px;\n",
              "    }\n",
              "\n",
              "    .colab-df-convert {\n",
              "      background-color: #E8F0FE;\n",
              "      border: none;\n",
              "      border-radius: 50%;\n",
              "      cursor: pointer;\n",
              "      display: none;\n",
              "      fill: #1967D2;\n",
              "      height: 32px;\n",
              "      padding: 0 0 0 0;\n",
              "      width: 32px;\n",
              "    }\n",
              "\n",
              "    .colab-df-convert:hover {\n",
              "      background-color: #E2EBFA;\n",
              "      box-shadow: 0px 1px 2px rgba(60, 64, 67, 0.3), 0px 1px 3px 1px rgba(60, 64, 67, 0.15);\n",
              "      fill: #174EA6;\n",
              "    }\n",
              "\n",
              "    [theme=dark] .colab-df-convert {\n",
              "      background-color: #3B4455;\n",
              "      fill: #D2E3FC;\n",
              "    }\n",
              "\n",
              "    [theme=dark] .colab-df-convert:hover {\n",
              "      background-color: #434B5C;\n",
              "      box-shadow: 0px 1px 3px 1px rgba(0, 0, 0, 0.15);\n",
              "      filter: drop-shadow(0px 1px 2px rgba(0, 0, 0, 0.3));\n",
              "      fill: #FFFFFF;\n",
              "    }\n",
              "  </style>\n",
              "\n",
              "      <script>\n",
              "        const buttonEl =\n",
              "          document.querySelector('#df-3ca676c0-4ae4-4abd-a1b0-ecd978a3b7bc button.colab-df-convert');\n",
              "        buttonEl.style.display =\n",
              "          google.colab.kernel.accessAllowed ? 'block' : 'none';\n",
              "\n",
              "        async function convertToInteractive(key) {\n",
              "          const element = document.querySelector('#df-3ca676c0-4ae4-4abd-a1b0-ecd978a3b7bc');\n",
              "          const dataTable =\n",
              "            await google.colab.kernel.invokeFunction('convertToInteractive',\n",
              "                                                     [key], {});\n",
              "          if (!dataTable) return;\n",
              "\n",
              "          const docLinkHtml = 'Like what you see? Visit the ' +\n",
              "            '<a target=\"_blank\" href=https://colab.research.google.com/notebooks/data_table.ipynb>data table notebook</a>'\n",
              "            + ' to learn more about interactive tables.';\n",
              "          element.innerHTML = '';\n",
              "          dataTable['output_type'] = 'display_data';\n",
              "          await google.colab.output.renderOutput(dataTable, element);\n",
              "          const docLink = document.createElement('div');\n",
              "          docLink.innerHTML = docLinkHtml;\n",
              "          element.appendChild(docLink);\n",
              "        }\n",
              "      </script>\n",
              "    </div>\n",
              "  </div>\n",
              "  "
            ]
          },
          "metadata": {},
          "execution_count": 50
        }
      ]
    },
    {
      "cell_type": "code",
      "source": [
        "print((cv_results[\"test-rmse-mean\"]).tail(1))"
      ],
      "metadata": {
        "colab": {
          "base_uri": "https://localhost:8080/"
        },
        "id": "R4cEQr9XT7nw",
        "outputId": "95a295e7-6bcb-412f-eea9-3d6a9b131869"
      },
      "execution_count": null,
      "outputs": [
        {
          "output_type": "stream",
          "name": "stdout",
          "text": [
            "49    89.201873\n",
            "Name: test-rmse-mean, dtype: float64\n"
          ]
        }
      ]
    },
    {
      "cell_type": "code",
      "source": [
        "cv_results"
      ],
      "metadata": {
        "colab": {
          "base_uri": "https://localhost:8080/",
          "height": 166
        },
        "id": "rhkZaY8-VH4p",
        "outputId": "750c9a22-d023-45af-ff2e-2d9f7bb26a1b"
      },
      "execution_count": null,
      "outputs": [
        {
          "output_type": "error",
          "ename": "NameError",
          "evalue": "ignored",
          "traceback": [
            "\u001b[0;31m---------------------------------------------------------------------------\u001b[0m",
            "\u001b[0;31mNameError\u001b[0m                                 Traceback (most recent call last)",
            "\u001b[0;32m<ipython-input-1-650a0d7c2c5d>\u001b[0m in \u001b[0;36m<module>\u001b[0;34m()\u001b[0m\n\u001b[0;32m----> 1\u001b[0;31m \u001b[0mcv_results\u001b[0m\u001b[0;34m\u001b[0m\u001b[0;34m\u001b[0m\u001b[0m\n\u001b[0m",
            "\u001b[0;31mNameError\u001b[0m: name 'cv_results' is not defined"
          ]
        }
      ]
    },
    {
      "cell_type": "code",
      "source": [
        ""
      ],
      "metadata": {
        "id": "exlyzSDkjFmw"
      },
      "execution_count": null,
      "outputs": []
    }
  ]
}