{
  "nbformat": 4,
  "nbformat_minor": 0,
  "metadata": {
    "colab": {
      "name": "Customer_Clustering.ipynb",
      "provenance": []
    },
    "kernelspec": {
      "name": "python3",
      "display_name": "Python 3"
    },
    "language_info": {
      "name": "python"
    }
  },
  "cells": [
    {
      "cell_type": "code",
      "execution_count": null,
      "metadata": {
        "id": "hcLfrNsTpp5R"
      },
      "outputs": [],
      "source": [
        "import pandas as pd\n",
        "import seaborn as sb"
      ]
    },
    {
      "cell_type": "code",
      "source": [
        "from google.colab import drive\n",
        "drive.mount('/content/drive')"
      ],
      "metadata": {
        "colab": {
          "base_uri": "https://localhost:8080/"
        },
        "id": "Gh4UGZNapt1j",
        "outputId": "039570d4-4ca8-494f-c3f5-c69f00b704e7"
      },
      "execution_count": null,
      "outputs": [
        {
          "output_type": "stream",
          "name": "stdout",
          "text": [
            "Drive already mounted at /content/drive; to attempt to forcibly remount, call drive.mount(\"/content/drive\", force_remount=True).\n"
          ]
        }
      ]
    },
    {
      "cell_type": "code",
      "source": [
        "def import_data():\n",
        "  df = pd.read_table(\"/content/drive/MyDrive/Statistical Data Mining Project/data/HotelCustomersDataset.tsv\").set_index(\"ID\")\n",
        "  df=df.drop(columns=['NameHash', 'DocIDHash'])\n",
        "  return df\n",
        "df=import_data()"
      ],
      "metadata": {
        "id": "cG5OmD6dqVSO"
      },
      "execution_count": null,
      "outputs": []
    },
    {
      "cell_type": "markdown",
      "source": [
        "# Exploratory Data Analysis (EDA)"
      ],
      "metadata": {
        "id": "8E5RrelsQ_AF"
      }
    },
    {
      "cell_type": "code",
      "source": [
        "df.head()"
      ],
      "metadata": {
        "colab": {
          "base_uri": "https://localhost:8080/"
        },
        "id": "PttoYY9hqb19",
        "outputId": "cdf07d20-10d3-47f6-f021-fdde90b33511"
      },
      "execution_count": null,
      "outputs": [
        {
          "output_type": "execute_result",
          "data": {
            "text/plain": [
              "   Nationality   Age  DaysSinceCreation  AverageLeadTime  LodgingRevenue  \\\n",
              "ID                                                                         \n",
              "1          PRT  51.0                150               45           371.0   \n",
              "2          PRT   NaN               1095               61           280.0   \n",
              "3          DEU  31.0               1095                0             0.0   \n",
              "4          FRA  60.0               1095               93           240.0   \n",
              "5          FRA  51.0               1095                0             0.0   \n",
              "\n",
              "    OtherRevenue  BookingsCanceled  BookingsNoShowed  BookingsCheckedIn  \\\n",
              "ID                                                                        \n",
              "1          105.3                 1                 0                  3   \n",
              "2           53.0                 0                 0                  1   \n",
              "3            0.0                 0                 0                  0   \n",
              "4           60.0                 0                 0                  1   \n",
              "5            0.0                 0                 0                  0   \n",
              "\n",
              "    PersonsNights  ...  SRMediumFloor  SRBathtub  SRShower SRCrib  \\\n",
              "ID                 ...                                              \n",
              "1               8  ...              0          0         0      0   \n",
              "2              10  ...              0          0         0      0   \n",
              "3               0  ...              0          0         0      0   \n",
              "4              10  ...              0          0         0      0   \n",
              "5               0  ...              0          0         0      0   \n",
              "\n",
              "   SRKingSizeBed  SRTwinBed  SRNearElevator  SRAwayFromElevator  \\\n",
              "ID                                                                \n",
              "1              0          0               0                   0   \n",
              "2              0          0               0                   0   \n",
              "3              0          0               0                   0   \n",
              "4              0          0               0                   0   \n",
              "5              0          0               0                   0   \n",
              "\n",
              "    SRNoAlcoholInMiniBar  SRQuietRoom  \n",
              "ID                                     \n",
              "1                      0            0  \n",
              "2                      0            0  \n",
              "3                      0            0  \n",
              "4                      0            0  \n",
              "5                      0            0  \n",
              "\n",
              "[5 rows x 28 columns]"
            ],
            "text/html": [
              "\n",
              "  <div id=\"df-461ddd08-58e3-4381-97d4-607a64fd8f6a\">\n",
              "    <div class=\"colab-df-container\">\n",
              "      <div>\n",
              "<style scoped>\n",
              "    .dataframe tbody tr th:only-of-type {\n",
              "        vertical-align: middle;\n",
              "    }\n",
              "\n",
              "    .dataframe tbody tr th {\n",
              "        vertical-align: top;\n",
              "    }\n",
              "\n",
              "    .dataframe thead th {\n",
              "        text-align: right;\n",
              "    }\n",
              "</style>\n",
              "<table border=\"1\" class=\"dataframe\">\n",
              "  <thead>\n",
              "    <tr style=\"text-align: right;\">\n",
              "      <th></th>\n",
              "      <th>Nationality</th>\n",
              "      <th>Age</th>\n",
              "      <th>DaysSinceCreation</th>\n",
              "      <th>AverageLeadTime</th>\n",
              "      <th>LodgingRevenue</th>\n",
              "      <th>OtherRevenue</th>\n",
              "      <th>BookingsCanceled</th>\n",
              "      <th>BookingsNoShowed</th>\n",
              "      <th>BookingsCheckedIn</th>\n",
              "      <th>PersonsNights</th>\n",
              "      <th>...</th>\n",
              "      <th>SRMediumFloor</th>\n",
              "      <th>SRBathtub</th>\n",
              "      <th>SRShower</th>\n",
              "      <th>SRCrib</th>\n",
              "      <th>SRKingSizeBed</th>\n",
              "      <th>SRTwinBed</th>\n",
              "      <th>SRNearElevator</th>\n",
              "      <th>SRAwayFromElevator</th>\n",
              "      <th>SRNoAlcoholInMiniBar</th>\n",
              "      <th>SRQuietRoom</th>\n",
              "    </tr>\n",
              "    <tr>\n",
              "      <th>ID</th>\n",
              "      <th></th>\n",
              "      <th></th>\n",
              "      <th></th>\n",
              "      <th></th>\n",
              "      <th></th>\n",
              "      <th></th>\n",
              "      <th></th>\n",
              "      <th></th>\n",
              "      <th></th>\n",
              "      <th></th>\n",
              "      <th></th>\n",
              "      <th></th>\n",
              "      <th></th>\n",
              "      <th></th>\n",
              "      <th></th>\n",
              "      <th></th>\n",
              "      <th></th>\n",
              "      <th></th>\n",
              "      <th></th>\n",
              "      <th></th>\n",
              "      <th></th>\n",
              "    </tr>\n",
              "  </thead>\n",
              "  <tbody>\n",
              "    <tr>\n",
              "      <th>1</th>\n",
              "      <td>PRT</td>\n",
              "      <td>51.0</td>\n",
              "      <td>150</td>\n",
              "      <td>45</td>\n",
              "      <td>371.0</td>\n",
              "      <td>105.3</td>\n",
              "      <td>1</td>\n",
              "      <td>0</td>\n",
              "      <td>3</td>\n",
              "      <td>8</td>\n",
              "      <td>...</td>\n",
              "      <td>0</td>\n",
              "      <td>0</td>\n",
              "      <td>0</td>\n",
              "      <td>0</td>\n",
              "      <td>0</td>\n",
              "      <td>0</td>\n",
              "      <td>0</td>\n",
              "      <td>0</td>\n",
              "      <td>0</td>\n",
              "      <td>0</td>\n",
              "    </tr>\n",
              "    <tr>\n",
              "      <th>2</th>\n",
              "      <td>PRT</td>\n",
              "      <td>NaN</td>\n",
              "      <td>1095</td>\n",
              "      <td>61</td>\n",
              "      <td>280.0</td>\n",
              "      <td>53.0</td>\n",
              "      <td>0</td>\n",
              "      <td>0</td>\n",
              "      <td>1</td>\n",
              "      <td>10</td>\n",
              "      <td>...</td>\n",
              "      <td>0</td>\n",
              "      <td>0</td>\n",
              "      <td>0</td>\n",
              "      <td>0</td>\n",
              "      <td>0</td>\n",
              "      <td>0</td>\n",
              "      <td>0</td>\n",
              "      <td>0</td>\n",
              "      <td>0</td>\n",
              "      <td>0</td>\n",
              "    </tr>\n",
              "    <tr>\n",
              "      <th>3</th>\n",
              "      <td>DEU</td>\n",
              "      <td>31.0</td>\n",
              "      <td>1095</td>\n",
              "      <td>0</td>\n",
              "      <td>0.0</td>\n",
              "      <td>0.0</td>\n",
              "      <td>0</td>\n",
              "      <td>0</td>\n",
              "      <td>0</td>\n",
              "      <td>0</td>\n",
              "      <td>...</td>\n",
              "      <td>0</td>\n",
              "      <td>0</td>\n",
              "      <td>0</td>\n",
              "      <td>0</td>\n",
              "      <td>0</td>\n",
              "      <td>0</td>\n",
              "      <td>0</td>\n",
              "      <td>0</td>\n",
              "      <td>0</td>\n",
              "      <td>0</td>\n",
              "    </tr>\n",
              "    <tr>\n",
              "      <th>4</th>\n",
              "      <td>FRA</td>\n",
              "      <td>60.0</td>\n",
              "      <td>1095</td>\n",
              "      <td>93</td>\n",
              "      <td>240.0</td>\n",
              "      <td>60.0</td>\n",
              "      <td>0</td>\n",
              "      <td>0</td>\n",
              "      <td>1</td>\n",
              "      <td>10</td>\n",
              "      <td>...</td>\n",
              "      <td>0</td>\n",
              "      <td>0</td>\n",
              "      <td>0</td>\n",
              "      <td>0</td>\n",
              "      <td>0</td>\n",
              "      <td>0</td>\n",
              "      <td>0</td>\n",
              "      <td>0</td>\n",
              "      <td>0</td>\n",
              "      <td>0</td>\n",
              "    </tr>\n",
              "    <tr>\n",
              "      <th>5</th>\n",
              "      <td>FRA</td>\n",
              "      <td>51.0</td>\n",
              "      <td>1095</td>\n",
              "      <td>0</td>\n",
              "      <td>0.0</td>\n",
              "      <td>0.0</td>\n",
              "      <td>0</td>\n",
              "      <td>0</td>\n",
              "      <td>0</td>\n",
              "      <td>0</td>\n",
              "      <td>...</td>\n",
              "      <td>0</td>\n",
              "      <td>0</td>\n",
              "      <td>0</td>\n",
              "      <td>0</td>\n",
              "      <td>0</td>\n",
              "      <td>0</td>\n",
              "      <td>0</td>\n",
              "      <td>0</td>\n",
              "      <td>0</td>\n",
              "      <td>0</td>\n",
              "    </tr>\n",
              "  </tbody>\n",
              "</table>\n",
              "<p>5 rows × 28 columns</p>\n",
              "</div>\n",
              "      <button class=\"colab-df-convert\" onclick=\"convertToInteractive('df-461ddd08-58e3-4381-97d4-607a64fd8f6a')\"\n",
              "              title=\"Convert this dataframe to an interactive table.\"\n",
              "              style=\"display:none;\">\n",
              "        \n",
              "  <svg xmlns=\"http://www.w3.org/2000/svg\" height=\"24px\"viewBox=\"0 0 24 24\"\n",
              "       width=\"24px\">\n",
              "    <path d=\"M0 0h24v24H0V0z\" fill=\"none\"/>\n",
              "    <path d=\"M18.56 5.44l.94 2.06.94-2.06 2.06-.94-2.06-.94-.94-2.06-.94 2.06-2.06.94zm-11 1L8.5 8.5l.94-2.06 2.06-.94-2.06-.94L8.5 2.5l-.94 2.06-2.06.94zm10 10l.94 2.06.94-2.06 2.06-.94-2.06-.94-.94-2.06-.94 2.06-2.06.94z\"/><path d=\"M17.41 7.96l-1.37-1.37c-.4-.4-.92-.59-1.43-.59-.52 0-1.04.2-1.43.59L10.3 9.45l-7.72 7.72c-.78.78-.78 2.05 0 2.83L4 21.41c.39.39.9.59 1.41.59.51 0 1.02-.2 1.41-.59l7.78-7.78 2.81-2.81c.8-.78.8-2.07 0-2.86zM5.41 20L4 18.59l7.72-7.72 1.47 1.35L5.41 20z\"/>\n",
              "  </svg>\n",
              "      </button>\n",
              "      \n",
              "  <style>\n",
              "    .colab-df-container {\n",
              "      display:flex;\n",
              "      flex-wrap:wrap;\n",
              "      gap: 12px;\n",
              "    }\n",
              "\n",
              "    .colab-df-convert {\n",
              "      background-color: #E8F0FE;\n",
              "      border: none;\n",
              "      border-radius: 50%;\n",
              "      cursor: pointer;\n",
              "      display: none;\n",
              "      fill: #1967D2;\n",
              "      height: 32px;\n",
              "      padding: 0 0 0 0;\n",
              "      width: 32px;\n",
              "    }\n",
              "\n",
              "    .colab-df-convert:hover {\n",
              "      background-color: #E2EBFA;\n",
              "      box-shadow: 0px 1px 2px rgba(60, 64, 67, 0.3), 0px 1px 3px 1px rgba(60, 64, 67, 0.15);\n",
              "      fill: #174EA6;\n",
              "    }\n",
              "\n",
              "    [theme=dark] .colab-df-convert {\n",
              "      background-color: #3B4455;\n",
              "      fill: #D2E3FC;\n",
              "    }\n",
              "\n",
              "    [theme=dark] .colab-df-convert:hover {\n",
              "      background-color: #434B5C;\n",
              "      box-shadow: 0px 1px 3px 1px rgba(0, 0, 0, 0.15);\n",
              "      filter: drop-shadow(0px 1px 2px rgba(0, 0, 0, 0.3));\n",
              "      fill: #FFFFFF;\n",
              "    }\n",
              "  </style>\n",
              "\n",
              "      <script>\n",
              "        const buttonEl =\n",
              "          document.querySelector('#df-461ddd08-58e3-4381-97d4-607a64fd8f6a button.colab-df-convert');\n",
              "        buttonEl.style.display =\n",
              "          google.colab.kernel.accessAllowed ? 'block' : 'none';\n",
              "\n",
              "        async function convertToInteractive(key) {\n",
              "          const element = document.querySelector('#df-461ddd08-58e3-4381-97d4-607a64fd8f6a');\n",
              "          const dataTable =\n",
              "            await google.colab.kernel.invokeFunction('convertToInteractive',\n",
              "                                                     [key], {});\n",
              "          if (!dataTable) return;\n",
              "\n",
              "          const docLinkHtml = 'Like what you see? Visit the ' +\n",
              "            '<a target=\"_blank\" href=https://colab.research.google.com/notebooks/data_table.ipynb>data table notebook</a>'\n",
              "            + ' to learn more about interactive tables.';\n",
              "          element.innerHTML = '';\n",
              "          dataTable['output_type'] = 'display_data';\n",
              "          await google.colab.output.renderOutput(dataTable, element);\n",
              "          const docLink = document.createElement('div');\n",
              "          docLink.innerHTML = docLinkHtml;\n",
              "          element.appendChild(docLink);\n",
              "        }\n",
              "      </script>\n",
              "    </div>\n",
              "  </div>\n",
              "  "
            ]
          },
          "metadata": {},
          "execution_count": 39
        }
      ]
    },
    {
      "cell_type": "code",
      "source": [
        "df.shape"
      ],
      "metadata": {
        "colab": {
          "base_uri": "https://localhost:8080/"
        },
        "id": "dVB6BWc0qlxJ",
        "outputId": "94d1118f-6483-4407-a491-95a641245eb2"
      },
      "execution_count": null,
      "outputs": [
        {
          "output_type": "execute_result",
          "data": {
            "text/plain": [
              "(83590, 28)"
            ]
          },
          "metadata": {},
          "execution_count": 40
        }
      ]
    },
    {
      "cell_type": "code",
      "source": [
        "df.describe()"
      ],
      "metadata": {
        "colab": {
          "base_uri": "https://localhost:8080/"
        },
        "id": "2lpM051HrQhf",
        "outputId": "03de299f-e9ec-4ea1-a3a2-6a694e54061e"
      },
      "execution_count": null,
      "outputs": [
        {
          "output_type": "execute_result",
          "data": {
            "text/plain": [
              "                Age  DaysSinceCreation  AverageLeadTime  LodgingRevenue  \\\n",
              "count  79811.000000       83590.000000     83590.000000    83590.000000   \n",
              "mean      45.398028         453.640902        66.196028      298.802087   \n",
              "std       16.572368         313.390291        87.758990      372.851892   \n",
              "min      -11.000000           0.000000        -1.000000        0.000000   \n",
              "25%       34.000000         177.000000         0.000000       59.000000   \n",
              "50%       46.000000         397.000000        29.000000      234.000000   \n",
              "75%       57.000000         723.000000       103.000000      402.000000   \n",
              "max      122.000000        1095.000000       588.000000    21781.000000   \n",
              "\n",
              "       OtherRevenue  BookingsCanceled  BookingsNoShowed  BookingsCheckedIn  \\\n",
              "count  83590.000000      83590.000000      83590.000000       83590.000000   \n",
              "mean      67.589132          0.002022          0.000634           0.794617   \n",
              "std      114.327776          0.066770          0.029545           0.695778   \n",
              "min        0.000000          0.000000          0.000000           0.000000   \n",
              "25%        2.000000          0.000000          0.000000           1.000000   \n",
              "50%       38.500000          0.000000          0.000000           1.000000   \n",
              "75%       87.675000          0.000000          0.000000           1.000000   \n",
              "max     7730.250000          9.000000          3.000000          66.000000   \n",
              "\n",
              "       PersonsNights    RoomNights  ...  SRMediumFloor     SRBathtub  \\\n",
              "count   83590.000000  83590.000000  ...   83590.000000  83590.000000   \n",
              "mean        4.649133      2.358536  ...       0.000873      0.002847   \n",
              "std         4.567673      2.281746  ...       0.029539      0.053284   \n",
              "min         0.000000      0.000000  ...       0.000000      0.000000   \n",
              "25%         1.000000      1.000000  ...       0.000000      0.000000   \n",
              "50%         4.000000      2.000000  ...       0.000000      0.000000   \n",
              "75%         6.000000      4.000000  ...       0.000000      0.000000   \n",
              "max       116.000000    185.000000  ...       1.000000      1.000000   \n",
              "\n",
              "           SRShower        SRCrib  SRKingSizeBed     SRTwinBed  \\\n",
              "count  83590.000000  83590.000000   83590.000000  83590.000000   \n",
              "mean       0.001711      0.013219       0.352686      0.142541   \n",
              "std        0.041326      0.114213       0.477809      0.349606   \n",
              "min        0.000000      0.000000       0.000000      0.000000   \n",
              "25%        0.000000      0.000000       0.000000      0.000000   \n",
              "50%        0.000000      0.000000       0.000000      0.000000   \n",
              "75%        0.000000      0.000000       1.000000      0.000000   \n",
              "max        1.000000      1.000000       1.000000      1.000000   \n",
              "\n",
              "       SRNearElevator  SRAwayFromElevator  SRNoAlcoholInMiniBar   SRQuietRoom  \n",
              "count    83590.000000        83590.000000          83590.000000  83590.000000  \n",
              "mean         0.000335            0.003505              0.000120      0.088372  \n",
              "std          0.018299            0.059101              0.010937      0.283837  \n",
              "min          0.000000            0.000000              0.000000      0.000000  \n",
              "25%          0.000000            0.000000              0.000000      0.000000  \n",
              "50%          0.000000            0.000000              0.000000      0.000000  \n",
              "75%          0.000000            0.000000              0.000000      0.000000  \n",
              "max          1.000000            1.000000              1.000000      1.000000  \n",
              "\n",
              "[8 rows x 25 columns]"
            ],
            "text/html": [
              "\n",
              "  <div id=\"df-f745314c-ad33-4000-9399-c57f8390b687\">\n",
              "    <div class=\"colab-df-container\">\n",
              "      <div>\n",
              "<style scoped>\n",
              "    .dataframe tbody tr th:only-of-type {\n",
              "        vertical-align: middle;\n",
              "    }\n",
              "\n",
              "    .dataframe tbody tr th {\n",
              "        vertical-align: top;\n",
              "    }\n",
              "\n",
              "    .dataframe thead th {\n",
              "        text-align: right;\n",
              "    }\n",
              "</style>\n",
              "<table border=\"1\" class=\"dataframe\">\n",
              "  <thead>\n",
              "    <tr style=\"text-align: right;\">\n",
              "      <th></th>\n",
              "      <th>Age</th>\n",
              "      <th>DaysSinceCreation</th>\n",
              "      <th>AverageLeadTime</th>\n",
              "      <th>LodgingRevenue</th>\n",
              "      <th>OtherRevenue</th>\n",
              "      <th>BookingsCanceled</th>\n",
              "      <th>BookingsNoShowed</th>\n",
              "      <th>BookingsCheckedIn</th>\n",
              "      <th>PersonsNights</th>\n",
              "      <th>RoomNights</th>\n",
              "      <th>...</th>\n",
              "      <th>SRMediumFloor</th>\n",
              "      <th>SRBathtub</th>\n",
              "      <th>SRShower</th>\n",
              "      <th>SRCrib</th>\n",
              "      <th>SRKingSizeBed</th>\n",
              "      <th>SRTwinBed</th>\n",
              "      <th>SRNearElevator</th>\n",
              "      <th>SRAwayFromElevator</th>\n",
              "      <th>SRNoAlcoholInMiniBar</th>\n",
              "      <th>SRQuietRoom</th>\n",
              "    </tr>\n",
              "  </thead>\n",
              "  <tbody>\n",
              "    <tr>\n",
              "      <th>count</th>\n",
              "      <td>79811.000000</td>\n",
              "      <td>83590.000000</td>\n",
              "      <td>83590.000000</td>\n",
              "      <td>83590.000000</td>\n",
              "      <td>83590.000000</td>\n",
              "      <td>83590.000000</td>\n",
              "      <td>83590.000000</td>\n",
              "      <td>83590.000000</td>\n",
              "      <td>83590.000000</td>\n",
              "      <td>83590.000000</td>\n",
              "      <td>...</td>\n",
              "      <td>83590.000000</td>\n",
              "      <td>83590.000000</td>\n",
              "      <td>83590.000000</td>\n",
              "      <td>83590.000000</td>\n",
              "      <td>83590.000000</td>\n",
              "      <td>83590.000000</td>\n",
              "      <td>83590.000000</td>\n",
              "      <td>83590.000000</td>\n",
              "      <td>83590.000000</td>\n",
              "      <td>83590.000000</td>\n",
              "    </tr>\n",
              "    <tr>\n",
              "      <th>mean</th>\n",
              "      <td>45.398028</td>\n",
              "      <td>453.640902</td>\n",
              "      <td>66.196028</td>\n",
              "      <td>298.802087</td>\n",
              "      <td>67.589132</td>\n",
              "      <td>0.002022</td>\n",
              "      <td>0.000634</td>\n",
              "      <td>0.794617</td>\n",
              "      <td>4.649133</td>\n",
              "      <td>2.358536</td>\n",
              "      <td>...</td>\n",
              "      <td>0.000873</td>\n",
              "      <td>0.002847</td>\n",
              "      <td>0.001711</td>\n",
              "      <td>0.013219</td>\n",
              "      <td>0.352686</td>\n",
              "      <td>0.142541</td>\n",
              "      <td>0.000335</td>\n",
              "      <td>0.003505</td>\n",
              "      <td>0.000120</td>\n",
              "      <td>0.088372</td>\n",
              "    </tr>\n",
              "    <tr>\n",
              "      <th>std</th>\n",
              "      <td>16.572368</td>\n",
              "      <td>313.390291</td>\n",
              "      <td>87.758990</td>\n",
              "      <td>372.851892</td>\n",
              "      <td>114.327776</td>\n",
              "      <td>0.066770</td>\n",
              "      <td>0.029545</td>\n",
              "      <td>0.695778</td>\n",
              "      <td>4.567673</td>\n",
              "      <td>2.281746</td>\n",
              "      <td>...</td>\n",
              "      <td>0.029539</td>\n",
              "      <td>0.053284</td>\n",
              "      <td>0.041326</td>\n",
              "      <td>0.114213</td>\n",
              "      <td>0.477809</td>\n",
              "      <td>0.349606</td>\n",
              "      <td>0.018299</td>\n",
              "      <td>0.059101</td>\n",
              "      <td>0.010937</td>\n",
              "      <td>0.283837</td>\n",
              "    </tr>\n",
              "    <tr>\n",
              "      <th>min</th>\n",
              "      <td>-11.000000</td>\n",
              "      <td>0.000000</td>\n",
              "      <td>-1.000000</td>\n",
              "      <td>0.000000</td>\n",
              "      <td>0.000000</td>\n",
              "      <td>0.000000</td>\n",
              "      <td>0.000000</td>\n",
              "      <td>0.000000</td>\n",
              "      <td>0.000000</td>\n",
              "      <td>0.000000</td>\n",
              "      <td>...</td>\n",
              "      <td>0.000000</td>\n",
              "      <td>0.000000</td>\n",
              "      <td>0.000000</td>\n",
              "      <td>0.000000</td>\n",
              "      <td>0.000000</td>\n",
              "      <td>0.000000</td>\n",
              "      <td>0.000000</td>\n",
              "      <td>0.000000</td>\n",
              "      <td>0.000000</td>\n",
              "      <td>0.000000</td>\n",
              "    </tr>\n",
              "    <tr>\n",
              "      <th>25%</th>\n",
              "      <td>34.000000</td>\n",
              "      <td>177.000000</td>\n",
              "      <td>0.000000</td>\n",
              "      <td>59.000000</td>\n",
              "      <td>2.000000</td>\n",
              "      <td>0.000000</td>\n",
              "      <td>0.000000</td>\n",
              "      <td>1.000000</td>\n",
              "      <td>1.000000</td>\n",
              "      <td>1.000000</td>\n",
              "      <td>...</td>\n",
              "      <td>0.000000</td>\n",
              "      <td>0.000000</td>\n",
              "      <td>0.000000</td>\n",
              "      <td>0.000000</td>\n",
              "      <td>0.000000</td>\n",
              "      <td>0.000000</td>\n",
              "      <td>0.000000</td>\n",
              "      <td>0.000000</td>\n",
              "      <td>0.000000</td>\n",
              "      <td>0.000000</td>\n",
              "    </tr>\n",
              "    <tr>\n",
              "      <th>50%</th>\n",
              "      <td>46.000000</td>\n",
              "      <td>397.000000</td>\n",
              "      <td>29.000000</td>\n",
              "      <td>234.000000</td>\n",
              "      <td>38.500000</td>\n",
              "      <td>0.000000</td>\n",
              "      <td>0.000000</td>\n",
              "      <td>1.000000</td>\n",
              "      <td>4.000000</td>\n",
              "      <td>2.000000</td>\n",
              "      <td>...</td>\n",
              "      <td>0.000000</td>\n",
              "      <td>0.000000</td>\n",
              "      <td>0.000000</td>\n",
              "      <td>0.000000</td>\n",
              "      <td>0.000000</td>\n",
              "      <td>0.000000</td>\n",
              "      <td>0.000000</td>\n",
              "      <td>0.000000</td>\n",
              "      <td>0.000000</td>\n",
              "      <td>0.000000</td>\n",
              "    </tr>\n",
              "    <tr>\n",
              "      <th>75%</th>\n",
              "      <td>57.000000</td>\n",
              "      <td>723.000000</td>\n",
              "      <td>103.000000</td>\n",
              "      <td>402.000000</td>\n",
              "      <td>87.675000</td>\n",
              "      <td>0.000000</td>\n",
              "      <td>0.000000</td>\n",
              "      <td>1.000000</td>\n",
              "      <td>6.000000</td>\n",
              "      <td>4.000000</td>\n",
              "      <td>...</td>\n",
              "      <td>0.000000</td>\n",
              "      <td>0.000000</td>\n",
              "      <td>0.000000</td>\n",
              "      <td>0.000000</td>\n",
              "      <td>1.000000</td>\n",
              "      <td>0.000000</td>\n",
              "      <td>0.000000</td>\n",
              "      <td>0.000000</td>\n",
              "      <td>0.000000</td>\n",
              "      <td>0.000000</td>\n",
              "    </tr>\n",
              "    <tr>\n",
              "      <th>max</th>\n",
              "      <td>122.000000</td>\n",
              "      <td>1095.000000</td>\n",
              "      <td>588.000000</td>\n",
              "      <td>21781.000000</td>\n",
              "      <td>7730.250000</td>\n",
              "      <td>9.000000</td>\n",
              "      <td>3.000000</td>\n",
              "      <td>66.000000</td>\n",
              "      <td>116.000000</td>\n",
              "      <td>185.000000</td>\n",
              "      <td>...</td>\n",
              "      <td>1.000000</td>\n",
              "      <td>1.000000</td>\n",
              "      <td>1.000000</td>\n",
              "      <td>1.000000</td>\n",
              "      <td>1.000000</td>\n",
              "      <td>1.000000</td>\n",
              "      <td>1.000000</td>\n",
              "      <td>1.000000</td>\n",
              "      <td>1.000000</td>\n",
              "      <td>1.000000</td>\n",
              "    </tr>\n",
              "  </tbody>\n",
              "</table>\n",
              "<p>8 rows × 25 columns</p>\n",
              "</div>\n",
              "      <button class=\"colab-df-convert\" onclick=\"convertToInteractive('df-f745314c-ad33-4000-9399-c57f8390b687')\"\n",
              "              title=\"Convert this dataframe to an interactive table.\"\n",
              "              style=\"display:none;\">\n",
              "        \n",
              "  <svg xmlns=\"http://www.w3.org/2000/svg\" height=\"24px\"viewBox=\"0 0 24 24\"\n",
              "       width=\"24px\">\n",
              "    <path d=\"M0 0h24v24H0V0z\" fill=\"none\"/>\n",
              "    <path d=\"M18.56 5.44l.94 2.06.94-2.06 2.06-.94-2.06-.94-.94-2.06-.94 2.06-2.06.94zm-11 1L8.5 8.5l.94-2.06 2.06-.94-2.06-.94L8.5 2.5l-.94 2.06-2.06.94zm10 10l.94 2.06.94-2.06 2.06-.94-2.06-.94-.94-2.06-.94 2.06-2.06.94z\"/><path d=\"M17.41 7.96l-1.37-1.37c-.4-.4-.92-.59-1.43-.59-.52 0-1.04.2-1.43.59L10.3 9.45l-7.72 7.72c-.78.78-.78 2.05 0 2.83L4 21.41c.39.39.9.59 1.41.59.51 0 1.02-.2 1.41-.59l7.78-7.78 2.81-2.81c.8-.78.8-2.07 0-2.86zM5.41 20L4 18.59l7.72-7.72 1.47 1.35L5.41 20z\"/>\n",
              "  </svg>\n",
              "      </button>\n",
              "      \n",
              "  <style>\n",
              "    .colab-df-container {\n",
              "      display:flex;\n",
              "      flex-wrap:wrap;\n",
              "      gap: 12px;\n",
              "    }\n",
              "\n",
              "    .colab-df-convert {\n",
              "      background-color: #E8F0FE;\n",
              "      border: none;\n",
              "      border-radius: 50%;\n",
              "      cursor: pointer;\n",
              "      display: none;\n",
              "      fill: #1967D2;\n",
              "      height: 32px;\n",
              "      padding: 0 0 0 0;\n",
              "      width: 32px;\n",
              "    }\n",
              "\n",
              "    .colab-df-convert:hover {\n",
              "      background-color: #E2EBFA;\n",
              "      box-shadow: 0px 1px 2px rgba(60, 64, 67, 0.3), 0px 1px 3px 1px rgba(60, 64, 67, 0.15);\n",
              "      fill: #174EA6;\n",
              "    }\n",
              "\n",
              "    [theme=dark] .colab-df-convert {\n",
              "      background-color: #3B4455;\n",
              "      fill: #D2E3FC;\n",
              "    }\n",
              "\n",
              "    [theme=dark] .colab-df-convert:hover {\n",
              "      background-color: #434B5C;\n",
              "      box-shadow: 0px 1px 3px 1px rgba(0, 0, 0, 0.15);\n",
              "      filter: drop-shadow(0px 1px 2px rgba(0, 0, 0, 0.3));\n",
              "      fill: #FFFFFF;\n",
              "    }\n",
              "  </style>\n",
              "\n",
              "      <script>\n",
              "        const buttonEl =\n",
              "          document.querySelector('#df-f745314c-ad33-4000-9399-c57f8390b687 button.colab-df-convert');\n",
              "        buttonEl.style.display =\n",
              "          google.colab.kernel.accessAllowed ? 'block' : 'none';\n",
              "\n",
              "        async function convertToInteractive(key) {\n",
              "          const element = document.querySelector('#df-f745314c-ad33-4000-9399-c57f8390b687');\n",
              "          const dataTable =\n",
              "            await google.colab.kernel.invokeFunction('convertToInteractive',\n",
              "                                                     [key], {});\n",
              "          if (!dataTable) return;\n",
              "\n",
              "          const docLinkHtml = 'Like what you see? Visit the ' +\n",
              "            '<a target=\"_blank\" href=https://colab.research.google.com/notebooks/data_table.ipynb>data table notebook</a>'\n",
              "            + ' to learn more about interactive tables.';\n",
              "          element.innerHTML = '';\n",
              "          dataTable['output_type'] = 'display_data';\n",
              "          await google.colab.output.renderOutput(dataTable, element);\n",
              "          const docLink = document.createElement('div');\n",
              "          docLink.innerHTML = docLinkHtml;\n",
              "          element.appendChild(docLink);\n",
              "        }\n",
              "      </script>\n",
              "    </div>\n",
              "  </div>\n",
              "  "
            ]
          },
          "metadata": {},
          "execution_count": 41
        }
      ]
    },
    {
      "cell_type": "code",
      "source": [
        "df.isna().sum()/len(df)"
      ],
      "metadata": {
        "colab": {
          "base_uri": "https://localhost:8080/"
        },
        "id": "GWZ1YHqMrlTU",
        "outputId": "1bcd44e2-48bd-4e26-d619-6de3651df3a8"
      },
      "execution_count": null,
      "outputs": [
        {
          "output_type": "execute_result",
          "data": {
            "text/plain": [
              "Nationality             0.000000\n",
              "Age                     0.045209\n",
              "DaysSinceCreation       0.000000\n",
              "AverageLeadTime         0.000000\n",
              "LodgingRevenue          0.000000\n",
              "OtherRevenue            0.000000\n",
              "BookingsCanceled        0.000000\n",
              "BookingsNoShowed        0.000000\n",
              "BookingsCheckedIn       0.000000\n",
              "PersonsNights           0.000000\n",
              "RoomNights              0.000000\n",
              "DaysSinceLastStay       0.000000\n",
              "DaysSinceFirstStay      0.000000\n",
              "DistributionChannel     0.000000\n",
              "MarketSegment           0.000000\n",
              "SRHighFloor             0.000000\n",
              "SRLowFloor              0.000000\n",
              "SRAccessibleRoom        0.000000\n",
              "SRMediumFloor           0.000000\n",
              "SRBathtub               0.000000\n",
              "SRShower                0.000000\n",
              "SRCrib                  0.000000\n",
              "SRKingSizeBed           0.000000\n",
              "SRTwinBed               0.000000\n",
              "SRNearElevator          0.000000\n",
              "SRAwayFromElevator      0.000000\n",
              "SRNoAlcoholInMiniBar    0.000000\n",
              "SRQuietRoom             0.000000\n",
              "dtype: float64"
            ]
          },
          "metadata": {},
          "execution_count": 42
        }
      ]
    },
    {
      "cell_type": "markdown",
      "source": [
        "4.5% of the rows have the age missing.\n",
        "We decide to imput ethe missing ages with the mean."
      ],
      "metadata": {
        "id": "NkIiFCP9rwVt"
      }
    },
    {
      "cell_type": "code",
      "source": [
        "def fillna(df):\n",
        "  return df.fillna(df.mean())\n",
        "df=fillna(df)"
      ],
      "metadata": {
        "colab": {
          "base_uri": "https://localhost:8080/"
        },
        "id": "X9gNw_N2ylA-",
        "outputId": "0310de74-a4a2-4e37-9ec0-ed0a06af1a4b"
      },
      "execution_count": null,
      "outputs": [
        {
          "output_type": "stream",
          "name": "stderr",
          "text": [
            "/usr/local/lib/python3.7/dist-packages/ipykernel_launcher.py:2: FutureWarning: Dropping of nuisance columns in DataFrame reductions (with 'numeric_only=None') is deprecated; in a future version this will raise TypeError.  Select only valid columns before calling the reduction.\n",
            "  \n"
          ]
        }
      ]
    },
    {
      "cell_type": "code",
      "source": [
        " df.isna().sum()/len(df)"
      ],
      "metadata": {
        "colab": {
          "base_uri": "https://localhost:8080/"
        },
        "id": "8WeTsgxMysBk",
        "outputId": "127ecc46-1750-4b6d-bbd8-9ef7a22d704a"
      },
      "execution_count": null,
      "outputs": [
        {
          "output_type": "execute_result",
          "data": {
            "text/plain": [
              "Nationality             0.0\n",
              "Age                     0.0\n",
              "DaysSinceCreation       0.0\n",
              "AverageLeadTime         0.0\n",
              "LodgingRevenue          0.0\n",
              "OtherRevenue            0.0\n",
              "BookingsCanceled        0.0\n",
              "BookingsNoShowed        0.0\n",
              "BookingsCheckedIn       0.0\n",
              "PersonsNights           0.0\n",
              "RoomNights              0.0\n",
              "DaysSinceLastStay       0.0\n",
              "DaysSinceFirstStay      0.0\n",
              "DistributionChannel     0.0\n",
              "MarketSegment           0.0\n",
              "SRHighFloor             0.0\n",
              "SRLowFloor              0.0\n",
              "SRAccessibleRoom        0.0\n",
              "SRMediumFloor           0.0\n",
              "SRBathtub               0.0\n",
              "SRShower                0.0\n",
              "SRCrib                  0.0\n",
              "SRKingSizeBed           0.0\n",
              "SRTwinBed               0.0\n",
              "SRNearElevator          0.0\n",
              "SRAwayFromElevator      0.0\n",
              "SRNoAlcoholInMiniBar    0.0\n",
              "SRQuietRoom             0.0\n",
              "dtype: float64"
            ]
          },
          "metadata": {},
          "execution_count": 44
        }
      ]
    },
    {
      "cell_type": "code",
      "source": [
        " df.nunique()"
      ],
      "metadata": {
        "colab": {
          "base_uri": "https://localhost:8080/"
        },
        "id": "J2yaSt4rrpcN",
        "outputId": "477602e8-4b87-4c9b-eb51-5fcd6d3c9e6d"
      },
      "execution_count": null,
      "outputs": [
        {
          "output_type": "execute_result",
          "data": {
            "text/plain": [
              "Nationality               188\n",
              "Age                       106\n",
              "DaysSinceCreation        1095\n",
              "AverageLeadTime           418\n",
              "LodgingRevenue          10257\n",
              "OtherRevenue             4490\n",
              "BookingsCanceled            6\n",
              "BookingsNoShowed            4\n",
              "BookingsCheckedIn          29\n",
              "PersonsNights              56\n",
              "RoomNights                 48\n",
              "DaysSinceLastStay        1105\n",
              "DaysSinceFirstStay       1108\n",
              "DistributionChannel         4\n",
              "MarketSegment               7\n",
              "SRHighFloor                 2\n",
              "SRLowFloor                  2\n",
              "SRAccessibleRoom            2\n",
              "SRMediumFloor               2\n",
              "SRBathtub                   2\n",
              "SRShower                    2\n",
              "SRCrib                      2\n",
              "SRKingSizeBed               2\n",
              "SRTwinBed                   2\n",
              "SRNearElevator              2\n",
              "SRAwayFromElevator          2\n",
              "SRNoAlcoholInMiniBar        2\n",
              "SRQuietRoom                 2\n",
              "dtype: int64"
            ]
          },
          "metadata": {},
          "execution_count": 45
        }
      ]
    },
    {
      "cell_type": "code",
      "source": [
        "import matplotlib.pyplot as plt\n",
        "def plot_corr(df):\n",
        "  corr=df.corr()\n",
        "  plt.figure(figsize = (10,10))\n",
        "  sb.heatmap(corr, cmap=\"Blues\")\n",
        "plot_corr(df)"
      ],
      "metadata": {
        "colab": {
          "base_uri": "https://localhost:8080/",
          "height": 800
        },
        "id": "e-aMbtIPsPd4",
        "outputId": "bf0b8e69-3cf0-42e8-c05e-805c76f9bf6c"
      },
      "execution_count": null,
      "outputs": [
        {
          "output_type": "display_data",
          "data": {
            "text/plain": [
              "<Figure size 720x720 with 2 Axes>"
            ],
            "image/png": "[encoded data removed]"
          },
          "metadata": {
            "needs_background": "light"
          }
        }
      ]
    },
    {
      "cell_type": "markdown",
      "source": [
        "# Clustering Analysis with categorical and numerical predictors\n",
        "The purpose here is to identify groups of clients based on their hotel booking behavior.\n"
      ],
      "metadata": {
        "id": "aImjKD6ttr3-"
      }
    },
    {
      "cell_type": "markdown",
      "source": [
        "## K-Means algorithm with PCA features"
      ],
      "metadata": {
        "id": "CnATQ5h7RJI5"
      }
    },
    {
      "cell_type": "code",
      "source": [
        "df.columns"
      ],
      "metadata": {
        "colab": {
          "base_uri": "https://localhost:8080/"
        },
        "id": "ZVJFR8m8vdet",
        "outputId": "a7e01da9-8a4c-4df3-8e03-016016bb377f"
      },
      "execution_count": null,
      "outputs": [
        {
          "output_type": "execute_result",
          "data": {
            "text/plain": [
              "Index(['Nationality', 'Age', 'DaysSinceCreation', 'AverageLeadTime',\n",
              "       'LodgingRevenue', 'OtherRevenue', 'BookingsCanceled',\n",
              "       'BookingsNoShowed', 'BookingsCheckedIn', 'PersonsNights', 'RoomNights',\n",
              "       'DaysSinceLastStay', 'DaysSinceFirstStay', 'DistributionChannel',\n",
              "       'MarketSegment', 'SRHighFloor', 'SRLowFloor', 'SRAccessibleRoom',\n",
              "       'SRMediumFloor', 'SRBathtub', 'SRShower', 'SRCrib', 'SRKingSizeBed',\n",
              "       'SRTwinBed', 'SRNearElevator', 'SRAwayFromElevator',\n",
              "       'SRNoAlcoholInMiniBar', 'SRQuietRoom'],\n",
              "      dtype='object')"
            ]
          },
          "metadata": {},
          "execution_count": 4
        }
      ]
    },
    {
      "cell_type": "markdown",
      "source": [
        "Since K-Means can handle only numerical variables, we transform the dataset by adding new dummy variables for each catogory of the categorical predictors. Each of this new variable will be 0 or 1 according to the value of the corresponding category"
      ],
      "metadata": {
        "id": "DMBs51Rvy9FT"
      }
    },
    {
      "cell_type": "code",
      "source": [
        "def get_dummies(df):\n",
        "  return pd.get_dummies(df)\n",
        "df=get_dummies(df)"
      ],
      "metadata": {
        "id": "BY93gGahzMgI"
      },
      "execution_count": null,
      "outputs": []
    },
    {
      "cell_type": "markdown",
      "source": [
        "We now have 224 numerical features."
      ],
      "metadata": {
        "id": "Me_6YhW6zRqY"
      }
    },
    {
      "cell_type": "markdown",
      "source": [
        "We perform PCA on this numerical data to visualize better the clusters that we get from K-Means on a 2D plot. "
      ],
      "metadata": {
        "id": "WbpPkFt57K8m"
      }
    },
    {
      "cell_type": "code",
      "source": [
        "def to_array(df):\n",
        "  import numpy as np\n",
        "  X = np.asarray(df)\n",
        "  return X\n",
        "\n",
        "\n",
        "def reduce_dimensions_PCA(X,n=2):\n",
        "  from sklearn.decomposition import PCA\n",
        "  # Create a PCA model to reduce our data to 2 dimensions for visualisation\n",
        "  pca = PCA(n_components=n)\n",
        "  pca.fit(X)\n",
        "  # Transform the scaled data to the new PCA space\n",
        "  return pca.transform(X),pca.explained_variance_ratio_\n",
        "\n",
        "X=to_array(df)\n",
        "X_reduced= reduce_dimensions_PCA(X,n=2)[0]"
      ],
      "metadata": {
        "id": "Vbr1HUJSscwx"
      },
      "execution_count": null,
      "outputs": []
    },
    {
      "cell_type": "code",
      "source": [
        "reduce_dimensions_PCA(X,n=2)[1]"
      ],
      "metadata": {
        "colab": {
          "base_uri": "https://localhost:8080/"
        },
        "id": "UwllP0yUvTFF",
        "outputId": "a3033deb-6563-4c34-98d8-2f80475d268e"
      },
      "execution_count": null,
      "outputs": [
        {
          "output_type": "execute_result",
          "data": {
            "text/plain": [
              "array([0.67113942, 0.27228528])"
            ]
          },
          "metadata": {},
          "execution_count": 14
        }
      ]
    },
    {
      "cell_type": "markdown",
      "source": [
        "We keep 2 components that explain 94% of the variance.\n",
        "Then we choose K using the elbow method."
      ],
      "metadata": {
        "id": "89efKjz1zuFj"
      }
    },
    {
      "cell_type": "code",
      "source": [
        "from sklearn.cluster import KMeans\n",
        "def choose_K(X):  \n",
        "  Sum_of_squared_distances = []\n",
        "  K = range(1,10)\n",
        "  for num_clusters in K :\n",
        "    kmeans = KMeans(n_clusters=num_clusters)\n",
        "    kmeans.fit(X)\n",
        "    Sum_of_squared_distances.append(kmeans.inertia_)\n",
        "  plt.plot(K,Sum_of_squared_distances,'bx-')\n",
        "  plt.xlabel('Values of K') \n",
        "  plt.ylabel('Sum of squared distances/Inertia') \n",
        "  plt.title('Elbow Method For Optimal k')\n",
        "  plt.show()\n",
        "choose_K(X_reduced)"
      ],
      "metadata": {
        "colab": {
          "base_uri": "https://localhost:8080/",
          "height": 322
        },
        "id": "N42ljNzUz8OB",
        "outputId": "1eadde11-e977-430b-eb10-7a0a404f963c"
      },
      "execution_count": null,
      "outputs": [
        {
          "output_type": "error",
          "ename": "NameError",
          "evalue": "ignored",
          "traceback": [
            "\u001b[0;31m---------------------------------------------------------------------------\u001b[0m",
            "\u001b[0;31mNameError\u001b[0m                                 Traceback (most recent call last)",
            "\u001b[0;32m<ipython-input-9-2fdafe1973c4>\u001b[0m in \u001b[0;36m<module>\u001b[0;34m()\u001b[0m\n\u001b[1;32m     12\u001b[0m   \u001b[0mplt\u001b[0m\u001b[0;34m.\u001b[0m\u001b[0mtitle\u001b[0m\u001b[0;34m(\u001b[0m\u001b[0;34m'Elbow Method For Optimal k'\u001b[0m\u001b[0;34m)\u001b[0m\u001b[0;34m\u001b[0m\u001b[0;34m\u001b[0m\u001b[0m\n\u001b[1;32m     13\u001b[0m   \u001b[0mplt\u001b[0m\u001b[0;34m.\u001b[0m\u001b[0mshow\u001b[0m\u001b[0;34m(\u001b[0m\u001b[0;34m)\u001b[0m\u001b[0;34m\u001b[0m\u001b[0;34m\u001b[0m\u001b[0m\n\u001b[0;32m---> 14\u001b[0;31m \u001b[0mchoose_K\u001b[0m\u001b[0;34m(\u001b[0m\u001b[0mX_reduced\u001b[0m\u001b[0;34m)\u001b[0m\u001b[0;34m\u001b[0m\u001b[0;34m\u001b[0m\u001b[0m\n\u001b[0m",
            "\u001b[0;32m<ipython-input-9-2fdafe1973c4>\u001b[0m in \u001b[0;36mchoose_K\u001b[0;34m(X)\u001b[0m\n\u001b[1;32m      7\u001b[0m     \u001b[0mkmeans\u001b[0m\u001b[0;34m.\u001b[0m\u001b[0mfit\u001b[0m\u001b[0;34m(\u001b[0m\u001b[0mX\u001b[0m\u001b[0;34m)\u001b[0m\u001b[0;34m\u001b[0m\u001b[0;34m\u001b[0m\u001b[0m\n\u001b[1;32m      8\u001b[0m     \u001b[0mSum_of_squared_distances\u001b[0m\u001b[0;34m.\u001b[0m\u001b[0mappend\u001b[0m\u001b[0;34m(\u001b[0m\u001b[0mkmeans\u001b[0m\u001b[0;34m.\u001b[0m\u001b[0minertia_\u001b[0m\u001b[0;34m)\u001b[0m\u001b[0;34m\u001b[0m\u001b[0;34m\u001b[0m\u001b[0m\n\u001b[0;32m----> 9\u001b[0;31m   \u001b[0mplt\u001b[0m\u001b[0;34m.\u001b[0m\u001b[0mplot\u001b[0m\u001b[0;34m(\u001b[0m\u001b[0mK\u001b[0m\u001b[0;34m,\u001b[0m\u001b[0mSum_of_squared_distances\u001b[0m\u001b[0;34m,\u001b[0m\u001b[0;34m'bx-'\u001b[0m\u001b[0;34m)\u001b[0m\u001b[0;34m\u001b[0m\u001b[0;34m\u001b[0m\u001b[0m\n\u001b[0m\u001b[1;32m     10\u001b[0m   \u001b[0mplt\u001b[0m\u001b[0;34m.\u001b[0m\u001b[0mxlabel\u001b[0m\u001b[0;34m(\u001b[0m\u001b[0;34m'Values of K'\u001b[0m\u001b[0;34m)\u001b[0m\u001b[0;34m\u001b[0m\u001b[0;34m\u001b[0m\u001b[0m\n\u001b[1;32m     11\u001b[0m   \u001b[0mplt\u001b[0m\u001b[0;34m.\u001b[0m\u001b[0mylabel\u001b[0m\u001b[0;34m(\u001b[0m\u001b[0;34m'Sum of squared distances/Inertia'\u001b[0m\u001b[0;34m)\u001b[0m\u001b[0;34m\u001b[0m\u001b[0;34m\u001b[0m\u001b[0m\n",
            "\u001b[0;31mNameError\u001b[0m: name 'plt' is not defined"
          ]
        }
      ]
    },
    {
      "cell_type": "markdown",
      "source": [
        "We choose K=3"
      ],
      "metadata": {
        "id": "KKwRdePBtY5Q"
      }
    },
    {
      "cell_type": "code",
      "source": [
        "kmeans = KMeans(n_clusters=3).fit(X_reduced)"
      ],
      "metadata": {
        "id": "tu70VQRx0eRJ"
      },
      "execution_count": null,
      "outputs": []
    },
    {
      "cell_type": "code",
      "source": [
        "plt.scatter(X_reduced[:, 0], X_reduced[:, 1], c=kmeans.labels_, s=50, cmap='viridis')\n",
        "plt.xlabel(\"PCA 1\")\n",
        "plt.ylabel(\"PCA 2\")\n",
        "plt.title('KMeans 3-means clusters')\n",
        "#plt.savefig(\"temp.png\")\n"
      ],
      "metadata": {
        "colab": {
          "base_uri": "https://localhost:8080/",
          "height": 312
        },
        "id": "WndbHRzn0jLK",
        "outputId": "30b70210-f8b6-44c3-a915-be93d6322c22"
      },
      "execution_count": null,
      "outputs": [
        {
          "output_type": "execute_result",
          "data": {
            "text/plain": [
              "Text(0.5, 1.0, 'KMeans 3-means clusters')"
            ]
          },
          "metadata": {},
          "execution_count": 12
        },
        {
          "output_type": "display_data",
          "data": {
            "text/plain": [
              "<Figure size 432x288 with 1 Axes>"
            ],
            "image/png": "[encoded data removed]"
          },
          "metadata": {
            "needs_background": "light"
          }
        }
      ]
    },
    {
      "cell_type": "code",
      "source": [
        "df[\"cluster\"]=kmeans.labels_\n",
        "cluster_stats=df.groupby(\"cluster\").count()"
      ],
      "metadata": {
        "id": "iHi5z0Oz-BNA"
      },
      "execution_count": null,
      "outputs": []
    },
    {
      "cell_type": "code",
      "source": [
        "cluster_stats"
      ],
      "metadata": {
        "id": "l4kWDsKWuaJc",
        "outputId": "8c6c087c-39f6-4090-ebec-eb34a6fa7d53",
        "colab": {
          "base_uri": "https://localhost:8080/",
          "height": 286
        }
      },
      "execution_count": null,
      "outputs": [
        {
          "output_type": "execute_result",
          "data": {
            "text/plain": [
              "           Age  DaysSinceCreation  AverageLeadTime  LodgingRevenue  \\\n",
              "cluster                                                              \n",
              "0        35807              35807            35807           35807   \n",
              "1        42895              42895            42895           42895   \n",
              "2         4888               4888             4888            4888   \n",
              "\n",
              "         OtherRevenue  BookingsCanceled  BookingsNoShowed  BookingsCheckedIn  \\\n",
              "cluster                                                                        \n",
              "0               35807             35807             35807              35807   \n",
              "1               42895             42895             42895              42895   \n",
              "2                4888              4888              4888               4888   \n",
              "\n",
              "         PersonsNights  RoomNights  ...  DistributionChannel_Direct  \\\n",
              "cluster                             ...                               \n",
              "0                35807       35807  ...                       35807   \n",
              "1                42895       42895  ...                       42895   \n",
              "2                 4888        4888  ...                        4888   \n",
              "\n",
              "         DistributionChannel_Electronic Distribution  \\\n",
              "cluster                                                \n",
              "0                                              35807   \n",
              "1                                              42895   \n",
              "2                                               4888   \n",
              "\n",
              "         DistributionChannel_Travel Agent/Operator  MarketSegment_Aviation  \\\n",
              "cluster                                                                      \n",
              "0                                            35807                   35807   \n",
              "1                                            42895                   42895   \n",
              "2                                             4888                    4888   \n",
              "\n",
              "         MarketSegment_Complementary  MarketSegment_Corporate  \\\n",
              "cluster                                                         \n",
              "0                              35807                    35807   \n",
              "1                              42895                    42895   \n",
              "2                               4888                     4888   \n",
              "\n",
              "         MarketSegment_Direct  MarketSegment_Groups  MarketSegment_Other  \\\n",
              "cluster                                                                    \n",
              "0                       35807                 35807                35807   \n",
              "1                       42895                 42895                42895   \n",
              "2                        4888                  4888                 4888   \n",
              "\n",
              "         MarketSegment_Travel Agent/Operator  \n",
              "cluster                                       \n",
              "0                                      35807  \n",
              "1                                      42895  \n",
              "2                                       4888  \n",
              "\n",
              "[3 rows x 224 columns]"
            ],
            "text/html": [
              "\n",
              "  <div id=\"df-d3fc9441-c9e9-42a8-8592-59160d559377\">\n",
              "    <div class=\"colab-df-container\">\n",
              "      <div>\n",
              "<style scoped>\n",
              "    .dataframe tbody tr th:only-of-type {\n",
              "        vertical-align: middle;\n",
              "    }\n",
              "\n",
              "    .dataframe tbody tr th {\n",
              "        vertical-align: top;\n",
              "    }\n",
              "\n",
              "    .dataframe thead th {\n",
              "        text-align: right;\n",
              "    }\n",
              "</style>\n",
              "<table border=\"1\" class=\"dataframe\">\n",
              "  <thead>\n",
              "    <tr style=\"text-align: right;\">\n",
              "      <th></th>\n",
              "      <th>Age</th>\n",
              "      <th>DaysSinceCreation</th>\n",
              "      <th>AverageLeadTime</th>\n",
              "      <th>LodgingRevenue</th>\n",
              "      <th>OtherRevenue</th>\n",
              "      <th>BookingsCanceled</th>\n",
              "      <th>BookingsNoShowed</th>\n",
              "      <th>BookingsCheckedIn</th>\n",
              "      <th>PersonsNights</th>\n",
              "      <th>RoomNights</th>\n",
              "      <th>...</th>\n",
              "      <th>DistributionChannel_Direct</th>\n",
              "      <th>DistributionChannel_Electronic Distribution</th>\n",
              "      <th>DistributionChannel_Travel Agent/Operator</th>\n",
              "      <th>MarketSegment_Aviation</th>\n",
              "      <th>MarketSegment_Complementary</th>\n",
              "      <th>MarketSegment_Corporate</th>\n",
              "      <th>MarketSegment_Direct</th>\n",
              "      <th>MarketSegment_Groups</th>\n",
              "      <th>MarketSegment_Other</th>\n",
              "      <th>MarketSegment_Travel Agent/Operator</th>\n",
              "    </tr>\n",
              "    <tr>\n",
              "      <th>cluster</th>\n",
              "      <th></th>\n",
              "      <th></th>\n",
              "      <th></th>\n",
              "      <th></th>\n",
              "      <th></th>\n",
              "      <th></th>\n",
              "      <th></th>\n",
              "      <th></th>\n",
              "      <th></th>\n",
              "      <th></th>\n",
              "      <th></th>\n",
              "      <th></th>\n",
              "      <th></th>\n",
              "      <th></th>\n",
              "      <th></th>\n",
              "      <th></th>\n",
              "      <th></th>\n",
              "      <th></th>\n",
              "      <th></th>\n",
              "      <th></th>\n",
              "      <th></th>\n",
              "    </tr>\n",
              "  </thead>\n",
              "  <tbody>\n",
              "    <tr>\n",
              "      <th>0</th>\n",
              "      <td>35807</td>\n",
              "      <td>35807</td>\n",
              "      <td>35807</td>\n",
              "      <td>35807</td>\n",
              "      <td>35807</td>\n",
              "      <td>35807</td>\n",
              "      <td>35807</td>\n",
              "      <td>35807</td>\n",
              "      <td>35807</td>\n",
              "      <td>35807</td>\n",
              "      <td>...</td>\n",
              "      <td>35807</td>\n",
              "      <td>35807</td>\n",
              "      <td>35807</td>\n",
              "      <td>35807</td>\n",
              "      <td>35807</td>\n",
              "      <td>35807</td>\n",
              "      <td>35807</td>\n",
              "      <td>35807</td>\n",
              "      <td>35807</td>\n",
              "      <td>35807</td>\n",
              "    </tr>\n",
              "    <tr>\n",
              "      <th>1</th>\n",
              "      <td>42895</td>\n",
              "      <td>42895</td>\n",
              "      <td>42895</td>\n",
              "      <td>42895</td>\n",
              "      <td>42895</td>\n",
              "      <td>42895</td>\n",
              "      <td>42895</td>\n",
              "      <td>42895</td>\n",
              "      <td>42895</td>\n",
              "      <td>42895</td>\n",
              "      <td>...</td>\n",
              "      <td>42895</td>\n",
              "      <td>42895</td>\n",
              "      <td>42895</td>\n",
              "      <td>42895</td>\n",
              "      <td>42895</td>\n",
              "      <td>42895</td>\n",
              "      <td>42895</td>\n",
              "      <td>42895</td>\n",
              "      <td>42895</td>\n",
              "      <td>42895</td>\n",
              "    </tr>\n",
              "    <tr>\n",
              "      <th>2</th>\n",
              "      <td>4888</td>\n",
              "      <td>4888</td>\n",
              "      <td>4888</td>\n",
              "      <td>4888</td>\n",
              "      <td>4888</td>\n",
              "      <td>4888</td>\n",
              "      <td>4888</td>\n",
              "      <td>4888</td>\n",
              "      <td>4888</td>\n",
              "      <td>4888</td>\n",
              "      <td>...</td>\n",
              "      <td>4888</td>\n",
              "      <td>4888</td>\n",
              "      <td>4888</td>\n",
              "      <td>4888</td>\n",
              "      <td>4888</td>\n",
              "      <td>4888</td>\n",
              "      <td>4888</td>\n",
              "      <td>4888</td>\n",
              "      <td>4888</td>\n",
              "      <td>4888</td>\n",
              "    </tr>\n",
              "  </tbody>\n",
              "</table>\n",
              "<p>3 rows × 224 columns</p>\n",
              "</div>\n",
              "      <button class=\"colab-df-convert\" onclick=\"convertToInteractive('df-d3fc9441-c9e9-42a8-8592-59160d559377')\"\n",
              "              title=\"Convert this dataframe to an interactive table.\"\n",
              "              style=\"display:none;\">\n",
              "        \n",
              "  <svg xmlns=\"http://www.w3.org/2000/svg\" height=\"24px\"viewBox=\"0 0 24 24\"\n",
              "       width=\"24px\">\n",
              "    <path d=\"M0 0h24v24H0V0z\" fill=\"none\"/>\n",
              "    <path d=\"M18.56 5.44l.94 2.06.94-2.06 2.06-.94-2.06-.94-.94-2.06-.94 2.06-2.06.94zm-11 1L8.5 8.5l.94-2.06 2.06-.94-2.06-.94L8.5 2.5l-.94 2.06-2.06.94zm10 10l.94 2.06.94-2.06 2.06-.94-2.06-.94-.94-2.06-.94 2.06-2.06.94z\"/><path d=\"M17.41 7.96l-1.37-1.37c-.4-.4-.92-.59-1.43-.59-.52 0-1.04.2-1.43.59L10.3 9.45l-7.72 7.72c-.78.78-.78 2.05 0 2.83L4 21.41c.39.39.9.59 1.41.59.51 0 1.02-.2 1.41-.59l7.78-7.78 2.81-2.81c.8-.78.8-2.07 0-2.86zM5.41 20L4 18.59l7.72-7.72 1.47 1.35L5.41 20z\"/>\n",
              "  </svg>\n",
              "      </button>\n",
              "      \n",
              "  <style>\n",
              "    .colab-df-container {\n",
              "      display:flex;\n",
              "      flex-wrap:wrap;\n",
              "      gap: 12px;\n",
              "    }\n",
              "\n",
              "    .colab-df-convert {\n",
              "      background-color: #E8F0FE;\n",
              "      border: none;\n",
              "      border-radius: 50%;\n",
              "      cursor: pointer;\n",
              "      display: none;\n",
              "      fill: #1967D2;\n",
              "      height: 32px;\n",
              "      padding: 0 0 0 0;\n",
              "      width: 32px;\n",
              "    }\n",
              "\n",
              "    .colab-df-convert:hover {\n",
              "      background-color: #E2EBFA;\n",
              "      box-shadow: 0px 1px 2px rgba(60, 64, 67, 0.3), 0px 1px 3px 1px rgba(60, 64, 67, 0.15);\n",
              "      fill: #174EA6;\n",
              "    }\n",
              "\n",
              "    [theme=dark] .colab-df-convert {\n",
              "      background-color: #3B4455;\n",
              "      fill: #D2E3FC;\n",
              "    }\n",
              "\n",
              "    [theme=dark] .colab-df-convert:hover {\n",
              "      background-color: #434B5C;\n",
              "      box-shadow: 0px 1px 3px 1px rgba(0, 0, 0, 0.15);\n",
              "      filter: drop-shadow(0px 1px 2px rgba(0, 0, 0, 0.3));\n",
              "      fill: #FFFFFF;\n",
              "    }\n",
              "  </style>\n",
              "\n",
              "      <script>\n",
              "        const buttonEl =\n",
              "          document.querySelector('#df-d3fc9441-c9e9-42a8-8592-59160d559377 button.colab-df-convert');\n",
              "        buttonEl.style.display =\n",
              "          google.colab.kernel.accessAllowed ? 'block' : 'none';\n",
              "\n",
              "        async function convertToInteractive(key) {\n",
              "          const element = document.querySelector('#df-d3fc9441-c9e9-42a8-8592-59160d559377');\n",
              "          const dataTable =\n",
              "            await google.colab.kernel.invokeFunction('convertToInteractive',\n",
              "                                                     [key], {});\n",
              "          if (!dataTable) return;\n",
              "\n",
              "          const docLinkHtml = 'Like what you see? Visit the ' +\n",
              "            '<a target=\"_blank\" href=https://colab.research.google.com/notebooks/data_table.ipynb>data table notebook</a>'\n",
              "            + ' to learn more about interactive tables.';\n",
              "          element.innerHTML = '';\n",
              "          dataTable['output_type'] = 'display_data';\n",
              "          await google.colab.output.renderOutput(dataTable, element);\n",
              "          const docLink = document.createElement('div');\n",
              "          docLink.innerHTML = docLinkHtml;\n",
              "          element.appendChild(docLink);\n",
              "        }\n",
              "      </script>\n",
              "    </div>\n",
              "  </div>\n",
              "  "
            ]
          },
          "metadata": {},
          "execution_count": 14
        }
      ]
    },
    {
      "cell_type": "code",
      "source": [
        "\n",
        "pd.DataFrame(cluster_stats.groupby(\"cluster\").mean()).transpose().to_csv(\"clusters.csv\")"
      ],
      "metadata": {
        "id": "WI8aoLXX-XBT"
      },
      "execution_count": null,
      "outputs": []
    },
    {
      "cell_type": "markdown",
      "source": [
        "## K-means without PCA"
      ],
      "metadata": {
        "id": "B5hR1cUm33Xx"
      }
    },
    {
      "cell_type": "code",
      "source": [
        "from sklearn.cluster import KMeans\n",
        "def choose_K(X):  \n",
        "  Sum_of_squared_distances = []\n",
        "  K = range(1,10)\n",
        "  for num_clusters in K :\n",
        "    kmeans = KMeans(n_clusters=num_clusters)\n",
        "    kmeans.fit(X)\n",
        "    Sum_of_squared_distances.append(kmeans.inertia_)\n",
        "  plt.plot(K,Sum_of_squared_distances,'bx-')\n",
        "  plt.xlabel('Values of K') \n",
        "  plt.ylabel('Sum of squared distances/Inertia') \n",
        "  plt.title('Elbow Method For Optimal k')\n",
        "  plt.show()\n",
        "choose_K(X)"
      ],
      "metadata": {
        "colab": {
          "base_uri": "https://localhost:8080/",
          "height": 295
        },
        "id": "9uIfDpSX4BXA",
        "outputId": "f9103940-a49a-439a-de91-a555f03a045f"
      },
      "execution_count": null,
      "outputs": [
        {
          "output_type": "display_data",
          "data": {
            "text/plain": [
              "<Figure size 432x288 with 1 Axes>"
            ],
            "image/png": "[encoded data removed]"
          },
          "metadata": {
            "needs_background": "light"
          }
        }
      ]
    },
    {
      "cell_type": "code",
      "source": [
        "from sklearn.cluster import KMeans\n",
        "kmeans = KMeans(3)\n",
        "clusters = kmeans.fit_predict(X)\n",
        "labels = pd.DataFrame(clusters)\n",
        "labels.index += 1 \n",
        "labeledCustomers = pd.concat((df,labels),axis=1)\n",
        "labeledCustomers = labeledCustomers.rename({0:'labels'},axis=1)"
      ],
      "metadata": {
        "id": "9wY9ld1r4x1u"
      },
      "execution_count": null,
      "outputs": []
    },
    {
      "cell_type": "code",
      "source": [
        "labeledCustomers"
      ],
      "metadata": {
        "colab": {
          "base_uri": "https://localhost:8080/",
          "height": 488
        },
        "id": "O6XfrLtd5MsN",
        "outputId": "32607dd5-39c4-4b34-abb4-9cd8bc79b564"
      },
      "execution_count": null,
      "outputs": [
        {
          "output_type": "execute_result",
          "data": {
            "text/plain": [
              "      Nationality        Age  DaysSinceCreation  AverageLeadTime  \\\n",
              "1             PRT  51.000000                150               45   \n",
              "2             PRT  45.398028               1095               61   \n",
              "3             DEU  31.000000               1095                0   \n",
              "4             FRA  60.000000               1095               93   \n",
              "5             FRA  51.000000               1095                0   \n",
              "...           ...        ...                ...              ...   \n",
              "83586         ITA  54.000000                  0                0   \n",
              "83587         IRL  47.000000                  0              109   \n",
              "83588         IRL  53.000000                  0                0   \n",
              "83589         IRL  85.000000                  0              109   \n",
              "83590         IRL  13.000000                  0                0   \n",
              "\n",
              "       LodgingRevenue  OtherRevenue  BookingsCanceled  BookingsNoShowed  \\\n",
              "1               371.0         105.3                 1                 0   \n",
              "2               280.0          53.0                 0                 0   \n",
              "3                 0.0           0.0                 0                 0   \n",
              "4               240.0          60.0                 0                 0   \n",
              "5                 0.0           0.0                 0                 0   \n",
              "...               ...           ...               ...               ...   \n",
              "83586             0.0           0.0                 0                 0   \n",
              "83587           327.1         277.5                 0                 0   \n",
              "83588             0.0           0.0                 0                 0   \n",
              "83589           981.3           9.0                 0                 0   \n",
              "83590             0.0           0.0                 0                 0   \n",
              "\n",
              "       BookingsCheckedIn  PersonsNights  ...  SRBathtub  SRShower  SRCrib  \\\n",
              "1                      3              8  ...          0         0       0   \n",
              "2                      1             10  ...          0         0       0   \n",
              "3                      0              0  ...          0         0       0   \n",
              "4                      1             10  ...          0         0       0   \n",
              "5                      0              0  ...          0         0       0   \n",
              "...                  ...            ...  ...        ...       ...     ...   \n",
              "83586                  0              0  ...          0         0       0   \n",
              "83587                  1              6  ...          0         0       0   \n",
              "83588                  0              0  ...          0         0       0   \n",
              "83589                  1              6  ...          0         0       0   \n",
              "83590                  0              0  ...          0         0       0   \n",
              "\n",
              "      SRKingSizeBed SRTwinBed  SRNearElevator  SRAwayFromElevator  \\\n",
              "1                 0         0               0                   0   \n",
              "2                 0         0               0                   0   \n",
              "3                 0         0               0                   0   \n",
              "4                 0         0               0                   0   \n",
              "5                 0         0               0                   0   \n",
              "...             ...       ...             ...                 ...   \n",
              "83586             0         0               0                   0   \n",
              "83587             1         0               0                   0   \n",
              "83588             1         0               0                   0   \n",
              "83589             0         1               0                   0   \n",
              "83590             0         1               0                   0   \n",
              "\n",
              "       SRNoAlcoholInMiniBar  SRQuietRoom  labels  \n",
              "1                         0            0       0  \n",
              "2                         0            0       0  \n",
              "3                         0            0       1  \n",
              "4                         0            0       0  \n",
              "5                         0            0       1  \n",
              "...                     ...          ...     ...  \n",
              "83586                     0            0       1  \n",
              "83587                     0            0       1  \n",
              "83588                     0            0       1  \n",
              "83589                     0            0       2  \n",
              "83590                     0            0       1  \n",
              "\n",
              "[83590 rows x 29 columns]"
            ],
            "text/html": [
              "\n",
              "  <div id=\"df-e8b0a3d6-19d2-4d7d-a323-9067bdf638dc\">\n",
              "    <div class=\"colab-df-container\">\n",
              "      <div>\n",
              "<style scoped>\n",
              "    .dataframe tbody tr th:only-of-type {\n",
              "        vertical-align: middle;\n",
              "    }\n",
              "\n",
              "    .dataframe tbody tr th {\n",
              "        vertical-align: top;\n",
              "    }\n",
              "\n",
              "    .dataframe thead th {\n",
              "        text-align: right;\n",
              "    }\n",
              "</style>\n",
              "<table border=\"1\" class=\"dataframe\">\n",
              "  <thead>\n",
              "    <tr style=\"text-align: right;\">\n",
              "      <th></th>\n",
              "      <th>Nationality</th>\n",
              "      <th>Age</th>\n",
              "      <th>DaysSinceCreation</th>\n",
              "      <th>AverageLeadTime</th>\n",
              "      <th>LodgingRevenue</th>\n",
              "      <th>OtherRevenue</th>\n",
              "      <th>BookingsCanceled</th>\n",
              "      <th>BookingsNoShowed</th>\n",
              "      <th>BookingsCheckedIn</th>\n",
              "      <th>PersonsNights</th>\n",
              "      <th>...</th>\n",
              "      <th>SRBathtub</th>\n",
              "      <th>SRShower</th>\n",
              "      <th>SRCrib</th>\n",
              "      <th>SRKingSizeBed</th>\n",
              "      <th>SRTwinBed</th>\n",
              "      <th>SRNearElevator</th>\n",
              "      <th>SRAwayFromElevator</th>\n",
              "      <th>SRNoAlcoholInMiniBar</th>\n",
              "      <th>SRQuietRoom</th>\n",
              "      <th>labels</th>\n",
              "    </tr>\n",
              "  </thead>\n",
              "  <tbody>\n",
              "    <tr>\n",
              "      <th>1</th>\n",
              "      <td>PRT</td>\n",
              "      <td>51.000000</td>\n",
              "      <td>150</td>\n",
              "      <td>45</td>\n",
              "      <td>371.0</td>\n",
              "      <td>105.3</td>\n",
              "      <td>1</td>\n",
              "      <td>0</td>\n",
              "      <td>3</td>\n",
              "      <td>8</td>\n",
              "      <td>...</td>\n",
              "      <td>0</td>\n",
              "      <td>0</td>\n",
              "      <td>0</td>\n",
              "      <td>0</td>\n",
              "      <td>0</td>\n",
              "      <td>0</td>\n",
              "      <td>0</td>\n",
              "      <td>0</td>\n",
              "      <td>0</td>\n",
              "      <td>0</td>\n",
              "    </tr>\n",
              "    <tr>\n",
              "      <th>2</th>\n",
              "      <td>PRT</td>\n",
              "      <td>45.398028</td>\n",
              "      <td>1095</td>\n",
              "      <td>61</td>\n",
              "      <td>280.0</td>\n",
              "      <td>53.0</td>\n",
              "      <td>0</td>\n",
              "      <td>0</td>\n",
              "      <td>1</td>\n",
              "      <td>10</td>\n",
              "      <td>...</td>\n",
              "      <td>0</td>\n",
              "      <td>0</td>\n",
              "      <td>0</td>\n",
              "      <td>0</td>\n",
              "      <td>0</td>\n",
              "      <td>0</td>\n",
              "      <td>0</td>\n",
              "      <td>0</td>\n",
              "      <td>0</td>\n",
              "      <td>0</td>\n",
              "    </tr>\n",
              "    <tr>\n",
              "      <th>3</th>\n",
              "      <td>DEU</td>\n",
              "      <td>31.000000</td>\n",
              "      <td>1095</td>\n",
              "      <td>0</td>\n",
              "      <td>0.0</td>\n",
              "      <td>0.0</td>\n",
              "      <td>0</td>\n",
              "      <td>0</td>\n",
              "      <td>0</td>\n",
              "      <td>0</td>\n",
              "      <td>...</td>\n",
              "      <td>0</td>\n",
              "      <td>0</td>\n",
              "      <td>0</td>\n",
              "      <td>0</td>\n",
              "      <td>0</td>\n",
              "      <td>0</td>\n",
              "      <td>0</td>\n",
              "      <td>0</td>\n",
              "      <td>0</td>\n",
              "      <td>1</td>\n",
              "    </tr>\n",
              "    <tr>\n",
              "      <th>4</th>\n",
              "      <td>FRA</td>\n",
              "      <td>60.000000</td>\n",
              "      <td>1095</td>\n",
              "      <td>93</td>\n",
              "      <td>240.0</td>\n",
              "      <td>60.0</td>\n",
              "      <td>0</td>\n",
              "      <td>0</td>\n",
              "      <td>1</td>\n",
              "      <td>10</td>\n",
              "      <td>...</td>\n",
              "      <td>0</td>\n",
              "      <td>0</td>\n",
              "      <td>0</td>\n",
              "      <td>0</td>\n",
              "      <td>0</td>\n",
              "      <td>0</td>\n",
              "      <td>0</td>\n",
              "      <td>0</td>\n",
              "      <td>0</td>\n",
              "      <td>0</td>\n",
              "    </tr>\n",
              "    <tr>\n",
              "      <th>5</th>\n",
              "      <td>FRA</td>\n",
              "      <td>51.000000</td>\n",
              "      <td>1095</td>\n",
              "      <td>0</td>\n",
              "      <td>0.0</td>\n",
              "      <td>0.0</td>\n",
              "      <td>0</td>\n",
              "      <td>0</td>\n",
              "      <td>0</td>\n",
              "      <td>0</td>\n",
              "      <td>...</td>\n",
              "      <td>0</td>\n",
              "      <td>0</td>\n",
              "      <td>0</td>\n",
              "      <td>0</td>\n",
              "      <td>0</td>\n",
              "      <td>0</td>\n",
              "      <td>0</td>\n",
              "      <td>0</td>\n",
              "      <td>0</td>\n",
              "      <td>1</td>\n",
              "    </tr>\n",
              "    <tr>\n",
              "      <th>...</th>\n",
              "      <td>...</td>\n",
              "      <td>...</td>\n",
              "      <td>...</td>\n",
              "      <td>...</td>\n",
              "      <td>...</td>\n",
              "      <td>...</td>\n",
              "      <td>...</td>\n",
              "      <td>...</td>\n",
              "      <td>...</td>\n",
              "      <td>...</td>\n",
              "      <td>...</td>\n",
              "      <td>...</td>\n",
              "      <td>...</td>\n",
              "      <td>...</td>\n",
              "      <td>...</td>\n",
              "      <td>...</td>\n",
              "      <td>...</td>\n",
              "      <td>...</td>\n",
              "      <td>...</td>\n",
              "      <td>...</td>\n",
              "      <td>...</td>\n",
              "    </tr>\n",
              "    <tr>\n",
              "      <th>83586</th>\n",
              "      <td>ITA</td>\n",
              "      <td>54.000000</td>\n",
              "      <td>0</td>\n",
              "      <td>0</td>\n",
              "      <td>0.0</td>\n",
              "      <td>0.0</td>\n",
              "      <td>0</td>\n",
              "      <td>0</td>\n",
              "      <td>0</td>\n",
              "      <td>0</td>\n",
              "      <td>...</td>\n",
              "      <td>0</td>\n",
              "      <td>0</td>\n",
              "      <td>0</td>\n",
              "      <td>0</td>\n",
              "      <td>0</td>\n",
              "      <td>0</td>\n",
              "      <td>0</td>\n",
              "      <td>0</td>\n",
              "      <td>0</td>\n",
              "      <td>1</td>\n",
              "    </tr>\n",
              "    <tr>\n",
              "      <th>83587</th>\n",
              "      <td>IRL</td>\n",
              "      <td>47.000000</td>\n",
              "      <td>0</td>\n",
              "      <td>109</td>\n",
              "      <td>327.1</td>\n",
              "      <td>277.5</td>\n",
              "      <td>0</td>\n",
              "      <td>0</td>\n",
              "      <td>1</td>\n",
              "      <td>6</td>\n",
              "      <td>...</td>\n",
              "      <td>0</td>\n",
              "      <td>0</td>\n",
              "      <td>0</td>\n",
              "      <td>1</td>\n",
              "      <td>0</td>\n",
              "      <td>0</td>\n",
              "      <td>0</td>\n",
              "      <td>0</td>\n",
              "      <td>0</td>\n",
              "      <td>1</td>\n",
              "    </tr>\n",
              "    <tr>\n",
              "      <th>83588</th>\n",
              "      <td>IRL</td>\n",
              "      <td>53.000000</td>\n",
              "      <td>0</td>\n",
              "      <td>0</td>\n",
              "      <td>0.0</td>\n",
              "      <td>0.0</td>\n",
              "      <td>0</td>\n",
              "      <td>0</td>\n",
              "      <td>0</td>\n",
              "      <td>0</td>\n",
              "      <td>...</td>\n",
              "      <td>0</td>\n",
              "      <td>0</td>\n",
              "      <td>0</td>\n",
              "      <td>1</td>\n",
              "      <td>0</td>\n",
              "      <td>0</td>\n",
              "      <td>0</td>\n",
              "      <td>0</td>\n",
              "      <td>0</td>\n",
              "      <td>1</td>\n",
              "    </tr>\n",
              "    <tr>\n",
              "      <th>83589</th>\n",
              "      <td>IRL</td>\n",
              "      <td>85.000000</td>\n",
              "      <td>0</td>\n",
              "      <td>109</td>\n",
              "      <td>981.3</td>\n",
              "      <td>9.0</td>\n",
              "      <td>0</td>\n",
              "      <td>0</td>\n",
              "      <td>1</td>\n",
              "      <td>6</td>\n",
              "      <td>...</td>\n",
              "      <td>0</td>\n",
              "      <td>0</td>\n",
              "      <td>0</td>\n",
              "      <td>0</td>\n",
              "      <td>1</td>\n",
              "      <td>0</td>\n",
              "      <td>0</td>\n",
              "      <td>0</td>\n",
              "      <td>0</td>\n",
              "      <td>2</td>\n",
              "    </tr>\n",
              "    <tr>\n",
              "      <th>83590</th>\n",
              "      <td>IRL</td>\n",
              "      <td>13.000000</td>\n",
              "      <td>0</td>\n",
              "      <td>0</td>\n",
              "      <td>0.0</td>\n",
              "      <td>0.0</td>\n",
              "      <td>0</td>\n",
              "      <td>0</td>\n",
              "      <td>0</td>\n",
              "      <td>0</td>\n",
              "      <td>...</td>\n",
              "      <td>0</td>\n",
              "      <td>0</td>\n",
              "      <td>0</td>\n",
              "      <td>0</td>\n",
              "      <td>1</td>\n",
              "      <td>0</td>\n",
              "      <td>0</td>\n",
              "      <td>0</td>\n",
              "      <td>0</td>\n",
              "      <td>1</td>\n",
              "    </tr>\n",
              "  </tbody>\n",
              "</table>\n",
              "<p>83590 rows × 29 columns</p>\n",
              "</div>\n",
              "      <button class=\"colab-df-convert\" onclick=\"convertToInteractive('df-e8b0a3d6-19d2-4d7d-a323-9067bdf638dc')\"\n",
              "              title=\"Convert this dataframe to an interactive table.\"\n",
              "              style=\"display:none;\">\n",
              "        \n",
              "  <svg xmlns=\"http://www.w3.org/2000/svg\" height=\"24px\"viewBox=\"0 0 24 24\"\n",
              "       width=\"24px\">\n",
              "    <path d=\"M0 0h24v24H0V0z\" fill=\"none\"/>\n",
              "    <path d=\"M18.56 5.44l.94 2.06.94-2.06 2.06-.94-2.06-.94-.94-2.06-.94 2.06-2.06.94zm-11 1L8.5 8.5l.94-2.06 2.06-.94-2.06-.94L8.5 2.5l-.94 2.06-2.06.94zm10 10l.94 2.06.94-2.06 2.06-.94-2.06-.94-.94-2.06-.94 2.06-2.06.94z\"/><path d=\"M17.41 7.96l-1.37-1.37c-.4-.4-.92-.59-1.43-.59-.52 0-1.04.2-1.43.59L10.3 9.45l-7.72 7.72c-.78.78-.78 2.05 0 2.83L4 21.41c.39.39.9.59 1.41.59.51 0 1.02-.2 1.41-.59l7.78-7.78 2.81-2.81c.8-.78.8-2.07 0-2.86zM5.41 20L4 18.59l7.72-7.72 1.47 1.35L5.41 20z\"/>\n",
              "  </svg>\n",
              "      </button>\n",
              "      \n",
              "  <style>\n",
              "    .colab-df-container {\n",
              "      display:flex;\n",
              "      flex-wrap:wrap;\n",
              "      gap: 12px;\n",
              "    }\n",
              "\n",
              "    .colab-df-convert {\n",
              "      background-color: #E8F0FE;\n",
              "      border: none;\n",
              "      border-radius: 50%;\n",
              "      cursor: pointer;\n",
              "      display: none;\n",
              "      fill: #1967D2;\n",
              "      height: 32px;\n",
              "      padding: 0 0 0 0;\n",
              "      width: 32px;\n",
              "    }\n",
              "\n",
              "    .colab-df-convert:hover {\n",
              "      background-color: #E2EBFA;\n",
              "      box-shadow: 0px 1px 2px rgba(60, 64, 67, 0.3), 0px 1px 3px 1px rgba(60, 64, 67, 0.15);\n",
              "      fill: #174EA6;\n",
              "    }\n",
              "\n",
              "    [theme=dark] .colab-df-convert {\n",
              "      background-color: #3B4455;\n",
              "      fill: #D2E3FC;\n",
              "    }\n",
              "\n",
              "    [theme=dark] .colab-df-convert:hover {\n",
              "      background-color: #434B5C;\n",
              "      box-shadow: 0px 1px 3px 1px rgba(0, 0, 0, 0.15);\n",
              "      filter: drop-shadow(0px 1px 2px rgba(0, 0, 0, 0.3));\n",
              "      fill: #FFFFFF;\n",
              "    }\n",
              "  </style>\n",
              "\n",
              "      <script>\n",
              "        const buttonEl =\n",
              "          document.querySelector('#df-e8b0a3d6-19d2-4d7d-a323-9067bdf638dc button.colab-df-convert');\n",
              "        buttonEl.style.display =\n",
              "          google.colab.kernel.accessAllowed ? 'block' : 'none';\n",
              "\n",
              "        async function convertToInteractive(key) {\n",
              "          const element = document.querySelector('#df-e8b0a3d6-19d2-4d7d-a323-9067bdf638dc');\n",
              "          const dataTable =\n",
              "            await google.colab.kernel.invokeFunction('convertToInteractive',\n",
              "                                                     [key], {});\n",
              "          if (!dataTable) return;\n",
              "\n",
              "          const docLinkHtml = 'Like what you see? Visit the ' +\n",
              "            '<a target=\"_blank\" href=https://colab.research.google.com/notebooks/data_table.ipynb>data table notebook</a>'\n",
              "            + ' to learn more about interactive tables.';\n",
              "          element.innerHTML = '';\n",
              "          dataTable['output_type'] = 'display_data';\n",
              "          await google.colab.output.renderOutput(dataTable, element);\n",
              "          const docLink = document.createElement('div');\n",
              "          docLink.innerHTML = docLinkHtml;\n",
              "          element.appendChild(docLink);\n",
              "        }\n",
              "      </script>\n",
              "    </div>\n",
              "  </div>\n",
              "  "
            ]
          },
          "metadata": {},
          "execution_count": 65
        }
      ]
    },
    {
      "cell_type": "code",
      "source": [
        "import matplotlib.pyplot as plt\n",
        "import seaborn as sns\n",
        "\n",
        "labeledCustomers['Constant'] = 0 #dummy feature for plotting\n",
        "\n",
        "f, axes = plt.subplots(1, 4, figsize=(25, 7), sharex=False)\n",
        "f.subplots_adjust(hspace=0.2, wspace=0.7)\n",
        "\n",
        "for i in range(4):\n",
        "    col = labeledCustomers.columns[i]\n",
        "    if i < 2:    \n",
        "        sns.catplot(x=col, y='labels', kind=\"swarm\", hue='labels', data=labeledCustomers,ax=axes[i])\n",
        "    else:\n",
        "        ax = sns.swarmplot(x=labeledCustomers['Constant'],y=labeledCustomers[col].values,hue=labeledCustomers['labels'],ax=axes[i])\n",
        "        ax.set_title(col)\n",
        "        \n",
        "plt.close(2)\n",
        "plt.close(3)\n",
        "plt.show()"
      ],
      "metadata": {
        "id": "--GHy5il50Q3"
      },
      "execution_count": null,
      "outputs": []
    },
    {
      "cell_type": "code",
      "source": [
        "f, axes = plt.subplots(1, 15, figsize=(25, 7), sharex=False)\n",
        "for column in df.columns:\n",
        "  if df[column].dtype!=\"object\":\n",
        "    plt.scatter(labeledCustomers[column], y=labels, s=50, cmap='viridis')\n",
        "plt.show()"
      ],
      "metadata": {
        "colab": {
          "base_uri": "https://localhost:8080/",
          "height": 918
        },
        "id": "UEcds3PT6Yg4",
        "outputId": "e5fcf908-195a-442c-e767-8fde20f2b8f6"
      },
      "execution_count": null,
      "outputs": [
        {
          "output_type": "stream",
          "name": "stdout",
          "text": [
            "Nationality\n",
            "Age\n",
            "DaysSinceCreation\n",
            "AverageLeadTime\n",
            "LodgingRevenue\n",
            "OtherRevenue\n",
            "BookingsCanceled\n",
            "BookingsNoShowed\n",
            "BookingsCheckedIn\n",
            "PersonsNights\n",
            "RoomNights\n",
            "DaysSinceLastStay\n",
            "DaysSinceFirstStay\n",
            "DistributionChannel\n",
            "MarketSegment\n",
            "SRHighFloor\n",
            "SRLowFloor\n",
            "SRAccessibleRoom\n",
            "SRMediumFloor\n",
            "SRBathtub\n",
            "SRShower\n",
            "SRCrib\n",
            "SRKingSizeBed\n",
            "SRTwinBed\n",
            "SRNearElevator\n",
            "SRAwayFromElevator\n",
            "SRNoAlcoholInMiniBar\n",
            "SRQuietRoom\n"
          ]
        },
        {
          "output_type": "display_data",
          "data": {
            "text/plain": [
              "<Figure size 1800x504 with 15 Axes>"
            ],
            "image/png": "[encoded data removed]"
          },
          "metadata": {
            "needs_background": "light"
          }
        }
      ]
    },
    {
      "cell_type": "code",
      "source": [
        "df[\"Age\"].dtype==\"float64\""
      ],
      "metadata": {
        "colab": {
          "base_uri": "https://localhost:8080/"
        },
        "id": "GNJ1FAB9-iJq",
        "outputId": "b9f0fd3c-9d57-45bb-ce73-9c6706d49515"
      },
      "execution_count": null,
      "outputs": [
        {
          "output_type": "execute_result",
          "data": {
            "text/plain": [
              "True"
            ]
          },
          "metadata": {},
          "execution_count": 70
        }
      ]
    },
    {
      "cell_type": "markdown",
      "source": [
        "## Agglomerative clustering with PCA features"
      ],
      "metadata": {
        "id": "sOhXzRkVwcW7"
      }
    },
    {
      "cell_type": "code",
      "source": [
        "import numpy as np\n",
        "np.where(X_reduced[:,0]>5000)"
      ],
      "metadata": {
        "colab": {
          "base_uri": "https://localhost:8080/"
        },
        "id": "JsRvN2QI3_dY",
        "outputId": "d7fa1917-3502-47e5-ac04-adf2fa643b8c"
      },
      "execution_count": null,
      "outputs": [
        {
          "output_type": "execute_result",
          "data": {
            "text/plain": [
              "(array([2757]),)"
            ]
          },
          "metadata": {},
          "execution_count": 29
        }
      ]
    },
    {
      "cell_type": "code",
      "source": [
        "X_reduced=np.delete(X_reduced,2757,0)"
      ],
      "metadata": {
        "id": "dOivvBt73yb3"
      },
      "execution_count": null,
      "outputs": []
    },
    {
      "cell_type": "code",
      "source": [
        "from sklearn.cluster import AgglomerativeClustering\n",
        "agg = AgglomerativeClustering(linkage=\"single\",n_clusters=3).fit(X_reduced)\n",
        "#Plot the clusters obtained using Agglomerative Clustering\n",
        "plt.xlabel(\"PCA 1\")\n",
        "plt.ylabel(\"PCA 2\")\n",
        "plt.title('Agglomerative Clustering 3 clusters')\n",
        "plt.scatter(X_reduced[:, 0], X_reduced[:, 1], c=agg.labels_, s=50, cmap='viridis')"
      ],
      "metadata": {
        "id": "Eve2rsMbwcE4",
        "colab": {
          "base_uri": "https://localhost:8080/",
          "height": 313
        },
        "outputId": "1a296412-7ea7-46b2-f9fe-52795b20fc17"
      },
      "execution_count": null,
      "outputs": [
        {
          "output_type": "execute_result",
          "data": {
            "text/plain": [
              "<matplotlib.collections.PathCollection at 0x7efc29df2d50>"
            ]
          },
          "metadata": {},
          "execution_count": 34
        },
        {
          "output_type": "display_data",
          "data": {
            "text/plain": [
              "<Figure size 432x288 with 1 Axes>"
            ],
            "image/png": "[encoded data removed]"
          },
          "metadata": {
            "needs_background": "light"
          }
        }
      ]
    },
    {
      "cell_type": "code",
      "source": [
        ""
      ],
      "metadata": {
        "id": "mlBtwXwz8J4m"
      },
      "execution_count": null,
      "outputs": []
    },
    {
      "cell_type": "markdown",
      "source": [
        "# Clustering analysis only with numerical predictors"
      ],
      "metadata": {
        "id": "DI-VCpP-RodG"
      }
    },
    {
      "cell_type": "markdown",
      "source": [
        "## K-means with PCA"
      ],
      "metadata": {
        "id": "avVCEsdtRsGZ"
      }
    },
    {
      "cell_type": "code",
      "source": [
        "df=df.drop(columns=['Nationality', 'DistributionChannel',\"MarketSegment\"])"
      ],
      "metadata": {
        "id": "xDrOZPX9SEJL"
      },
      "execution_count": null,
      "outputs": []
    },
    {
      "cell_type": "code",
      "source": [
        "from sklearn.decomposition import PCA\n",
        "import numpy as np\n",
        "X = np.asarray(df)\n",
        "\n",
        "# Create a PCA model to reduce our data to 2 dimensions for visualisation\n",
        "pca = PCA(n_components=2)\n",
        "pca.fit(X)\n",
        "\n",
        "# Transfor the scaled data to the new PCA space\n",
        "X_reduced = pca.transform(X)\n",
        "pca.explained_variance_ratio_"
      ],
      "metadata": {
        "colab": {
          "base_uri": "https://localhost:8080/"
        },
        "id": "sJBAHlz0Rrkc",
        "outputId": "1cd4967e-17d6-4279-97af-bc4f9c686c88"
      },
      "execution_count": null,
      "outputs": [
        {
          "output_type": "execute_result",
          "data": {
            "text/plain": [
              "array([0.67114189, 0.27228627])"
            ]
          },
          "metadata": {},
          "execution_count": 33
        }
      ]
    },
    {
      "cell_type": "code",
      "source": [
        "from sklearn.cluster import KMeans\n",
        "Sum_of_squared_distances = []\n",
        "K = range(1,10)\n",
        "for num_clusters in K :\n",
        " kmeans = KMeans(n_clusters=num_clusters)\n",
        " kmeans.fit(X)\n",
        " Sum_of_squared_distances.append(kmeans.inertia_)\n",
        "plt.plot(K,Sum_of_squared_distances,'bx-')\n",
        "plt.xlabel('Values of K') \n",
        "plt.ylabel('Sum of squared distances/Inertia') \n",
        "plt.title('Elbow Method For Optimal k')\n",
        "plt.show()"
      ],
      "metadata": {
        "colab": {
          "base_uri": "https://localhost:8080/"
        },
        "id": "bUeI4KVzR_0V",
        "outputId": "a652a125-5dca-4eae-d3c6-61e77f21ce5e"
      },
      "execution_count": null,
      "outputs": [
        {
          "output_type": "display_data",
          "data": {
            "text/plain": [
              "<Figure size 432x288 with 1 Axes>"
            ],
            "image/png": "[encoded data removed]"
          },
          "metadata": {
            "needs_background": "light"
          }
        }
      ]
    },
    {
      "cell_type": "code",
      "source": [
        ""
      ],
      "metadata": {
        "id": "mqyndHEbSuc3"
      },
      "execution_count": null,
      "outputs": []
    },
    {
      "cell_type": "markdown",
      "source": [
        "## Clustering analysis without PCA, with categorical and numerical variables\n"
      ],
      "metadata": {
        "id": "q_D9EoWnwpPk"
      }
    },
    {
      "cell_type": "code",
      "source": [
        "df.dtypes"
      ],
      "metadata": {
        "colab": {
          "base_uri": "https://localhost:8080/"
        },
        "id": "ZqD8L785w7c0",
        "outputId": "59d715e2-6aff-4100-8484-2664f7fb0ba6"
      },
      "execution_count": null,
      "outputs": [
        {
          "output_type": "execute_result",
          "data": {
            "text/plain": [
              "Nationality              object\n",
              "Age                     float64\n",
              "DaysSinceCreation         int64\n",
              "AverageLeadTime           int64\n",
              "LodgingRevenue          float64\n",
              "OtherRevenue            float64\n",
              "BookingsCanceled          int64\n",
              "BookingsNoShowed          int64\n",
              "BookingsCheckedIn         int64\n",
              "PersonsNights             int64\n",
              "RoomNights                int64\n",
              "DaysSinceLastStay         int64\n",
              "DaysSinceFirstStay        int64\n",
              "DistributionChannel      object\n",
              "MarketSegment            object\n",
              "SRHighFloor               int64\n",
              "SRLowFloor                int64\n",
              "SRAccessibleRoom          int64\n",
              "SRMediumFloor             int64\n",
              "SRBathtub                 int64\n",
              "SRShower                  int64\n",
              "SRCrib                    int64\n",
              "SRKingSizeBed             int64\n",
              "SRTwinBed                 int64\n",
              "SRNearElevator            int64\n",
              "SRAwayFromElevator        int64\n",
              "SRNoAlcoholInMiniBar      int64\n",
              "SRQuietRoom               int64\n",
              "dtype: object"
            ]
          },
          "metadata": {},
          "execution_count": 37
        }
      ]
    },
    {
      "cell_type": "code",
      "source": [
        "#Normalize the continuous features\n",
        "from sklearn import preprocessing\n",
        "df_norm = df.copy()\n",
        "scaler = preprocessing.MinMaxScaler()\n",
        "df_norm[['Age',\n",
        " 'DaysSinceCreation',\n",
        " 'AverageLeadTime',\n",
        " 'LodgingRevenue',\n",
        " 'OtherRevenue',\n",
        " 'BookingsCanceled',\n",
        " 'BookingsNoShowed',\n",
        " 'BookingsCheckedIn',\n",
        " 'PersonsNights',\n",
        " 'RoomNights',\n",
        " 'DaysSinceLastStay',\n",
        " 'DaysSinceFirstStay',\n",
        " 'SRHighFloor',\n",
        " 'SRLowFloor',\n",
        " 'SRAccessibleRoom',\n",
        " 'SRMediumFloor',\n",
        " 'SRBathtub',\n",
        " 'SRShower',\n",
        " 'SRCrib',\n",
        " 'SRKingSizeBed',\n",
        " 'SRTwinBed',\n",
        " 'SRNearElevator',\n",
        " 'SRAwayFromElevator',\n",
        " 'SRNoAlcoholInMiniBar',\n",
        " 'SRQuietRoom']] = scaler.fit_transform(df_norm[['Age',\n",
        " 'DaysSinceCreation',\n",
        " 'AverageLeadTime',\n",
        " 'LodgingRevenue',\n",
        " 'OtherRevenue',\n",
        " 'BookingsCanceled',\n",
        " 'BookingsNoShowed',\n",
        " 'BookingsCheckedIn',\n",
        " 'PersonsNights',\n",
        " 'RoomNights',\n",
        " 'DaysSinceLastStay',\n",
        " 'DaysSinceFirstStay',\n",
        " 'SRHighFloor',\n",
        " 'SRLowFloor',\n",
        " 'SRAccessibleRoom',\n",
        " 'SRMediumFloor',\n",
        " 'SRBathtub',\n",
        " 'SRShower',\n",
        " 'SRCrib',\n",
        " 'SRKingSizeBed',\n",
        " 'SRTwinBed',\n",
        " 'SRNearElevator',\n",
        " 'SRAwayFromElevator',\n",
        " 'SRNoAlcoholInMiniBar',\n",
        " 'SRQuietRoom']])"
      ],
      "metadata": {
        "id": "4JXM0REJwv_M"
      },
      "execution_count": null,
      "outputs": []
    },
    {
      "cell_type": "code",
      "source": [
        "df.dtypes"
      ],
      "metadata": {
        "colab": {
          "base_uri": "https://localhost:8080/"
        },
        "id": "71JrzBkBxrLx",
        "outputId": "371e7bfc-30b9-45de-a117-7807acea597e"
      },
      "execution_count": null,
      "outputs": [
        {
          "output_type": "execute_result",
          "data": {
            "text/plain": [
              "Nationality              object\n",
              "Age                     float64\n",
              "DaysSinceCreation         int64\n",
              "AverageLeadTime           int64\n",
              "LodgingRevenue          float64\n",
              "OtherRevenue            float64\n",
              "BookingsCanceled          int64\n",
              "BookingsNoShowed          int64\n",
              "BookingsCheckedIn         int64\n",
              "PersonsNights             int64\n",
              "RoomNights                int64\n",
              "DaysSinceLastStay         int64\n",
              "DaysSinceFirstStay        int64\n",
              "DistributionChannel      object\n",
              "MarketSegment            object\n",
              "SRHighFloor               int64\n",
              "SRLowFloor                int64\n",
              "SRAccessibleRoom          int64\n",
              "SRMediumFloor             int64\n",
              "SRBathtub                 int64\n",
              "SRShower                  int64\n",
              "SRCrib                    int64\n",
              "SRKingSizeBed             int64\n",
              "SRTwinBed                 int64\n",
              "SRNearElevator            int64\n",
              "SRAwayFromElevator        int64\n",
              "SRNoAlcoholInMiniBar      int64\n",
              "SRQuietRoom               int64\n",
              "dtype: object"
            ]
          },
          "metadata": {},
          "execution_count": 40
        }
      ]
    },
    {
      "cell_type": "code",
      "source": [
        "pip install kmodes"
      ],
      "metadata": {
        "colab": {
          "base_uri": "https://localhost:8080/"
        },
        "id": "ooYfVxg-x72M",
        "outputId": "3636d4af-f1ff-44c9-dc80-199f78bfe974"
      },
      "execution_count": null,
      "outputs": [
        {
          "output_type": "stream",
          "name": "stdout",
          "text": [
            "Collecting kmodes\n",
            "  Downloading kmodes-0.12.1-py2.py3-none-any.whl (20 kB)\n",
            "Requirement already satisfied: scipy>=0.13.3 in /usr/local/lib/python3.7/dist-packages (from kmodes) (1.4.1)\n",
            "Requirement already satisfied: numpy>=1.10.4 in /usr/local/lib/python3.7/dist-packages (from kmodes) (1.21.6)\n",
            "Requirement already satisfied: scikit-learn>=0.22.0 in /usr/local/lib/python3.7/dist-packages (from kmodes) (1.0.2)\n",
            "Requirement already satisfied: joblib>=0.11 in /usr/local/lib/python3.7/dist-packages (from kmodes) (1.1.0)\n",
            "Requirement already satisfied: threadpoolctl>=2.0.0 in /usr/local/lib/python3.7/dist-packages (from scikit-learn>=0.22.0->kmodes) (3.1.0)\n",
            "Installing collected packages: kmodes\n",
            "Successfully installed kmodes-0.12.1\n"
          ]
        }
      ]
    },
    {
      "cell_type": "code",
      "source": [
        "from kmodes.kprototypes import KPrototypes\n",
        "kproto = KPrototypes(n_clusters=3, init='Cao')\n",
        "clusters = kproto.fit_predict(df_norm, categorical=[0, 13,14])\n",
        "#join data with labels \n",
        "labels = pd.DataFrame(clusters)\n",
        "labeledCustomers = pd.concat((df,labels),axis=1)\n",
        "labeledCustomers = labeledCustomers.rename({0:'labels'},axis=1)"
      ],
      "metadata": {
        "id": "D8AKBWfkxeXy"
      },
      "execution_count": null,
      "outputs": []
    },
    {
      "cell_type": "code",
      "source": [
        "import matplotlib.pyplot as plt\n",
        "import seaborn as sns\n",
        "\n",
        "labeledCustomers['Constant'] = 0 #dummy feature for plotting\n",
        "\n",
        "f, axes = plt.subplots(1, 4, figsize=(25, 7), sharex=False)\n",
        "f.subplots_adjust(hspace=0.2, wspace=0.7)\n",
        "\n",
        "for i in range(4):\n",
        "    col = labeledCustomers.columns[i]\n",
        "    if i < 2:    \n",
        "        sns.catplot(x=col, y='labels', kind=\"swarm\", hue='labels', data=labeledCustomers,ax=axes[i])\n",
        "    else:\n",
        "        ax = sns.swarmplot(x=labeledCustomers['Constant'],y=labeledCustomers[col].values,hue=labeledCustomers['labels'],ax=axes[i])\n",
        "        ax.set_title(col)\n",
        "        \n",
        "plt.close(2)\n",
        "plt.close(3)\n",
        "plt.show()"
      ],
      "metadata": {
        "colab": {
          "base_uri": "https://localhost:8080/"
        },
        "id": "Woly3umex7Be",
        "outputId": "7e67487b-34c0-4735-a993-5f3a1d7e77b4"
      },
      "execution_count": null,
      "outputs": [
        {
          "output_type": "stream",
          "name": "stderr",
          "text": [
            "/usr/local/lib/python3.7/dist-packages/seaborn/categorical.py:3775: UserWarning: catplot is a figure-level function and does not accept target axes. You may wish to try swarmplot\n",
            "  warnings.warn(msg, UserWarning)\n"
          ]
        },
        {
          "output_type": "error",
          "ename": "KeyboardInterrupt",
          "evalue": "ignored",
          "traceback": [
            "\u001b[0;31m---------------------------------------------------------------------------\u001b[0m",
            "\u001b[0;31mTypeError\u001b[0m                                 Traceback (most recent call last)",
            "\u001b[0;32m/usr/local/lib/python3.7/dist-packages/pandas/core/series.py\u001b[0m in \u001b[0;36m__setitem__\u001b[0;34m(self, key, value)\u001b[0m\n\u001b[1;32m   1061\u001b[0m         \u001b[0;32mtry\u001b[0m\u001b[0;34m:\u001b[0m\u001b[0;34m\u001b[0m\u001b[0;34m\u001b[0m\u001b[0m\n\u001b[0;32m-> 1062\u001b[0;31m             \u001b[0mself\u001b[0m\u001b[0;34m.\u001b[0m\u001b[0m_set_with_engine\u001b[0m\u001b[0;34m(\u001b[0m\u001b[0mkey\u001b[0m\u001b[0;34m,\u001b[0m \u001b[0mvalue\u001b[0m\u001b[0;34m)\u001b[0m\u001b[0;34m\u001b[0m\u001b[0;34m\u001b[0m\u001b[0m\n\u001b[0m\u001b[1;32m   1063\u001b[0m         \u001b[0;32mexcept\u001b[0m \u001b[0;34m(\u001b[0m\u001b[0mKeyError\u001b[0m\u001b[0;34m,\u001b[0m \u001b[0mValueError\u001b[0m\u001b[0;34m)\u001b[0m\u001b[0;34m:\u001b[0m\u001b[0;34m\u001b[0m\u001b[0;34m\u001b[0m\u001b[0m\n",
            "\u001b[0;32m/usr/local/lib/python3.7/dist-packages/pandas/core/series.py\u001b[0m in \u001b[0;36m_set_with_engine\u001b[0;34m(self, key, value)\u001b[0m\n\u001b[1;32m   1094\u001b[0m         \u001b[0;31m# fails with AttributeError for IntervalIndex\u001b[0m\u001b[0;34m\u001b[0m\u001b[0;34m\u001b[0m\u001b[0;34m\u001b[0m\u001b[0m\n\u001b[0;32m-> 1095\u001b[0;31m         \u001b[0mloc\u001b[0m \u001b[0;34m=\u001b[0m \u001b[0mself\u001b[0m\u001b[0;34m.\u001b[0m\u001b[0mindex\u001b[0m\u001b[0;34m.\u001b[0m\u001b[0m_engine\u001b[0m\u001b[0;34m.\u001b[0m\u001b[0mget_loc\u001b[0m\u001b[0;34m(\u001b[0m\u001b[0mkey\u001b[0m\u001b[0;34m)\u001b[0m\u001b[0;34m\u001b[0m\u001b[0;34m\u001b[0m\u001b[0m\n\u001b[0m\u001b[1;32m   1096\u001b[0m         \u001b[0;31m# error: Argument 1 to \"validate_numeric_casting\" has incompatible type\u001b[0m\u001b[0;34m\u001b[0m\u001b[0;34m\u001b[0m\u001b[0;34m\u001b[0m\u001b[0m\n",
            "\u001b[0;32m/usr/local/lib/python3.7/dist-packages/pandas/_libs/index.pyx\u001b[0m in \u001b[0;36mpandas._libs.index.IndexEngine.get_loc\u001b[0;34m()\u001b[0m\n",
            "\u001b[0;32m/usr/local/lib/python3.7/dist-packages/pandas/_libs/index.pyx\u001b[0m in \u001b[0;36mpandas._libs.index.IndexEngine.get_loc\u001b[0;34m()\u001b[0m\n",
            "\u001b[0;31mTypeError\u001b[0m: '47224    False\n70798    False\n72131    False\nName: labels, dtype: bool' is an invalid key",
            "\nDuring handling of the above exception, another exception occurred:\n",
            "\u001b[0;31mKeyboardInterrupt\u001b[0m                         Traceback (most recent call last)",
            "\u001b[0;32m<ipython-input-44-cf56940848ce>\u001b[0m in \u001b[0;36m<module>\u001b[0;34m()\u001b[0m\n\u001b[1;32m     10\u001b[0m     \u001b[0mcol\u001b[0m \u001b[0;34m=\u001b[0m \u001b[0mlabeledCustomers\u001b[0m\u001b[0;34m.\u001b[0m\u001b[0mcolumns\u001b[0m\u001b[0;34m[\u001b[0m\u001b[0mi\u001b[0m\u001b[0;34m]\u001b[0m\u001b[0;34m\u001b[0m\u001b[0;34m\u001b[0m\u001b[0m\n\u001b[1;32m     11\u001b[0m     \u001b[0;32mif\u001b[0m \u001b[0mi\u001b[0m \u001b[0;34m<\u001b[0m \u001b[0;36m2\u001b[0m\u001b[0;34m:\u001b[0m\u001b[0;34m\u001b[0m\u001b[0;34m\u001b[0m\u001b[0m\n\u001b[0;32m---> 12\u001b[0;31m         \u001b[0msns\u001b[0m\u001b[0;34m.\u001b[0m\u001b[0mcatplot\u001b[0m\u001b[0;34m(\u001b[0m\u001b[0mx\u001b[0m\u001b[0;34m=\u001b[0m\u001b[0mcol\u001b[0m\u001b[0;34m,\u001b[0m \u001b[0my\u001b[0m\u001b[0;34m=\u001b[0m\u001b[0;34m'labels'\u001b[0m\u001b[0;34m,\u001b[0m \u001b[0mkind\u001b[0m\u001b[0;34m=\u001b[0m\u001b[0;34m\"swarm\"\u001b[0m\u001b[0;34m,\u001b[0m \u001b[0mhue\u001b[0m\u001b[0;34m=\u001b[0m\u001b[0;34m'labels'\u001b[0m\u001b[0;34m,\u001b[0m \u001b[0mdata\u001b[0m\u001b[0;34m=\u001b[0m\u001b[0mlabeledCustomers\u001b[0m\u001b[0;34m,\u001b[0m\u001b[0max\u001b[0m\u001b[0;34m=\u001b[0m\u001b[0maxes\u001b[0m\u001b[0;34m[\u001b[0m\u001b[0mi\u001b[0m\u001b[0;34m]\u001b[0m\u001b[0;34m)\u001b[0m\u001b[0;34m\u001b[0m\u001b[0;34m\u001b[0m\u001b[0m\n\u001b[0m\u001b[1;32m     13\u001b[0m     \u001b[0;32melse\u001b[0m\u001b[0;34m:\u001b[0m\u001b[0;34m\u001b[0m\u001b[0;34m\u001b[0m\u001b[0m\n\u001b[1;32m     14\u001b[0m         \u001b[0max\u001b[0m \u001b[0;34m=\u001b[0m \u001b[0msns\u001b[0m\u001b[0;34m.\u001b[0m\u001b[0mswarmplot\u001b[0m\u001b[0;34m(\u001b[0m\u001b[0mx\u001b[0m\u001b[0;34m=\u001b[0m\u001b[0mlabeledCustomers\u001b[0m\u001b[0;34m[\u001b[0m\u001b[0;34m'Constant'\u001b[0m\u001b[0;34m]\u001b[0m\u001b[0;34m,\u001b[0m\u001b[0my\u001b[0m\u001b[0;34m=\u001b[0m\u001b[0mlabeledCustomers\u001b[0m\u001b[0;34m[\u001b[0m\u001b[0mcol\u001b[0m\u001b[0;34m]\u001b[0m\u001b[0;34m.\u001b[0m\u001b[0mvalues\u001b[0m\u001b[0;34m,\u001b[0m\u001b[0mhue\u001b[0m\u001b[0;34m=\u001b[0m\u001b[0mlabeledCustomers\u001b[0m\u001b[0;34m[\u001b[0m\u001b[0;34m'labels'\u001b[0m\u001b[0;34m]\u001b[0m\u001b[0;34m,\u001b[0m\u001b[0max\u001b[0m\u001b[0;34m=\u001b[0m\u001b[0maxes\u001b[0m\u001b[0;34m[\u001b[0m\u001b[0mi\u001b[0m\u001b[0;34m]\u001b[0m\u001b[0;34m)\u001b[0m\u001b[0;34m\u001b[0m\u001b[0;34m\u001b[0m\u001b[0m\n",
            "\u001b[0;32m/usr/local/lib/python3.7/dist-packages/seaborn/_decorators.py\u001b[0m in \u001b[0;36minner_f\u001b[0;34m(*args, **kwargs)\u001b[0m\n\u001b[1;32m     44\u001b[0m             )\n\u001b[1;32m     45\u001b[0m         \u001b[0mkwargs\u001b[0m\u001b[0;34m.\u001b[0m\u001b[0mupdate\u001b[0m\u001b[0;34m(\u001b[0m\u001b[0;34m{\u001b[0m\u001b[0mk\u001b[0m\u001b[0;34m:\u001b[0m \u001b[0marg\u001b[0m \u001b[0;32mfor\u001b[0m \u001b[0mk\u001b[0m\u001b[0;34m,\u001b[0m \u001b[0marg\u001b[0m \u001b[0;32min\u001b[0m \u001b[0mzip\u001b[0m\u001b[0;34m(\u001b[0m\u001b[0msig\u001b[0m\u001b[0;34m.\u001b[0m\u001b[0mparameters\u001b[0m\u001b[0;34m,\u001b[0m \u001b[0margs\u001b[0m\u001b[0;34m)\u001b[0m\u001b[0;34m}\u001b[0m\u001b[0;34m)\u001b[0m\u001b[0;34m\u001b[0m\u001b[0;34m\u001b[0m\u001b[0m\n\u001b[0;32m---> 46\u001b[0;31m         \u001b[0;32mreturn\u001b[0m \u001b[0mf\u001b[0m\u001b[0;34m(\u001b[0m\u001b[0;34m**\u001b[0m\u001b[0mkwargs\u001b[0m\u001b[0;34m)\u001b[0m\u001b[0;34m\u001b[0m\u001b[0;34m\u001b[0m\u001b[0m\n\u001b[0m\u001b[1;32m     47\u001b[0m     \u001b[0;32mreturn\u001b[0m \u001b[0minner_f\u001b[0m\u001b[0;34m\u001b[0m\u001b[0;34m\u001b[0m\u001b[0m\n\u001b[1;32m     48\u001b[0m \u001b[0;34m\u001b[0m\u001b[0m\n",
            "\u001b[0;32m/usr/local/lib/python3.7/dist-packages/seaborn/categorical.py\u001b[0m in \u001b[0;36mcatplot\u001b[0;34m(x, y, hue, data, row, col, col_wrap, estimator, ci, n_boot, units, seed, order, hue_order, row_order, col_order, kind, height, aspect, orient, color, palette, legend, legend_out, sharex, sharey, margin_titles, facet_kws, **kwargs)\u001b[0m\n\u001b[1;32m   3845\u001b[0m \u001b[0;34m\u001b[0m\u001b[0m\n\u001b[1;32m   3846\u001b[0m     \u001b[0;31m# Draw the plot onto the facets\u001b[0m\u001b[0;34m\u001b[0m\u001b[0;34m\u001b[0m\u001b[0;34m\u001b[0m\u001b[0m\n\u001b[0;32m-> 3847\u001b[0;31m     \u001b[0mg\u001b[0m\u001b[0;34m.\u001b[0m\u001b[0mmap_dataframe\u001b[0m\u001b[0;34m(\u001b[0m\u001b[0mplot_func\u001b[0m\u001b[0;34m,\u001b[0m \u001b[0mx\u001b[0m\u001b[0;34m=\u001b[0m\u001b[0mx\u001b[0m\u001b[0;34m,\u001b[0m \u001b[0my\u001b[0m\u001b[0;34m=\u001b[0m\u001b[0my\u001b[0m\u001b[0;34m,\u001b[0m \u001b[0mhue\u001b[0m\u001b[0;34m=\u001b[0m\u001b[0mhue\u001b[0m\u001b[0;34m,\u001b[0m \u001b[0;34m**\u001b[0m\u001b[0mplot_kws\u001b[0m\u001b[0;34m)\u001b[0m\u001b[0;34m\u001b[0m\u001b[0;34m\u001b[0m\u001b[0m\n\u001b[0m\u001b[1;32m   3848\u001b[0m \u001b[0;34m\u001b[0m\u001b[0m\n\u001b[1;32m   3849\u001b[0m     \u001b[0;32mif\u001b[0m \u001b[0mp\u001b[0m\u001b[0;34m.\u001b[0m\u001b[0morient\u001b[0m \u001b[0;34m==\u001b[0m \u001b[0;34m\"h\"\u001b[0m\u001b[0;34m:\u001b[0m\u001b[0;34m\u001b[0m\u001b[0;34m\u001b[0m\u001b[0m\n",
            "\u001b[0;32m/usr/local/lib/python3.7/dist-packages/seaborn/axisgrid.py\u001b[0m in \u001b[0;36mmap_dataframe\u001b[0;34m(self, func, *args, **kwargs)\u001b[0m\n\u001b[1;32m    775\u001b[0m \u001b[0;34m\u001b[0m\u001b[0m\n\u001b[1;32m    776\u001b[0m             \u001b[0;31m# Draw the plot\u001b[0m\u001b[0;34m\u001b[0m\u001b[0;34m\u001b[0m\u001b[0;34m\u001b[0m\u001b[0m\n\u001b[0;32m--> 777\u001b[0;31m             \u001b[0mself\u001b[0m\u001b[0;34m.\u001b[0m\u001b[0m_facet_plot\u001b[0m\u001b[0;34m(\u001b[0m\u001b[0mfunc\u001b[0m\u001b[0;34m,\u001b[0m \u001b[0max\u001b[0m\u001b[0;34m,\u001b[0m \u001b[0margs\u001b[0m\u001b[0;34m,\u001b[0m \u001b[0mkwargs\u001b[0m\u001b[0;34m)\u001b[0m\u001b[0;34m\u001b[0m\u001b[0;34m\u001b[0m\u001b[0m\n\u001b[0m\u001b[1;32m    778\u001b[0m \u001b[0;34m\u001b[0m\u001b[0m\n\u001b[1;32m    779\u001b[0m         \u001b[0;31m# For axis labels, prefer to use positional args for backcompat\u001b[0m\u001b[0;34m\u001b[0m\u001b[0;34m\u001b[0m\u001b[0;34m\u001b[0m\u001b[0m\n",
            "\u001b[0;32m/usr/local/lib/python3.7/dist-packages/seaborn/axisgrid.py\u001b[0m in \u001b[0;36m_facet_plot\u001b[0;34m(self, func, ax, plot_args, plot_kwargs)\u001b[0m\n\u001b[1;32m    804\u001b[0m             \u001b[0mplot_args\u001b[0m \u001b[0;34m=\u001b[0m \u001b[0;34m[\u001b[0m\u001b[0;34m]\u001b[0m\u001b[0;34m\u001b[0m\u001b[0;34m\u001b[0m\u001b[0m\n\u001b[1;32m    805\u001b[0m             \u001b[0mplot_kwargs\u001b[0m\u001b[0;34m[\u001b[0m\u001b[0;34m\"ax\"\u001b[0m\u001b[0;34m]\u001b[0m \u001b[0;34m=\u001b[0m \u001b[0max\u001b[0m\u001b[0;34m\u001b[0m\u001b[0;34m\u001b[0m\u001b[0m\n\u001b[0;32m--> 806\u001b[0;31m         \u001b[0mfunc\u001b[0m\u001b[0;34m(\u001b[0m\u001b[0;34m*\u001b[0m\u001b[0mplot_args\u001b[0m\u001b[0;34m,\u001b[0m \u001b[0;34m**\u001b[0m\u001b[0mplot_kwargs\u001b[0m\u001b[0;34m)\u001b[0m\u001b[0;34m\u001b[0m\u001b[0;34m\u001b[0m\u001b[0m\n\u001b[0m\u001b[1;32m    807\u001b[0m \u001b[0;34m\u001b[0m\u001b[0m\n\u001b[1;32m    808\u001b[0m         \u001b[0;31m# Sort out the supporting information\u001b[0m\u001b[0;34m\u001b[0m\u001b[0;34m\u001b[0m\u001b[0;34m\u001b[0m\u001b[0m\n",
            "\u001b[0;32m/usr/local/lib/python3.7/dist-packages/seaborn/_decorators.py\u001b[0m in \u001b[0;36minner_f\u001b[0;34m(*args, **kwargs)\u001b[0m\n\u001b[1;32m     44\u001b[0m             )\n\u001b[1;32m     45\u001b[0m         \u001b[0mkwargs\u001b[0m\u001b[0;34m.\u001b[0m\u001b[0mupdate\u001b[0m\u001b[0;34m(\u001b[0m\u001b[0;34m{\u001b[0m\u001b[0mk\u001b[0m\u001b[0;34m:\u001b[0m \u001b[0marg\u001b[0m \u001b[0;32mfor\u001b[0m \u001b[0mk\u001b[0m\u001b[0;34m,\u001b[0m \u001b[0marg\u001b[0m \u001b[0;32min\u001b[0m \u001b[0mzip\u001b[0m\u001b[0;34m(\u001b[0m\u001b[0msig\u001b[0m\u001b[0;34m.\u001b[0m\u001b[0mparameters\u001b[0m\u001b[0;34m,\u001b[0m \u001b[0margs\u001b[0m\u001b[0;34m)\u001b[0m\u001b[0;34m}\u001b[0m\u001b[0;34m)\u001b[0m\u001b[0;34m\u001b[0m\u001b[0;34m\u001b[0m\u001b[0m\n\u001b[0;32m---> 46\u001b[0;31m         \u001b[0;32mreturn\u001b[0m \u001b[0mf\u001b[0m\u001b[0;34m(\u001b[0m\u001b[0;34m**\u001b[0m\u001b[0mkwargs\u001b[0m\u001b[0;34m)\u001b[0m\u001b[0;34m\u001b[0m\u001b[0;34m\u001b[0m\u001b[0m\n\u001b[0m\u001b[1;32m     47\u001b[0m     \u001b[0;32mreturn\u001b[0m \u001b[0minner_f\u001b[0m\u001b[0;34m\u001b[0m\u001b[0;34m\u001b[0m\u001b[0m\n\u001b[1;32m     48\u001b[0m \u001b[0;34m\u001b[0m\u001b[0m\n",
            "\u001b[0;32m/usr/local/lib/python3.7/dist-packages/seaborn/categorical.py\u001b[0m in \u001b[0;36mswarmplot\u001b[0;34m(x, y, hue, data, order, hue_order, dodge, orient, color, palette, size, edgecolor, linewidth, ax, **kwargs)\u001b[0m\n\u001b[1;32m   3017\u001b[0m                        linewidth=linewidth))\n\u001b[1;32m   3018\u001b[0m \u001b[0;34m\u001b[0m\u001b[0m\n\u001b[0;32m-> 3019\u001b[0;31m     \u001b[0mplotter\u001b[0m\u001b[0;34m.\u001b[0m\u001b[0mplot\u001b[0m\u001b[0;34m(\u001b[0m\u001b[0max\u001b[0m\u001b[0;34m,\u001b[0m \u001b[0mkwargs\u001b[0m\u001b[0;34m)\u001b[0m\u001b[0;34m\u001b[0m\u001b[0;34m\u001b[0m\u001b[0m\n\u001b[0m\u001b[1;32m   3020\u001b[0m     \u001b[0;32mreturn\u001b[0m \u001b[0max\u001b[0m\u001b[0;34m\u001b[0m\u001b[0;34m\u001b[0m\u001b[0m\n\u001b[1;32m   3021\u001b[0m \u001b[0;34m\u001b[0m\u001b[0m\n",
            "\u001b[0;32m/usr/local/lib/python3.7/dist-packages/seaborn/categorical.py\u001b[0m in \u001b[0;36mplot\u001b[0;34m(self, ax, kws)\u001b[0m\n\u001b[1;32m   1418\u001b[0m     \u001b[0;32mdef\u001b[0m \u001b[0mplot\u001b[0m\u001b[0;34m(\u001b[0m\u001b[0mself\u001b[0m\u001b[0;34m,\u001b[0m \u001b[0max\u001b[0m\u001b[0;34m,\u001b[0m \u001b[0mkws\u001b[0m\u001b[0;34m)\u001b[0m\u001b[0;34m:\u001b[0m\u001b[0;34m\u001b[0m\u001b[0;34m\u001b[0m\u001b[0m\n\u001b[1;32m   1419\u001b[0m         \u001b[0;34m\"\"\"Make the full plot.\"\"\"\u001b[0m\u001b[0;34m\u001b[0m\u001b[0;34m\u001b[0m\u001b[0m\n\u001b[0;32m-> 1420\u001b[0;31m         \u001b[0mself\u001b[0m\u001b[0;34m.\u001b[0m\u001b[0mdraw_swarmplot\u001b[0m\u001b[0;34m(\u001b[0m\u001b[0max\u001b[0m\u001b[0;34m,\u001b[0m \u001b[0mkws\u001b[0m\u001b[0;34m)\u001b[0m\u001b[0;34m\u001b[0m\u001b[0;34m\u001b[0m\u001b[0m\n\u001b[0m\u001b[1;32m   1421\u001b[0m         \u001b[0mself\u001b[0m\u001b[0;34m.\u001b[0m\u001b[0madd_legend_data\u001b[0m\u001b[0;34m(\u001b[0m\u001b[0max\u001b[0m\u001b[0;34m)\u001b[0m\u001b[0;34m\u001b[0m\u001b[0;34m\u001b[0m\u001b[0m\n\u001b[1;32m   1422\u001b[0m         \u001b[0mself\u001b[0m\u001b[0;34m.\u001b[0m\u001b[0mannotate_axes\u001b[0m\u001b[0;34m(\u001b[0m\u001b[0max\u001b[0m\u001b[0;34m)\u001b[0m\u001b[0;34m\u001b[0m\u001b[0;34m\u001b[0m\u001b[0m\n",
            "\u001b[0;32m/usr/local/lib/python3.7/dist-packages/seaborn/categorical.py\u001b[0m in \u001b[0;36mdraw_swarmplot\u001b[0;34m(self, ax, kws)\u001b[0m\n\u001b[1;32m   1363\u001b[0m \u001b[0;34m\u001b[0m\u001b[0m\n\u001b[1;32m   1364\u001b[0m                 \u001b[0mswarm_data\u001b[0m \u001b[0;34m=\u001b[0m \u001b[0mnp\u001b[0m\u001b[0;34m.\u001b[0m\u001b[0masarray\u001b[0m\u001b[0;34m(\u001b[0m\u001b[0mgroup_data\u001b[0m\u001b[0;34m[\u001b[0m\u001b[0mhue_mask\u001b[0m\u001b[0;34m]\u001b[0m\u001b[0;34m)\u001b[0m\u001b[0;34m\u001b[0m\u001b[0;34m\u001b[0m\u001b[0m\n\u001b[0;32m-> 1365\u001b[0;31m                 \u001b[0mpoint_colors\u001b[0m \u001b[0;34m=\u001b[0m \u001b[0mnp\u001b[0m\u001b[0;34m.\u001b[0m\u001b[0masarray\u001b[0m\u001b[0;34m(\u001b[0m\u001b[0mself\u001b[0m\u001b[0;34m.\u001b[0m\u001b[0mpoint_colors\u001b[0m\u001b[0;34m[\u001b[0m\u001b[0mi\u001b[0m\u001b[0;34m]\u001b[0m\u001b[0;34m[\u001b[0m\u001b[0mhue_mask\u001b[0m\u001b[0;34m]\u001b[0m\u001b[0;34m)\u001b[0m\u001b[0;34m\u001b[0m\u001b[0;34m\u001b[0m\u001b[0m\n\u001b[0m\u001b[1;32m   1366\u001b[0m \u001b[0;34m\u001b[0m\u001b[0m\n\u001b[1;32m   1367\u001b[0m                 \u001b[0;31m# Sort the points for the beeswarm algorithm\u001b[0m\u001b[0;34m\u001b[0m\u001b[0;34m\u001b[0m\u001b[0;34m\u001b[0m\u001b[0m\n",
            "\u001b[0;32m/usr/local/lib/python3.7/dist-packages/seaborn/categorical.py\u001b[0m in \u001b[0;36mpoint_colors\u001b[0;34m(self)\u001b[0m\n\u001b[1;32m   1076\u001b[0m                     \u001b[0;31m# hue_color = self.colors[j]\u001b[0m\u001b[0;34m\u001b[0m\u001b[0;34m\u001b[0m\u001b[0;34m\u001b[0m\u001b[0m\n\u001b[1;32m   1077\u001b[0m                     \u001b[0;32mif\u001b[0m \u001b[0mgroup_data\u001b[0m\u001b[0;34m.\u001b[0m\u001b[0msize\u001b[0m\u001b[0;34m:\u001b[0m\u001b[0;34m\u001b[0m\u001b[0;34m\u001b[0m\u001b[0m\n\u001b[0;32m-> 1078\u001b[0;31m                         \u001b[0mgroup_colors\u001b[0m\u001b[0;34m[\u001b[0m\u001b[0mself\u001b[0m\u001b[0;34m.\u001b[0m\u001b[0mplot_hues\u001b[0m\u001b[0;34m[\u001b[0m\u001b[0mi\u001b[0m\u001b[0;34m]\u001b[0m \u001b[0;34m==\u001b[0m \u001b[0mlevel\u001b[0m\u001b[0;34m]\u001b[0m \u001b[0;34m=\u001b[0m \u001b[0mj\u001b[0m\u001b[0;34m\u001b[0m\u001b[0;34m\u001b[0m\u001b[0m\n\u001b[0m\u001b[1;32m   1079\u001b[0m \u001b[0;34m\u001b[0m\u001b[0m\n\u001b[1;32m   1080\u001b[0m             \u001b[0mpoint_colors\u001b[0m\u001b[0;34m.\u001b[0m\u001b[0mappend\u001b[0m\u001b[0;34m(\u001b[0m\u001b[0mgroup_colors\u001b[0m\u001b[0;34m)\u001b[0m\u001b[0;34m\u001b[0m\u001b[0;34m\u001b[0m\u001b[0m\n",
            "\u001b[0;32m/usr/local/lib/python3.7/dist-packages/pandas/core/series.py\u001b[0m in \u001b[0;36m__setitem__\u001b[0;34m(self, key, value)\u001b[0m\n\u001b[1;32m   1080\u001b[0m                 \u001b[0mkey\u001b[0m \u001b[0;34m=\u001b[0m \u001b[0mnp\u001b[0m\u001b[0;34m.\u001b[0m\u001b[0masarray\u001b[0m\u001b[0;34m(\u001b[0m\u001b[0mkey\u001b[0m\u001b[0;34m,\u001b[0m \u001b[0mdtype\u001b[0m\u001b[0;34m=\u001b[0m\u001b[0mbool\u001b[0m\u001b[0;34m)\u001b[0m\u001b[0;34m\u001b[0m\u001b[0;34m\u001b[0m\u001b[0m\n\u001b[1;32m   1081\u001b[0m                 \u001b[0;32mtry\u001b[0m\u001b[0;34m:\u001b[0m\u001b[0;34m\u001b[0m\u001b[0;34m\u001b[0m\u001b[0m\n\u001b[0;32m-> 1082\u001b[0;31m                     \u001b[0mself\u001b[0m\u001b[0;34m.\u001b[0m\u001b[0m_where\u001b[0m\u001b[0;34m(\u001b[0m\u001b[0;34m~\u001b[0m\u001b[0mkey\u001b[0m\u001b[0;34m,\u001b[0m \u001b[0mvalue\u001b[0m\u001b[0;34m,\u001b[0m \u001b[0minplace\u001b[0m\u001b[0;34m=\u001b[0m\u001b[0;32mTrue\u001b[0m\u001b[0;34m)\u001b[0m\u001b[0;34m\u001b[0m\u001b[0;34m\u001b[0m\u001b[0m\n\u001b[0m\u001b[1;32m   1083\u001b[0m                 \u001b[0;32mexcept\u001b[0m \u001b[0mInvalidIndexError\u001b[0m\u001b[0;34m:\u001b[0m\u001b[0;34m\u001b[0m\u001b[0;34m\u001b[0m\u001b[0m\n\u001b[1;32m   1084\u001b[0m                     \u001b[0mself\u001b[0m\u001b[0;34m.\u001b[0m\u001b[0miloc\u001b[0m\u001b[0;34m[\u001b[0m\u001b[0mkey\u001b[0m\u001b[0;34m]\u001b[0m \u001b[0;34m=\u001b[0m \u001b[0mvalue\u001b[0m\u001b[0;34m\u001b[0m\u001b[0;34m\u001b[0m\u001b[0m\n",
            "\u001b[0;32m/usr/local/lib/python3.7/dist-packages/pandas/core/generic.py\u001b[0m in \u001b[0;36m_where\u001b[0;34m(self, cond, other, inplace, axis, level, errors)\u001b[0m\n\u001b[1;32m   8866\u001b[0m \u001b[0;34m\u001b[0m\u001b[0m\n\u001b[1;32m   8867\u001b[0m             \u001b[0mself\u001b[0m\u001b[0;34m.\u001b[0m\u001b[0m_check_inplace_setting\u001b[0m\u001b[0;34m(\u001b[0m\u001b[0mother\u001b[0m\u001b[0;34m)\u001b[0m\u001b[0;34m\u001b[0m\u001b[0;34m\u001b[0m\u001b[0m\n\u001b[0;32m-> 8868\u001b[0;31m             \u001b[0mnew_data\u001b[0m \u001b[0;34m=\u001b[0m \u001b[0mself\u001b[0m\u001b[0;34m.\u001b[0m\u001b[0m_mgr\u001b[0m\u001b[0;34m.\u001b[0m\u001b[0mputmask\u001b[0m\u001b[0;34m(\u001b[0m\u001b[0mmask\u001b[0m\u001b[0;34m=\u001b[0m\u001b[0mcond\u001b[0m\u001b[0;34m,\u001b[0m \u001b[0mnew\u001b[0m\u001b[0;34m=\u001b[0m\u001b[0mother\u001b[0m\u001b[0;34m,\u001b[0m \u001b[0malign\u001b[0m\u001b[0;34m=\u001b[0m\u001b[0malign\u001b[0m\u001b[0;34m)\u001b[0m\u001b[0;34m\u001b[0m\u001b[0;34m\u001b[0m\u001b[0m\n\u001b[0m\u001b[1;32m   8869\u001b[0m             \u001b[0mresult\u001b[0m \u001b[0;34m=\u001b[0m \u001b[0mself\u001b[0m\u001b[0;34m.\u001b[0m\u001b[0m_constructor\u001b[0m\u001b[0;34m(\u001b[0m\u001b[0mnew_data\u001b[0m\u001b[0;34m)\u001b[0m\u001b[0;34m\u001b[0m\u001b[0;34m\u001b[0m\u001b[0m\n\u001b[1;32m   8870\u001b[0m             \u001b[0;32mreturn\u001b[0m \u001b[0mself\u001b[0m\u001b[0;34m.\u001b[0m\u001b[0m_update_inplace\u001b[0m\u001b[0;34m(\u001b[0m\u001b[0mresult\u001b[0m\u001b[0;34m)\u001b[0m\u001b[0;34m\u001b[0m\u001b[0;34m\u001b[0m\u001b[0m\n",
            "\u001b[0;32m/usr/local/lib/python3.7/dist-packages/pandas/core/internals/managers.py\u001b[0m in \u001b[0;36mputmask\u001b[0;34m(self, mask, new, align)\u001b[0m\n\u001b[1;32m    367\u001b[0m             \u001b[0malign_keys\u001b[0m\u001b[0;34m=\u001b[0m\u001b[0malign_keys\u001b[0m\u001b[0;34m,\u001b[0m\u001b[0;34m\u001b[0m\u001b[0;34m\u001b[0m\u001b[0m\n\u001b[1;32m    368\u001b[0m             \u001b[0mmask\u001b[0m\u001b[0;34m=\u001b[0m\u001b[0mmask\u001b[0m\u001b[0;34m,\u001b[0m\u001b[0;34m\u001b[0m\u001b[0;34m\u001b[0m\u001b[0m\n\u001b[0;32m--> 369\u001b[0;31m             \u001b[0mnew\u001b[0m\u001b[0;34m=\u001b[0m\u001b[0mnew\u001b[0m\u001b[0;34m,\u001b[0m\u001b[0;34m\u001b[0m\u001b[0;34m\u001b[0m\u001b[0m\n\u001b[0m\u001b[1;32m    370\u001b[0m         )\n\u001b[1;32m    371\u001b[0m \u001b[0;34m\u001b[0m\u001b[0m\n",
            "\u001b[0;32m/usr/local/lib/python3.7/dist-packages/pandas/core/internals/managers.py\u001b[0m in \u001b[0;36mapply\u001b[0;34m(self, f, align_keys, ignore_failures, **kwargs)\u001b[0m\n\u001b[1;32m    325\u001b[0m                     \u001b[0mapplied\u001b[0m \u001b[0;34m=\u001b[0m \u001b[0mb\u001b[0m\u001b[0;34m.\u001b[0m\u001b[0mapply\u001b[0m\u001b[0;34m(\u001b[0m\u001b[0mf\u001b[0m\u001b[0;34m,\u001b[0m \u001b[0;34m**\u001b[0m\u001b[0mkwargs\u001b[0m\u001b[0;34m)\u001b[0m\u001b[0;34m\u001b[0m\u001b[0;34m\u001b[0m\u001b[0m\n\u001b[1;32m    326\u001b[0m                 \u001b[0;32melse\u001b[0m\u001b[0;34m:\u001b[0m\u001b[0;34m\u001b[0m\u001b[0;34m\u001b[0m\u001b[0m\n\u001b[0;32m--> 327\u001b[0;31m                     \u001b[0mapplied\u001b[0m \u001b[0;34m=\u001b[0m \u001b[0mgetattr\u001b[0m\u001b[0;34m(\u001b[0m\u001b[0mb\u001b[0m\u001b[0;34m,\u001b[0m \u001b[0mf\u001b[0m\u001b[0;34m)\u001b[0m\u001b[0;34m(\u001b[0m\u001b[0;34m**\u001b[0m\u001b[0mkwargs\u001b[0m\u001b[0;34m)\u001b[0m\u001b[0;34m\u001b[0m\u001b[0;34m\u001b[0m\u001b[0m\n\u001b[0m\u001b[1;32m    328\u001b[0m             \u001b[0;32mexcept\u001b[0m \u001b[0;34m(\u001b[0m\u001b[0mTypeError\u001b[0m\u001b[0;34m,\u001b[0m \u001b[0mNotImplementedError\u001b[0m\u001b[0;34m)\u001b[0m\u001b[0;34m:\u001b[0m\u001b[0;34m\u001b[0m\u001b[0;34m\u001b[0m\u001b[0m\n\u001b[1;32m    329\u001b[0m                 \u001b[0;32mif\u001b[0m \u001b[0;32mnot\u001b[0m \u001b[0mignore_failures\u001b[0m\u001b[0;34m:\u001b[0m\u001b[0;34m\u001b[0m\u001b[0;34m\u001b[0m\u001b[0m\n",
            "\u001b[0;32m/usr/local/lib/python3.7/dist-packages/pandas/core/internals/blocks.py\u001b[0m in \u001b[0;36mputmask\u001b[0;34m(self, mask, new)\u001b[0m\n\u001b[1;32m   1016\u001b[0m             \u001b[0;31m# error: Argument 1 to \"putmask_without_repeat\" has incompatible type\u001b[0m\u001b[0;34m\u001b[0m\u001b[0;34m\u001b[0m\u001b[0;34m\u001b[0m\u001b[0m\n\u001b[1;32m   1017\u001b[0m             \u001b[0;31m# \"Union[ndarray, ExtensionArray]\"; expected \"ndarray\"\u001b[0m\u001b[0;34m\u001b[0m\u001b[0;34m\u001b[0m\u001b[0;34m\u001b[0m\u001b[0m\n\u001b[0;32m-> 1018\u001b[0;31m             \u001b[0mputmask_without_repeat\u001b[0m\u001b[0;34m(\u001b[0m\u001b[0mself\u001b[0m\u001b[0;34m.\u001b[0m\u001b[0mvalues\u001b[0m\u001b[0;34m.\u001b[0m\u001b[0mT\u001b[0m\u001b[0;34m,\u001b[0m \u001b[0mmask\u001b[0m\u001b[0;34m,\u001b[0m \u001b[0mnew\u001b[0m\u001b[0;34m)\u001b[0m  \u001b[0;31m# type: ignore[arg-type]\u001b[0m\u001b[0;34m\u001b[0m\u001b[0;34m\u001b[0m\u001b[0m\n\u001b[0m\u001b[1;32m   1019\u001b[0m             \u001b[0;32mreturn\u001b[0m \u001b[0;34m[\u001b[0m\u001b[0mself\u001b[0m\u001b[0;34m]\u001b[0m\u001b[0;34m\u001b[0m\u001b[0;34m\u001b[0m\u001b[0m\n\u001b[1;32m   1020\u001b[0m \u001b[0;34m\u001b[0m\u001b[0m\n",
            "\u001b[0;32m/usr/local/lib/python3.7/dist-packages/pandas/core/array_algos/putmask.py\u001b[0m in \u001b[0;36mputmask_without_repeat\u001b[0;34m(values, mask, new)\u001b[0m\n\u001b[1;32m    174\u001b[0m             \u001b[0;32mraise\u001b[0m \u001b[0mValueError\u001b[0m\u001b[0;34m(\u001b[0m\u001b[0;34m\"cannot assign mismatch length to masked array\"\u001b[0m\u001b[0;34m)\u001b[0m\u001b[0;34m\u001b[0m\u001b[0;34m\u001b[0m\u001b[0m\n\u001b[1;32m    175\u001b[0m     \u001b[0;32melse\u001b[0m\u001b[0;34m:\u001b[0m\u001b[0;34m\u001b[0m\u001b[0;34m\u001b[0m\u001b[0m\n\u001b[0;32m--> 176\u001b[0;31m         \u001b[0mnp\u001b[0m\u001b[0;34m.\u001b[0m\u001b[0mputmask\u001b[0m\u001b[0;34m(\u001b[0m\u001b[0mvalues\u001b[0m\u001b[0;34m,\u001b[0m \u001b[0mmask\u001b[0m\u001b[0;34m,\u001b[0m \u001b[0mnew\u001b[0m\u001b[0;34m)\u001b[0m\u001b[0;34m\u001b[0m\u001b[0;34m\u001b[0m\u001b[0m\n\u001b[0m\u001b[1;32m    177\u001b[0m \u001b[0;34m\u001b[0m\u001b[0m\n\u001b[1;32m    178\u001b[0m \u001b[0;34m\u001b[0m\u001b[0m\n",
            "\u001b[0;32m<__array_function__ internals>\u001b[0m in \u001b[0;36mputmask\u001b[0;34m(*args, **kwargs)\u001b[0m\n",
            "\u001b[0;31mKeyboardInterrupt\u001b[0m: "
          ]
        },
        {
          "output_type": "display_data",
          "data": {
            "text/plain": [
              "<Figure size 1800x504 with 4 Axes>"
            ],
            "image/png": "[encoded data removed]"
          },
          "metadata": {
            "needs_background": "light"
          }
        },
        {
          "output_type": "display_data",
          "data": {
            "text/plain": [
              "<Figure size 360x360 with 1 Axes>"
            ],
            "image/png": "[encoded data removed]"
          },
          "metadata": {
            "needs_background": "light"
          }
        }
      ]
    },
    {
      "cell_type": "code",
      "source": [
        ""
      ],
      "metadata": {
        "id": "4KUUHDPf2oqZ"
      },
      "execution_count": null,
      "outputs": []
    }
  ]
}